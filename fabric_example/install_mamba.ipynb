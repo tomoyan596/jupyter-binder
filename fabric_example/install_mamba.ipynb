{
 "cells": [
  {
   "cell_type": "markdown",
   "id": "7245e8f7-82bd-425f-b766-df8f8b4c367d",
   "metadata": {},
   "source": [
    "# 前提環境\n",
    "\n",
    "公式: https://mamba.readthedocs.io/\n",
    "\n",
    "Fabric のインストール"
   ]
  },
  {
   "cell_type": "code",
   "execution_count": 2,
   "id": "b08ec452-cc63-4ec4-b1ce-8ed8019d528c",
   "metadata": {
    "scrolled": true,
    "tags": []
   },
   "outputs": [
    {
     "name": "stdout",
     "output_type": "stream",
     "text": [
      "Collecting fabric\n",
      "  Downloading fabric-3.0.0-py3-none-any.whl (53 kB)\n",
      "\u001b[2K     \u001b[90m━━━━━━━━━━━━━━━━━━━━━━━━━━━━━━━━━━━━━━━━\u001b[0m \u001b[32m53.3/53.3 kB\u001b[0m \u001b[31m2.0 MB/s\u001b[0m eta \u001b[36m0:00:00\u001b[0m\n",
      "\u001b[?25hCollecting invoke>=2.0\n",
      "  Downloading invoke-2.0.0-py3-none-any.whl (162 kB)\n",
      "\u001b[2K     \u001b[90m━━━━━━━━━━━━━━━━━━━━━━━━━━━━━━━━━━━━━━━\u001b[0m \u001b[32m162.2/162.2 kB\u001b[0m \u001b[31m5.6 MB/s\u001b[0m eta \u001b[36m0:00:00\u001b[0m\n",
      "\u001b[?25hCollecting paramiko>=2.4\n",
      "  Downloading paramiko-3.1.0-py3-none-any.whl (211 kB)\n",
      "\u001b[2K     \u001b[90m━━━━━━━━━━━━━━━━━━━━━━━━━━━━━━━━━━━━━━\u001b[0m \u001b[32m211.2/211.2 kB\u001b[0m \u001b[31m11.3 MB/s\u001b[0m eta \u001b[36m0:00:00\u001b[0m\n",
      "\u001b[?25hCollecting bcrypt>=3.2\n",
      "  Downloading bcrypt-4.0.1-cp36-abi3-manylinux_2_28_x86_64.whl (593 kB)\n",
      "\u001b[2K     \u001b[90m━━━━━━━━━━━━━━━━━━━━━━━━━━━━━━━━━━━━━━\u001b[0m \u001b[32m593.7/593.7 kB\u001b[0m \u001b[31m11.3 MB/s\u001b[0m eta \u001b[36m0:00:00\u001b[0ma \u001b[36m0:00:01\u001b[0m\n",
      "\u001b[?25hCollecting cryptography>=3.3\n",
      "  Downloading cryptography-40.0.2-cp36-abi3-manylinux_2_28_x86_64.whl (3.7 MB)\n",
      "\u001b[2K     \u001b[90m━━━━━━━━━━━━━━━━━━━━━━━━━━━━━━━━━━━━━━━━\u001b[0m \u001b[32m3.7/3.7 MB\u001b[0m \u001b[31m11.2 MB/s\u001b[0m eta \u001b[36m0:00:00\u001b[0m \u001b[36m0:00:01\u001b[0mm\n",
      "\u001b[?25hCollecting pynacl>=1.5\n",
      "  Downloading PyNaCl-1.5.0-cp36-abi3-manylinux_2_17_x86_64.manylinux2014_x86_64.manylinux_2_24_x86_64.whl (856 kB)\n",
      "\u001b[2K     \u001b[90m━━━━━━━━━━━━━━━━━━━━━━━━━━━━━━━━━━━━━━\u001b[0m \u001b[32m856.7/856.7 kB\u001b[0m \u001b[31m11.0 MB/s\u001b[0m eta \u001b[36m0:00:00\u001b[0m00:01\u001b[0m00:01\u001b[0m\n",
      "\u001b[?25hRequirement already satisfied: cffi>=1.12 in /home/tomoyan/pyJupyterLab/lib64/python3.11/site-packages (from cryptography>=3.3->paramiko>=2.4->fabric) (1.15.1)\n",
      "Requirement already satisfied: pycparser in /home/tomoyan/pyJupyterLab/lib64/python3.11/site-packages (from cffi>=1.12->cryptography>=3.3->paramiko>=2.4->fabric) (2.21)\n",
      "Installing collected packages: invoke, bcrypt, pynacl, cryptography, paramiko, fabric\n",
      "Successfully installed bcrypt-4.0.1 cryptography-40.0.2 fabric-3.0.0 invoke-2.0.0 paramiko-3.1.0 pynacl-1.5.0\n",
      "\n",
      "\u001b[1m[\u001b[0m\u001b[34;49mnotice\u001b[0m\u001b[1;39;49m]\u001b[0m\u001b[39;49m A new release of pip is available: \u001b[0m\u001b[31;49m23.0.1\u001b[0m\u001b[39;49m -> \u001b[0m\u001b[32;49m23.1.1\u001b[0m\n",
      "\u001b[1m[\u001b[0m\u001b[34;49mnotice\u001b[0m\u001b[1;39;49m]\u001b[0m\u001b[39;49m To update, run: \u001b[0m\u001b[32;49mpip install --upgrade pip\u001b[0m\n"
     ]
    }
   ],
   "source": [
    "!pip install fabric"
   ]
  },
  {
   "cell_type": "markdown",
   "id": "ab0b4600-4434-4f7c-b9de-4d58704d1241",
   "metadata": {
    "tags": []
   },
   "source": [
    "## Fabric ローカル実行"
   ]
  },
  {
   "cell_type": "code",
   "execution_count": 32,
   "id": "f59060d4-81c3-43b2-bc6e-b4cceb11e664",
   "metadata": {
    "tags": []
   },
   "outputs": [
    {
     "name": "stdout",
     "output_type": "stream",
     "text": [
      "=== fabfile.main.CheckInstallation()\n",
      "--> shutil.which: None\n"
     ]
    },
    {
     "data": {
      "text/plain": [
       "False"
      ]
     },
     "execution_count": 32,
     "metadata": {},
     "output_type": "execute_result"
    }
   ],
   "source": [
    "from fabric import task\n",
    "from invoke.context import Context\n",
    "import shutil\n",
    "\n",
    "@task\n",
    "def CheckInstallation(c, command):\n",
    "    result = shutil.which(command)\n",
    "    print('=== fabfile.main.CheckInstallation()')\n",
    "    print(f'--> shutil.which: {result}')\n",
    "    \n",
    "    return not result is None\n",
    "\n",
    "CheckInstallation(Context(), 'rustup')"
   ]
  },
  {
   "cell_type": "markdown",
   "id": "27cab857-c077-48dd-b306-a9984167ae49",
   "metadata": {
    "tags": []
   },
   "source": [
    "## Mamba のインストール"
   ]
  },
  {
   "cell_type": "code",
   "execution_count": 1,
   "id": "f59ec5ec-b69d-4ff6-892b-609f6d89b96f",
   "metadata": {},
   "outputs": [
    {
     "name": "stdout",
     "output_type": "stream",
     "text": [
      "/home/tomoyan/my_projects/jupyter-binder/fabric_example\n"
     ]
    }
   ],
   "source": [
    "!pwd"
   ]
  },
  {
   "cell_type": "code",
   "execution_count": 8,
   "id": "fe91d3a8-f2e4-4f9b-9f19-48cfdcb12f2f",
   "metadata": {
    "collapsed": true,
    "jupyter": {
     "outputs_hidden": true
    },
    "tags": []
   },
   "outputs": [
    {
     "name": "stdout",
     "output_type": "stream",
     "text": [
      "Overwriting ./fabfile/install_mamba.py\n"
     ]
    }
   ],
   "source": [
    "%%file ./fabfile/install_mamba.py\n",
    "from fabric import task\n",
    "from invoke.watchers import Responder\n",
    "\n",
    "from . import CheckInstallation, tmux_run\n",
    "\n",
    "@task\n",
    "@tmux_run\n",
    "def Mamba_CheckInstalled(c):\n",
    "    return CheckInstallation(c, 'micromamba')\n",
    "\n",
    "@task\n",
    "@tmux_run\n",
    "def Mamba_Install(c):\n",
    "    if Mamba_CheckInstalled(c):\n",
    "        print('Mamba はインストール済みです😉');\n",
    "        return False\n",
    "    \n",
    "    enterResponder = Responder(\n",
    "        pattern=r'\\n>',\n",
    "        response='\\n'\n",
    "    )\n",
    "    result = c.run(\n",
    "        # install.sh が shell を判定するので | bash である必要がある🤔\n",
    "        #\"curl --proto '=https' --tlsv1.2 -sSf https://micro.mamba.pm/install.sh | sh\",\n",
    "        \"curl --proto '=https' --tlsv1.2 -sSf https://micro.mamba.pm/install.sh | bash\",\n",
    "        echo=True, hide=False, pty=True,\n",
    "        watchers=[enterResponder]\n",
    "    )\n",
    "    #print(result.stdout.strip())\n",
    "\n",
    "@task\n",
    "@tmux_run\n",
    "def Mamba_Uninstall(c):\n",
    "    if not Mamba_CheckInstalled(c):\n",
    "        print('Mamba はインストールされていません🤔');\n",
    "        return False\n",
    "    \n",
    "    yesResponder = Responder(\n",
    "        pattern=r'Continue\\? \\(y/N\\)',\n",
    "        response='y\\n'\n",
    "    )\n",
    "    result = c.run(\n",
    "        \"rustup self uninstall\",\n",
    "        echo=True, pty=True,\n",
    "        watchers=[yesResponder])\n"
   ]
  },
  {
   "cell_type": "code",
   "execution_count": 1,
   "id": "8828d132-386e-48a9-9152-e813e64c2014",
   "metadata": {},
   "outputs": [
    {
     "name": "stdout",
     "output_type": "stream",
     "text": [
      "/bin/bash: 行 1: fab: コマンドが見つかりません\n"
     ]
    }
   ],
   "source": [
    "!fab --list"
   ]
  },
  {
   "cell_type": "code",
   "execution_count": 9,
   "id": "be4b89f7-bc90-48fe-a318-3534e6e139e3",
   "metadata": {},
   "outputs": [
    {
     "name": "stdout",
     "output_type": "stream",
     "text": [
      "=== fabfile.main.CheckInstallation()\n",
      "--> shutil.which(micromamba): /home/tomoyan/.local/bin/micromamba\n"
     ]
    }
   ],
   "source": [
    "!fab Mamba-CheckInstalled --debug"
   ]
  },
  {
   "cell_type": "code",
   "execution_count": 4,
   "id": "a50e1227-bf5d-4b36-ab73-c560f86cd68a",
   "metadata": {},
   "outputs": [
    {
     "name": "stdout",
     "output_type": "stream",
     "text": [
      "=== fabfile.main.CheckInstallation()\n",
      "--> shutil.which(micromamba): None\n",
      "\u001b[1;37mcurl --proto '=https' --tlsv1.2 -sSf https://micro.mamba.pm/install.sh | bash\u001b[0m\n",
      "bin/micromamba\n",
      "Modifying RC file \"/home/tomoyan/.bashrc\"\n",
      "Generating config for root prefix \u001b[1m\"/home/tomoyan/micromamba\"\u001b[0m\n",
      "Setting mamba executable to: \u001b[1m\"/home/tomoyan/.local/bin/micromamba\"\u001b[0m\n",
      "Adding (or replacing) the following in your \"/home/tomoyan/.bashrc\" file\n",
      "\u001b[32m\n",
      "# >>> mamba initialize >>>\n",
      "# !! Contents within this block are managed by 'mamba init' !!\n",
      "export MAMBA_EXE=\"/home/tomoyan/.local/bin/micromamba\";\n",
      "export MAMBA_ROOT_PREFIX=\"/home/tomoyan/micromamba\";\n",
      "__mamba_setup=\"$(\"$MAMBA_EXE\" shell hook --shell bash --prefix \"$MAMBA_ROOT_PREFIX\" 2> /dev/null)\"\n",
      "if [ $? -eq 0 ]; then\n",
      "    eval \"$__mamba_setup\"\n",
      "else\n",
      "    if [ -f \"/home/tomoyan/micromamba/etc/profile.d/micromamba.sh\" ]; then\n",
      "        . \"/home/tomoyan/micromamba/etc/profile.d/micromamba.sh\"\n",
      "    else\n",
      "        export  PATH=\"/home/tomoyan/micromamba/bin:$PATH\"  # extra space after export prevents interference from conda init\n",
      "    fi\n",
      "fi\n",
      "unset __mamba_setup\n",
      "# <<< mamba initialize <<<\n",
      "\u001b[0m\n"
     ]
    }
   ],
   "source": [
    "!fab Mamba-Install --debug"
   ]
  },
  {
   "cell_type": "markdown",
   "id": "f4bdfaae-c664-47d3-9edb-7786b685a3c3",
   "metadata": {},
   "source": [
    "## micromamba の動作確認"
   ]
  },
  {
   "cell_type": "code",
   "execution_count": 11,
   "id": "f59c7d0f-91a1-4b91-8932-32349dde61d0",
   "metadata": {
    "tags": []
   },
   "outputs": [
    {
     "name": "stdout",
     "output_type": "stream",
     "text": [
      "1.4.2\n"
     ]
    }
   ],
   "source": [
    "!micromamba --version"
   ]
  },
  {
   "cell_type": "code",
   "execution_count": 10,
   "id": "e65fb821-9f88-4ba5-87ec-228d0fa60005",
   "metadata": {
    "collapsed": true,
    "jupyter": {
     "outputs_hidden": true
    },
    "tags": []
   },
   "outputs": [
    {
     "name": "stdout",
     "output_type": "stream",
     "text": [
      "Version: 1.4.2\n",
      "\n",
      "Usage: micromamba [OPTIONS] [SUBCOMMAND]\n",
      "\n",
      "Options:\n",
      "  -h,--help                   Print this help message and exit\n",
      "  --version                   \n",
      "\n",
      "\n",
      "Configuration options:\n",
      "  --rc-file TEXT ...          Paths to the configuration files to use\n",
      "  --no-rc                     Disable the use of configuration files\n",
      "  --no-env                    Disable the use of environment variables\n",
      "\n",
      "\n",
      "Global options:\n",
      "  -v,--verbose                Set verbosity (higher verbosity with multiple -v, e.g. -vvv)\n",
      "  --log-level ENUM:value in {critical->5,debug->1,error->4,info->2,off->6,trace->0,warning->3} OR {5,1,4,2,6,0,3}\n",
      "                              Set the log level\n",
      "  -q,--quiet                  Set quiet mode (print less output)\n",
      "  -y,--yes                    Automatically answer yes on prompted questions\n",
      "  --json                      Report all output as json\n",
      "  --offline                   Force use cached repodata\n",
      "  --dry-run                   Only display what would have been done\n",
      "  --download-only             Only download and extract packages, do not link them into environment.\n",
      "  --experimental              Enable experimental features\n",
      "\n",
      "\n",
      "Prefix options:\n",
      "  -r,--root-prefix TEXT       Path to the root prefix\n",
      "  -p,--prefix TEXT            Path to the target prefix\n",
      "  --relocate-prefix TEXT      Path to the relocation prefix\n",
      "  -n,--name TEXT              Name of the target prefix\n",
      "\n",
      "Subcommands:\n",
      "  shell                       Generate shell init scripts\n",
      "  create                      Create new environment\n",
      "  install                     Install packages in active environment\n",
      "  update                      Update packages in active environment\n",
      "  self-update                 Update micromamba\n",
      "  repoquery                   Find and analyze packages in active environment or channels\n",
      "  remove                      Remove packages from active environment\n",
      "  list                        List packages in active environment\n",
      "  package                     Extract a package or bundle files into an archive\n",
      "  clean                       Clean package cache\n",
      "  config                      Configuration of micromamba\n",
      "  info                        Information about micromamba\n",
      "  constructor                 Commands to support using micromamba in constructor\n",
      "  env                         List environments\n",
      "  activate                    Activate an environment\n",
      "  run                         Run an executable in an environment\n",
      "  ps                          Show, inspect or kill running processes\n",
      "  auth                        Login or logout of a given host\n",
      "  search                      Find packages in active environment or channels\n"
     ]
    }
   ],
   "source": [
    "!micromamba --help"
   ]
  },
  {
   "cell_type": "markdown",
   "id": "1b53813c-be6b-4c1d-ac21-c9d826a5f5eb",
   "metadata": {},
   "source": [
    "## Mamba のアンインストール"
   ]
  },
  {
   "cell_type": "code",
   "execution_count": 38,
   "id": "66a772b4-3f85-4612-ba7c-2b7b47332023",
   "metadata": {
    "tags": []
   },
   "outputs": [
    {
     "name": "stdout",
     "output_type": "stream",
     "text": [
      "which: None\n",
      "Rust はインストールされていません🤔\n"
     ]
    }
   ],
   "source": [
    "!fab Rust-Uninstall"
   ]
  },
  {
   "cell_type": "markdown",
   "id": "10729d72-8ffe-4f63-828d-fa8ea305b038",
   "metadata": {},
   "source": [
    "# 参考文献\n",
    "https://docs.pyinvoke.org/en/stable/concepts/watchers.html<br>\n",
    "https://blog.masu-mi.me/post/2021/02/14/catch-up-fabric2/<br>\n",
    "https://docs.python.org/ja/3/library/inspect.html<br>\n",
    "https://stackoverflow.com/questions/26515595/how-does-one-ignore-unexpected-keyword-arguments-passed-to-a-function<br>"
   ]
  }
 ],
 "metadata": {
  "kernelspec": {
   "display_name": "Python 3 (ipykernel)",
   "language": "python",
   "name": "python3"
  },
  "language_info": {
   "codemirror_mode": {
    "name": "ipython",
    "version": 3
   },
   "file_extension": ".py",
   "mimetype": "text/x-python",
   "name": "python",
   "nbconvert_exporter": "python",
   "pygments_lexer": "ipython3",
   "version": "3.11.2"
  }
 },
 "nbformat": 4,
 "nbformat_minor": 5
}
