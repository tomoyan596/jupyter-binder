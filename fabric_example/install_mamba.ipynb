{
 "cells": [
  {
   "cell_type": "markdown",
   "id": "7245e8f7-82bd-425f-b766-df8f8b4c367d",
   "metadata": {},
   "source": [
    "# 前提環境\n",
    "\n",
    "公式: https://mamba.readthedocs.io/\n",
    "\n",
    "Fabric のインストール"
   ]
  },
  {
   "cell_type": "code",
   "execution_count": 4,
   "id": "b08ec452-cc63-4ec4-b1ce-8ed8019d528c",
   "metadata": {
    "collapsed": true,
    "jupyter": {
     "outputs_hidden": true
    },
    "tags": []
   },
   "outputs": [
    {
     "name": "stdout",
     "output_type": "stream",
     "text": [
      "Collecting fabric\n",
      "  Downloading fabric-3.0.0-py3-none-any.whl (53 kB)\n",
      "\u001b[2K     \u001b[38;2;114;156;31m━━━━━━━━━━━━━━━━━━━━━━━━━━━━━━━━━━━━━━━\u001b[0m \u001b[32m53.3/53.3 kB\u001b[0m \u001b[31m555.3 kB/s\u001b[0m eta \u001b[36m0:00:00\u001b[0m1m639.1 kB/s\u001b[0m eta \u001b[36m0:00:01\u001b[0m\n",
      "\u001b[?25hCollecting invoke>=2.0\n",
      "  Downloading invoke-2.0.0-py3-none-any.whl (162 kB)\n",
      "\u001b[2K     \u001b[38;2;114;156;31m━━━━━━━━━━━━━━━━━━━━━━━━━━━━━━━━━━━━━━━\u001b[0m \u001b[32m162.2/162.2 kB\u001b[0m \u001b[31m1.1 MB/s\u001b[0m eta \u001b[36m0:00:00\u001b[0m MB/s\u001b[0m eta \u001b[36m0:00:01\u001b[0m\n",
      "\u001b[?25hCollecting paramiko>=2.4\n",
      "  Downloading paramiko-3.1.0-py3-none-any.whl (211 kB)\n",
      "\u001b[2K     \u001b[38;2;114;156;31m━━━━━━━━━━━━━━━━━━━━━━━━━━━━━━━━━━━━━\u001b[0m \u001b[32m211.2/211.2 kB\u001b[0m \u001b[31m756.5 kB/s\u001b[0m eta \u001b[36m0:00:00\u001b[0m kB/s\u001b[0m eta \u001b[36m0:00:01\u001b[0m:01\u001b[0m\n",
      "\u001b[?25hCollecting bcrypt>=3.2\n",
      "  Downloading bcrypt-4.0.1-cp36-abi3-manylinux_2_28_x86_64.whl (593 kB)\n",
      "\u001b[2K     \u001b[38;2;114;156;31m━━━━━━━━━━━━━━━━━━━━━━━━━━━━━━━━━━━━━━━\u001b[0m \u001b[32m593.7/593.7 kB\u001b[0m \u001b[31m1.5 MB/s\u001b[0m eta \u001b[36m0:00:00\u001b[0m[31m1.4 MB/s\u001b[0m eta \u001b[36m0:00:01\u001b[0m\n",
      "\u001b[?25hCollecting cryptography>=3.3\n",
      "  Downloading cryptography-40.0.1-cp36-abi3-manylinux_2_28_x86_64.whl (3.7 MB)\n",
      "\u001b[2K     \u001b[38;2;114;156;31m━━━━━━━━━━━━━━━━━━━━━━━━━━━━━━━━━━━━━━━━\u001b[0m \u001b[32m3.7/3.7 MB\u001b[0m \u001b[31m3.5 MB/s\u001b[0m eta \u001b[36m0:00:00\u001b[0m MB/s\u001b[0m eta \u001b[36m0:00:01\u001b[0m:01\u001b[0m\n",
      "\u001b[?25hCollecting pynacl>=1.5\n",
      "  Downloading PyNaCl-1.5.0-cp36-abi3-manylinux_2_17_x86_64.manylinux2014_x86_64.manylinux_2_24_x86_64.whl (856 kB)\n",
      "\u001b[2K     \u001b[38;2;114;156;31m━━━━━━━━━━━━━━━━━━━━━━━━━━━━━━━━━━━━━━━\u001b[0m \u001b[32m856.7/856.7 kB\u001b[0m \u001b[31m1.6 MB/s\u001b[0m eta \u001b[36m0:00:00\u001b[0m MB/s\u001b[0m eta \u001b[36m0:00:01\u001b[0m:01\u001b[0m\n",
      "\u001b[?25hCollecting cffi>=1.12\n",
      "  Downloading cffi-1.15.1-cp311-cp311-manylinux_2_17_x86_64.manylinux2014_x86_64.whl (462 kB)\n",
      "\u001b[2K     \u001b[38;2;114;156;31m━━━━━━━━━━━━━━━━━━━━━━━━━━━━━━━━━━━━━━━\u001b[0m \u001b[32m462.6/462.6 kB\u001b[0m \u001b[31m1.5 MB/s\u001b[0m eta \u001b[36m0:00:00\u001b[0m MB/s\u001b[0m eta \u001b[36m0:00:01\u001b[0m:01\u001b[0m\n",
      "\u001b[?25hCollecting pycparser\n",
      "  Downloading pycparser-2.21-py2.py3-none-any.whl (118 kB)\n",
      "\u001b[2K     \u001b[38;2;114;156;31m━━━━━━━━━━━━━━━━━━━━━━━━━━━━━━━━━━━━━━━\u001b[0m \u001b[32m118.7/118.7 kB\u001b[0m \u001b[31m2.2 MB/s\u001b[0m eta \u001b[36m0:00:00\u001b[0m[31m2.1 MB/s\u001b[0m eta \u001b[36m0:00:01\u001b[0m\n",
      "\u001b[?25hInstalling collected packages: pycparser, invoke, bcrypt, cffi, pynacl, cryptography, paramiko, fabric\n",
      "Successfully installed bcrypt-4.0.1 cffi-1.15.1 cryptography-40.0.1 fabric-3.0.0 invoke-2.0.0 paramiko-3.1.0 pycparser-2.21 pynacl-1.5.0\n"
     ]
    }
   ],
   "source": [
    "!pip install fabric"
   ]
  },
  {
   "cell_type": "markdown",
   "id": "ab0b4600-4434-4f7c-b9de-4d58704d1241",
   "metadata": {
    "tags": []
   },
   "source": [
    "## Fabric ローカル実行"
   ]
  },
  {
   "cell_type": "code",
   "execution_count": 32,
   "id": "f59060d4-81c3-43b2-bc6e-b4cceb11e664",
   "metadata": {
    "tags": []
   },
   "outputs": [
    {
     "name": "stdout",
     "output_type": "stream",
     "text": [
      "=== fabfile.main.CheckInstallation()\n",
      "--> shutil.which: None\n"
     ]
    },
    {
     "data": {
      "text/plain": [
       "False"
      ]
     },
     "execution_count": 32,
     "metadata": {},
     "output_type": "execute_result"
    }
   ],
   "source": [
    "from fabric import task\n",
    "from invoke.context import Context\n",
    "import shutil\n",
    "\n",
    "@task\n",
    "def CheckInstallation(c, command):\n",
    "    result = shutil.which(command)\n",
    "    print('=== fabfile.main.CheckInstallation()')\n",
    "    print(f'--> shutil.which: {result}')\n",
    "    \n",
    "    return not result is None\n",
    "\n",
    "CheckInstallation(Context(), 'rustup')"
   ]
  },
  {
   "cell_type": "markdown",
   "id": "a39416f3-8817-45f4-96fa-7d99b2baaa21",
   "metadata": {},
   "source": [
    "## Rust のインストール"
   ]
  },
  {
   "cell_type": "code",
   "execution_count": 1,
   "id": "f59ec5ec-b69d-4ff6-892b-609f6d89b96f",
   "metadata": {},
   "outputs": [
    {
     "name": "stdout",
     "output_type": "stream",
     "text": [
      "/home/tomoyan/my_projects/jupyter-binder/fabric_example\n"
     ]
    }
   ],
   "source": [
    "!pwd"
   ]
  },
  {
   "cell_type": "code",
   "execution_count": 35,
   "id": "fe91d3a8-f2e4-4f9b-9f19-48cfdcb12f2f",
   "metadata": {
    "tags": []
   },
   "outputs": [
    {
     "name": "stdout",
     "output_type": "stream",
     "text": [
      "Overwriting ./fabfile/install_mamba.py\n"
     ]
    }
   ],
   "source": [
    "%%file ./fabfile/install_mamba.py\n",
    "from fabric import task\n",
    "from invoke.watchers import Responder\n",
    "\n",
    "from . import CheckInstallation, tmux_run\n",
    "\n",
    "@task\n",
    "@tmux_run\n",
    "def Mamba_CheckInstalled(c):\n",
    "    result = CheckInstallation(c, 'rustup')\n",
    "    return result\n",
    "\n",
    "@task\n",
    "@tmux_run\n",
    "def Mamba_Install(c):\n",
    "    if Mamba_CheckInstalled(c):\n",
    "        print('Mamba はインストール済みです😉');\n",
    "        return False\n",
    "    \n",
    "    enterResponder = Responder(\n",
    "        pattern=r'\\n>',\n",
    "        response='\\n'\n",
    "    )\n",
    "    result = c.run(\n",
    "        # install.sh が shell を判定するので | bash である必要がある🤔\n",
    "        #\"curl --proto '=https' --tlsv1.2 -sSf https://micro.mamba.pm/install.sh | sh\",\n",
    "        \"curl --proto '=https' --tlsv1.2 -sSf https://micro.mamba.pm/install.sh | bash\",\n",
    "        hide=False, pty=True,\n",
    "        watchers=[enterResponder]\n",
    "    )\n",
    "    #print(result.stdout.strip())\n",
    "\n",
    "@task\n",
    "@tmux_run\n",
    "def Mamba_Uninstall(c):\n",
    "    if not Mamba_CheckInstalled(c):\n",
    "        print('Mamba はインストールされていません🤔');\n",
    "        return False\n",
    "    \n",
    "    yesResponder = Responder(\n",
    "        pattern=r'Continue\\? \\(y/N\\)',\n",
    "        response='y\\n'\n",
    "    )\n",
    "    result = c.run(\n",
    "        \"rustup self uninstall\",\n",
    "        pty=True,\n",
    "        watchers=[yesResponder])\n"
   ]
  },
  {
   "cell_type": "code",
   "execution_count": 3,
   "id": "8828d132-386e-48a9-9152-e813e64c2014",
   "metadata": {},
   "outputs": [
    {
     "name": "stdout",
     "output_type": "stream",
     "text": [
      "args: (<function Mamba_CheckInstalled at 0x7fac380f8d60>,), kwargs: {}\n",
      "args: (<function Mamba_Install at 0x7fac37f43420>,), kwargs: {}\n",
      "args: (<function Mamba_Uninstall at 0x7fac37f43560>,), kwargs: {}\n",
      "args: (<function Rust_CheckInstalled at 0x7fac37f034c0>,), kwargs: {}\n",
      "args: (<function Rust_Install at 0x7fac37f437e0>,), kwargs: {}\n",
      "args: (<function Rust_Uninstall at 0x7fac37f43a60>,), kwargs: {}\n",
      "args: (<function OLS_install at 0x7fac37f43d80>,), kwargs: {}\n",
      "args: (<function OLS_uninstall at 0x7fac37f43ce0>,), kwargs: {}\n",
      "Available tasks:\n",
      "\n",
      "  CheckInstallation\n",
      "  ConnectTmux\n",
      "  Mamba-CheckInstalled\n",
      "  Mamba-Install\n",
      "  Mamba-Uninstall\n",
      "  OLS-install\n",
      "  OLS-uninstall\n",
      "  Rust-CheckInstalled\n",
      "  Rust-Install\n",
      "  Rust-Uninstall\n",
      "\n"
     ]
    }
   ],
   "source": [
    "!fab --list"
   ]
  },
  {
   "cell_type": "code",
   "execution_count": null,
   "id": "be4b89f7-bc90-48fe-a318-3534e6e139e3",
   "metadata": {},
   "outputs": [
    {
     "name": "stdout",
     "output_type": "stream",
     "text": [
      "args: (<function Mamba_CheckInstalled at 0x7f92a7eece00>,), kwargs: {}\n",
      "args: (<function Mamba_Install at 0x7f92a7d6b600>,), kwargs: {}\n",
      "args: (<function Mamba_Uninstall at 0x7f92a7d6b740>,), kwargs: {}\n",
      "args: (<function Rust_CheckInstalled at 0x7f92a7d37560>,), kwargs: {}\n",
      "args: (<function Rust_Install at 0x7f92a7d6b9c0>,), kwargs: {}\n",
      "args: (<function Rust_Uninstall at 0x7f92a7d6bc40>,), kwargs: {}\n",
      "args: (<function OLS_install at 0x7f92a7d6bf60>,), kwargs: {}\n",
      "args: (<function OLS_uninstall at 0x7f92a7d6bec0>,), kwargs: {}\n",
      "\u001b7\u001b[?47h\u001b[?1h\u001b=\u001b[H\u001b[2J\u001b[?1000l\u001b[?1002l\u001b[?1003l\u001b[?1006l\u001b[?1005l\u001b[m\u001b[?1006l\u001b[?1000l\u001b[?1002l\u001b[?1003l\u001b[?2004l\u001b[1;1H\u001b[1;24r\u001b[>c\u001b[>q\u001b[9;39H\u001b[?2004h\u001b[H[tomoyan@WICKED-BEAT python_example]$ ^C\u001b[K\n",
      "[tomoyan@WICKED-BEAT python_example]$ \u001b[K\n",
      "[tomoyan@WICKED-BEAT python_example]$ ^C\u001b[K\n",
      "[tomoyan@WICKED-BEAT python_example]$ \u001b[K\n",
      "[tomoyan@WICKED-BEAT python_example]$ ^C\u001b[K\n",
      "[tomoyan@WICKED-BEAT python_example]$ \u001b[K\n",
      "[tomoyan@WICKED-BEAT python_example]$ ^C\u001b[K\n",
      "[tomoyan@WICKED-BEAT python_example]$ \u001b[K\n",
      "[tomoyan@WICKED-BEAT python_example]$ \u001b[K\n",
      "\u001b[K\n",
      "\u001b[K\n",
      "\u001b[K\n",
      "\u001b[K\n",
      "\u001b[K\n",
      "\u001b[K\n",
      "\u001b[K\n",
      "\u001b[K\n",
      "\u001b[K\n",
      "\u001b[K\n",
      "\u001b[K\n",
      "\u001b[K\n",
      "\u001b[K\n",
      "\u001b[K\u001b[30m\u001b[42m\n",
      "[Fabric] 0:bash*                            [0,0] \"WICKED-BEAT\" 17:26 22- 4月-23\u001b[m\u001b[9;39H\u001b[m\u001b[?1006l\u001b[?1000l\u001b[?1002l\u001b[?1003l\u001b[?2004l\u001b[1;1H\u001b[1;24r\u001b[9;39H\u001b[?2004h\u001b[H[tomoyan@WICKED-BEAT python_example]$ ^C\u001b[K\n",
      "[tomoyan@WICKED-BEAT python_example]$ \u001b[K\n",
      "[tomoyan@WICKED-BEAT python_example]$ ^C\u001b[K\n",
      "[tomoyan@WICKED-BEAT python_example]$ \u001b[K\n",
      "[tomoyan@WICKED-BEAT python_example]$ ^C\u001b[K\n",
      "[tomoyan@WICKED-BEAT python_example]$ \u001b[K\n",
      "[tomoyan@WICKED-BEAT python_example]$ ^C\u001b[K\n",
      "[tomoyan@WICKED-BEAT python_example]$ \u001b[K\n",
      "[tomoyan@WICKED-BEAT python_example]$ \u001b[K\n",
      "\u001b[K\n",
      "\u001b[K\n",
      "\u001b[K\n",
      "\u001b[K\n",
      "\u001b[K\n",
      "\u001b[K\n",
      "\u001b[K\n",
      "\u001b[K\n",
      "\u001b[K\n",
      "\u001b[K\n",
      "\u001b[K\n",
      "\u001b[K\n",
      "\u001b[K\n",
      "\u001b[K\u001b[30m\u001b[42m\n",
      "[tomoyan@WICKED-BEAT python_example]$ \u001b[K         \"WICKED-BEAT\" 17:26 22- 4月-23\u001b[m\u001b[9;39H\u001b[?7727h"
     ]
    }
   ],
   "source": [
    "!fab Mamba-CheckInstalled --debug"
   ]
  },
  {
   "cell_type": "code",
   "execution_count": null,
   "id": "a50e1227-bf5d-4b36-ab73-c560f86cd68a",
   "metadata": {},
   "outputs": [],
   "source": [
    "!fab Mamba-Install --debug"
   ]
  },
  {
   "cell_type": "markdown",
   "id": "28f90a47-c57e-40a9-ab4a-d20da597e29b",
   "metadata": {},
   "source": [
    "## Rust のアンインストール"
   ]
  },
  {
   "cell_type": "code",
   "execution_count": 38,
   "id": "66a772b4-3f85-4612-ba7c-2b7b47332023",
   "metadata": {
    "tags": []
   },
   "outputs": [
    {
     "name": "stdout",
     "output_type": "stream",
     "text": [
      "which: None\n",
      "Rust はインストールされていません🤔\n"
     ]
    }
   ],
   "source": [
    "!fab Rust-Uninstall"
   ]
  },
  {
   "cell_type": "markdown",
   "id": "10729d72-8ffe-4f63-828d-fa8ea305b038",
   "metadata": {},
   "source": [
    "# 参考文献\n",
    "https://docs.pyinvoke.org/en/stable/concepts/watchers.html<br>\n",
    "https://blog.masu-mi.me/post/2021/02/14/catch-up-fabric2/<br>\n",
    "https://docs.python.org/ja/3/library/inspect.html<br>\n",
    "https://stackoverflow.com/questions/26515595/how-does-one-ignore-unexpected-keyword-arguments-passed-to-a-function<br>"
   ]
  }
 ],
 "metadata": {
  "kernelspec": {
   "display_name": "Python 3 (ipykernel)",
   "language": "python",
   "name": "python3"
  },
  "language_info": {
   "codemirror_mode": {
    "name": "ipython",
    "version": 3
   },
   "file_extension": ".py",
   "mimetype": "text/x-python",
   "name": "python",
   "nbconvert_exporter": "python",
   "pygments_lexer": "ipython3",
   "version": "3.11.2"
  }
 },
 "nbformat": 4,
 "nbformat_minor": 5
}
