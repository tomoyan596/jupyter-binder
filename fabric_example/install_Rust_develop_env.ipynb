{
 "cells": [
  {
   "cell_type": "markdown",
   "id": "7245e8f7-82bd-425f-b766-df8f8b4c367d",
   "metadata": {},
   "source": [
    "# 前提環境\n",
    "Fabric のインストール"
   ]
  },
  {
   "cell_type": "code",
   "execution_count": 4,
   "id": "b08ec452-cc63-4ec4-b1ce-8ed8019d528c",
   "metadata": {
    "collapsed": true,
    "jupyter": {
     "outputs_hidden": true
    },
    "tags": []
   },
   "outputs": [
    {
     "name": "stdout",
     "output_type": "stream",
     "text": [
      "Collecting fabric\n",
      "  Downloading fabric-3.0.0-py3-none-any.whl (53 kB)\n",
      "\u001b[2K     \u001b[38;2;114;156;31m━━━━━━━━━━━━━━━━━━━━━━━━━━━━━━━━━━━━━━━\u001b[0m \u001b[32m53.3/53.3 kB\u001b[0m \u001b[31m555.3 kB/s\u001b[0m eta \u001b[36m0:00:00\u001b[0m1m639.1 kB/s\u001b[0m eta \u001b[36m0:00:01\u001b[0m\n",
      "\u001b[?25hCollecting invoke>=2.0\n",
      "  Downloading invoke-2.0.0-py3-none-any.whl (162 kB)\n",
      "\u001b[2K     \u001b[38;2;114;156;31m━━━━━━━━━━━━━━━━━━━━━━━━━━━━━━━━━━━━━━━\u001b[0m \u001b[32m162.2/162.2 kB\u001b[0m \u001b[31m1.1 MB/s\u001b[0m eta \u001b[36m0:00:00\u001b[0m MB/s\u001b[0m eta \u001b[36m0:00:01\u001b[0m\n",
      "\u001b[?25hCollecting paramiko>=2.4\n",
      "  Downloading paramiko-3.1.0-py3-none-any.whl (211 kB)\n",
      "\u001b[2K     \u001b[38;2;114;156;31m━━━━━━━━━━━━━━━━━━━━━━━━━━━━━━━━━━━━━\u001b[0m \u001b[32m211.2/211.2 kB\u001b[0m \u001b[31m756.5 kB/s\u001b[0m eta \u001b[36m0:00:00\u001b[0m kB/s\u001b[0m eta \u001b[36m0:00:01\u001b[0m:01\u001b[0m\n",
      "\u001b[?25hCollecting bcrypt>=3.2\n",
      "  Downloading bcrypt-4.0.1-cp36-abi3-manylinux_2_28_x86_64.whl (593 kB)\n",
      "\u001b[2K     \u001b[38;2;114;156;31m━━━━━━━━━━━━━━━━━━━━━━━━━━━━━━━━━━━━━━━\u001b[0m \u001b[32m593.7/593.7 kB\u001b[0m \u001b[31m1.5 MB/s\u001b[0m eta \u001b[36m0:00:00\u001b[0m[31m1.4 MB/s\u001b[0m eta \u001b[36m0:00:01\u001b[0m\n",
      "\u001b[?25hCollecting cryptography>=3.3\n",
      "  Downloading cryptography-40.0.1-cp36-abi3-manylinux_2_28_x86_64.whl (3.7 MB)\n",
      "\u001b[2K     \u001b[38;2;114;156;31m━━━━━━━━━━━━━━━━━━━━━━━━━━━━━━━━━━━━━━━━\u001b[0m \u001b[32m3.7/3.7 MB\u001b[0m \u001b[31m3.5 MB/s\u001b[0m eta \u001b[36m0:00:00\u001b[0m MB/s\u001b[0m eta \u001b[36m0:00:01\u001b[0m:01\u001b[0m\n",
      "\u001b[?25hCollecting pynacl>=1.5\n",
      "  Downloading PyNaCl-1.5.0-cp36-abi3-manylinux_2_17_x86_64.manylinux2014_x86_64.manylinux_2_24_x86_64.whl (856 kB)\n",
      "\u001b[2K     \u001b[38;2;114;156;31m━━━━━━━━━━━━━━━━━━━━━━━━━━━━━━━━━━━━━━━\u001b[0m \u001b[32m856.7/856.7 kB\u001b[0m \u001b[31m1.6 MB/s\u001b[0m eta \u001b[36m0:00:00\u001b[0m MB/s\u001b[0m eta \u001b[36m0:00:01\u001b[0m:01\u001b[0m\n",
      "\u001b[?25hCollecting cffi>=1.12\n",
      "  Downloading cffi-1.15.1-cp311-cp311-manylinux_2_17_x86_64.manylinux2014_x86_64.whl (462 kB)\n",
      "\u001b[2K     \u001b[38;2;114;156;31m━━━━━━━━━━━━━━━━━━━━━━━━━━━━━━━━━━━━━━━\u001b[0m \u001b[32m462.6/462.6 kB\u001b[0m \u001b[31m1.5 MB/s\u001b[0m eta \u001b[36m0:00:00\u001b[0m MB/s\u001b[0m eta \u001b[36m0:00:01\u001b[0m:01\u001b[0m\n",
      "\u001b[?25hCollecting pycparser\n",
      "  Downloading pycparser-2.21-py2.py3-none-any.whl (118 kB)\n",
      "\u001b[2K     \u001b[38;2;114;156;31m━━━━━━━━━━━━━━━━━━━━━━━━━━━━━━━━━━━━━━━\u001b[0m \u001b[32m118.7/118.7 kB\u001b[0m \u001b[31m2.2 MB/s\u001b[0m eta \u001b[36m0:00:00\u001b[0m[31m2.1 MB/s\u001b[0m eta \u001b[36m0:00:01\u001b[0m\n",
      "\u001b[?25hInstalling collected packages: pycparser, invoke, bcrypt, cffi, pynacl, cryptography, paramiko, fabric\n",
      "Successfully installed bcrypt-4.0.1 cffi-1.15.1 cryptography-40.0.1 fabric-3.0.0 invoke-2.0.0 paramiko-3.1.0 pycparser-2.21 pynacl-1.5.0\n"
     ]
    }
   ],
   "source": [
    "!pip install fabric"
   ]
  },
  {
   "cell_type": "markdown",
   "id": "ab0b4600-4434-4f7c-b9de-4d58704d1241",
   "metadata": {
    "tags": []
   },
   "source": [
    "## Fabric ローカル実行"
   ]
  },
  {
   "cell_type": "code",
   "execution_count": 65,
   "id": "f59060d4-81c3-43b2-bc6e-b4cceb11e664",
   "metadata": {
    "tags": []
   },
   "outputs": [
    {
     "name": "stdout",
     "output_type": "stream",
     "text": [
      "=== fabfile.main.CheckInstallation()\n",
      "--> shutil.which: None\n",
      "<bound method Config.load_base_conf_files of <Config: {'run': {'asynchronous': False, 'disown': False, 'dry': False, 'echo': False, 'echo_stdin': None, 'encoding': None, 'env': {}, 'err_stream': None, 'fallback': True, 'hide': None, 'in_stream': None, 'out_stream': None, 'echo_format': '\\x1b[1;37m{command}\\x1b[0m', 'pty': False, 'replace_env': False, 'shell': '/bin/bash', 'warn': False, 'watchers': []}, 'runners': {'local': <class 'invoke.runners.Local'>}, 'sudo': {'password': None, 'prompt': '[sudo] password: ', 'user': None}, 'tasks': {'auto_dash_names': True, 'collection_name': 'tasks', 'dedupe': True, 'executor_class': None, 'ignore_unknown_help': False, 'search_root': None}, 'timeouts': {'command': None}}>>\n"
     ]
    },
    {
     "data": {
      "text/plain": [
       "False"
      ]
     },
     "execution_count": 65,
     "metadata": {},
     "output_type": "execute_result"
    }
   ],
   "source": [
    "from fabric import task\n",
    "from invoke.context import Context\n",
    "import shutil\n",
    "\n",
    "from fabfile import CheckInstallation, tmux_run\n",
    "\n",
    "@task\n",
    "def CheckInstallation(c, command):\n",
    "    result = shutil.which(command)\n",
    "    print('=== fabfile.main.CheckInstallation()')\n",
    "    print(f'--> shutil.which: {result}')\n",
    "    #print(Context().config.debug)\n",
    "    print(Context().config.load_base_conf_files)\n",
    "    \n",
    "    return not result is None\n",
    "\n",
    "\n",
    "CheckInstallation(Context(), 'rustup')"
   ]
  },
  {
   "cell_type": "markdown",
   "id": "a39416f3-8817-45f4-96fa-7d99b2baaa21",
   "metadata": {},
   "source": [
    "## Rust のインストール"
   ]
  },
  {
   "cell_type": "code",
   "execution_count": 1,
   "id": "f59ec5ec-b69d-4ff6-892b-609f6d89b96f",
   "metadata": {},
   "outputs": [
    {
     "name": "stdout",
     "output_type": "stream",
     "text": [
      "/home/tomoyan/my_projects/jupyter-binder/fabric_example\n"
     ]
    }
   ],
   "source": [
    "!pwd"
   ]
  },
  {
   "cell_type": "code",
   "execution_count": 15,
   "id": "fe91d3a8-f2e4-4f9b-9f19-48cfdcb12f2f",
   "metadata": {
    "tags": []
   },
   "outputs": [
    {
     "name": "stdout",
     "output_type": "stream",
     "text": [
      "Overwriting ./fabfile/install_rust.py\n"
     ]
    }
   ],
   "source": [
    "%%file ./fabfile/install_rust.py\n",
    "from fabric import task\n",
    "from invoke.watchers import Responder\n",
    "\n",
    "from . import CheckInstallation, tmux_run\n",
    "\n",
    "@task\n",
    "@tmux_run\n",
    "def Rust_CheckInstalled(c):\n",
    "    result = CheckInstallation(c, 'rustup')\n",
    "    return result\n",
    "\n",
    "@task\n",
    "@tmux_run\n",
    "def Rust_Install(c):\n",
    "    if Rust_CheckInstalled(c):\n",
    "        print('Rust はインストール済みです😉');\n",
    "        return False\n",
    "    \n",
    "    enterResponder = Responder(\n",
    "        pattern=r'\\n>',\n",
    "        response='\\n'\n",
    "    )\n",
    "    result = c.run(\n",
    "        \"curl --proto '=https' --tlsv1.2 -sSf https://sh.rustup.rs | sh\",\n",
    "        echo=True, hide=False, pty=True,\n",
    "        watchers=[enterResponder])\n",
    "    result = c.run(\n",
    "        \"$SHELL -l\",\n",
    "        echo=True, hide=False, pty=True,\n",
    "        watchers=[enterResponder])\n",
    "    #print(result.stdout.strip())\n",
    "\n",
    "@task\n",
    "@tmux_run\n",
    "def Rust_Uninstall(c):\n",
    "    if not Rust_CheckInstalled(c):\n",
    "        print('Rust はインストールされていません🤔');\n",
    "        return False\n",
    "    \n",
    "    yesResponder = Responder(\n",
    "        pattern=r'Continue\\? \\(y/N\\)',\n",
    "        response='y\\n'\n",
    "    )\n",
    "    result = c.run(\n",
    "        'rustup self uninstall',\n",
    "        echo=True, pty=True,\n",
    "        watchers=[yesResponder]\n",
    "    )\n"
   ]
  },
  {
   "cell_type": "code",
   "execution_count": 2,
   "id": "be4b89f7-bc90-48fe-a318-3534e6e139e3",
   "metadata": {},
   "outputs": [
    {
     "name": "stdout",
     "output_type": "stream",
     "text": [
      "=== fabfile.main.CheckInstallation()\n",
      "--> shutil.which(rustup): None\n"
     ]
    }
   ],
   "source": [
    "!fab Rust-CheckInstalled -d"
   ]
  },
  {
   "cell_type": "code",
   "execution_count": 3,
   "id": "8828d132-386e-48a9-9152-e813e64c2014",
   "metadata": {},
   "outputs": [
    {
     "name": "stdout",
     "output_type": "stream",
     "text": [
      "Available tasks:\n",
      "\n",
      "  CheckInstallation      which command\n",
      "  ConnectTmux\n",
      "  Mamba-CheckInstalled\n",
      "  Mamba-Install\n",
      "  Mamba-Uninstall\n",
      "  OLS-install\n",
      "  OLS-uninstall\n",
      "  Rust-CheckInstalled\n",
      "  Rust-Install\n",
      "  Rust-Uninstall\n",
      "\n"
     ]
    }
   ],
   "source": [
    "!fab --list"
   ]
  },
  {
   "cell_type": "code",
   "execution_count": null,
   "id": "a50e1227-bf5d-4b36-ab73-c560f86cd68a",
   "metadata": {
    "scrolled": true,
    "tags": []
   },
   "outputs": [
    {
     "name": "stdout",
     "output_type": "stream",
     "text": [
      "=== fabfile.main.CheckInstallation()\n",
      "--> shutil.which(rustup): None\n",
      "\u001b[1;37mcurl --proto '=https' --tlsv1.2 -sSf https://sh.rustup.rs | sh\u001b[0m\n",
      "\u001b[1minfo:\u001b[0m downloading installer\n",
      "\u001b[1m\n",
      "Welcome to Rust!\n",
      "\u001b[m\n",
      "This will download and install the official compiler for the Rust\n",
      "programming language, and its package manager, Cargo.\n",
      "\n",
      "Rustup metadata and toolchains will be installed into the Rustup\n",
      "home directory, located at:\n",
      "\n",
      "  /home/tomoyan/.rustup\n",
      "\n",
      "This can be modified with the RUSTUP_HOME environment variable.\n",
      "\n",
      "The Cargo home directory is located at:\n",
      "\n",
      "  /home/tomoyan/.cargo\n",
      "\n",
      "This can be modified with the CARGO_HOME environment variable.\n",
      "\n",
      "The \u001b[1mcargo\u001b[m, \u001b[1mrustc\u001b[m, \u001b[1mrustup\u001b[m and other commands will be added to\n",
      "Cargo's bin directory, located at:\n",
      "\n",
      "  /home/tomoyan/.cargo/bin\n",
      "\n",
      "This path will then be added to your \u001b[1mPATH\u001b[m environment variable by\n",
      "modifying the profile files located at:\n",
      "\n",
      "  /home/tomoyan/.profile\n",
      "  /home/tomoyan/.bash_profile\n",
      "  /home/tomoyan/.bashrc\n",
      "\n",
      "You can uninstall at any time with \u001b[1mrustup self uninstall\u001b[m and\n",
      "these changes will be reverted.\n",
      "\n",
      "Current installation options:\n",
      "\n",
      "\n",
      "\u001b[1m   \u001b[mdefault host triple: \u001b[1mx86_64-unknown-linux-gnu\u001b[m\n",
      "\u001b[1m     \u001b[mdefault toolchain: \u001b[1mstable (default)\u001b[m\n",
      "\u001b[1m               \u001b[mprofile: \u001b[1mdefault\u001b[m\n",
      "  modify PATH variable: \u001b[1myes\u001b[m\n",
      "\n",
      "1) Proceed with installation (default)\n",
      "2) Customize installation\n",
      "3) Cancel installation\n",
      ">\n",
      "\n",
      "\u001b[1minfo: \u001b[mprofile set to 'default'\n",
      "\u001b[1minfo: \u001b[mdefault host triple is x86_64-unknown-linux-gnu\n",
      "\u001b[33m\u001b[1mwarning: \u001b[mUpdating existing toolchain, profile choice will be ignored\n",
      "\u001b[1minfo: \u001b[msyncing channel updates for 'stable-x86_64-unknown-linux-gnu'\n",
      "\u001b[1minfo: \u001b[mdefault toolchain set to 'stable-x86_64-unknown-linux-gnu'\n",
      "\n",
      "  \u001b[1mstable-x86_64-unknown-linux-gnu unchanged\u001b[m - rustc 1.69.0 (84c898d65 2023-04-16)\n",
      "\n",
      "\u001b[1m\n",
      "Rust is installed now. Great!\n",
      "\u001b[m\n",
      "To get started you may need to restart your current shell.\n",
      "This would reload your \u001b[1mPATH\u001b[m environment variable to include\n",
      "Cargo's bin directory ($HOME/.cargo/bin).\n",
      "\n",
      "To configure your current shell, run:\n",
      "source \"$HOME/.cargo/env\"\n",
      "\u001b[1;37m$SHELL -l\u001b[0m\n",
      "\u001b]777;notify;Command completed;./exec_jupyterlab.sh -s\u001b\\\u001b]777;precmd\u001b\\\u001b]0;tomoyan@WICKED-BEAT:~/my_projects/jupyter-binder/fabric_example\u001b\\\u001b]7;file://WICKED-BEAT/home/tomoyan/my_projects/jupyter-binder/fabric_example\u001b\\\u001b[?2004h[tomoyan@WICKED-BEAT fabric_example]$ "
     ]
    }
   ],
   "source": [
    "!fab Rust-Install -d"
   ]
  },
  {
   "cell_type": "markdown",
   "id": "28f90a47-c57e-40a9-ab4a-d20da597e29b",
   "metadata": {},
   "source": [
    "## Rust のアンインストール"
   ]
  },
  {
   "cell_type": "code",
   "execution_count": 7,
   "id": "66a772b4-3f85-4612-ba7c-2b7b47332023",
   "metadata": {
    "tags": []
   },
   "outputs": [
    {
     "name": "stdout",
     "output_type": "stream",
     "text": [
      "=== fabfile.main.CheckInstallation()\n",
      "--> shutil.which: None\n",
      "Rust はインストールされていません🤔\n"
     ]
    }
   ],
   "source": [
    "!fab Rust-Uninstall -d"
   ]
  },
  {
   "cell_type": "markdown",
   "id": "10729d72-8ffe-4f63-828d-fa8ea305b038",
   "metadata": {},
   "source": [
    "# 参考文献\n",
    "https://docs.pyinvoke.org/en/stable/concepts/watchers.html<br>\n",
    "https://blog.masu-mi.me/post/2021/02/14/catch-up-fabric2/<br>"
   ]
  }
 ],
 "metadata": {
  "kernelspec": {
   "display_name": "Python 3 (ipykernel)",
   "language": "python",
   "name": "python3"
  },
  "language_info": {
   "codemirror_mode": {
    "name": "ipython",
    "version": 3
   },
   "file_extension": ".py",
   "mimetype": "text/x-python",
   "name": "python",
   "nbconvert_exporter": "python",
   "pygments_lexer": "ipython3",
   "version": "3.11.2"
  }
 },
 "nbformat": 4,
 "nbformat_minor": 5
}
