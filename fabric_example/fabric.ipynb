{
 "cells": [
  {
   "cell_type": "markdown",
   "id": "41ea5bf7-a693-4aa9-aab4-862a9337ea10",
   "metadata": {
    "tags": []
   },
   "source": [
    "# 前提環境\n",
    "Fabric のインストール"
   ]
  },
  {
   "cell_type": "code",
   "execution_count": 5,
   "id": "916b2c16",
   "metadata": {
    "collapsed": true,
    "jupyter": {
     "outputs_hidden": true
    },
    "tags": []
   },
   "outputs": [
    {
     "name": "stdout",
     "output_type": "stream",
     "text": [
      "Collecting fabric\n",
      "  Downloading fabric-3.0.0-py3-none-any.whl (53 kB)\n",
      "\u001b[2K     \u001b[38;2;114;156;31m━━━━━━━━━━━━━━━━━━━━━━━━━━━━━━━━━━━━━━━\u001b[0m \u001b[32m53.3/53.3 kB\u001b[0m \u001b[31m538.5 kB/s\u001b[0m eta \u001b[36m0:00:00\u001b[0m1m460.1 kB/s\u001b[0m eta \u001b[36m0:00:01\u001b[0m\n",
      "\u001b[?25hCollecting invoke>=2.0\n",
      "  Downloading invoke-2.0.0-py3-none-any.whl (162 kB)\n",
      "\u001b[2K     \u001b[38;2;114;156;31m━━━━━━━━━━━━━━━━━━━━━━━━━━━━━━━━━━━━━━━\u001b[0m \u001b[32m162.2/162.2 kB\u001b[0m \u001b[31m1.3 MB/s\u001b[0m eta \u001b[36m0:00:00\u001b[0m MB/s\u001b[0m eta \u001b[36m0:00:01\u001b[0m:01\u001b[0m\n",
      "\u001b[?25hCollecting paramiko>=2.4\n",
      "  Downloading paramiko-3.1.0-py3-none-any.whl (211 kB)\n",
      "\u001b[2K     \u001b[38;2;114;156;31m━━━━━━━━━━━━━━━━━━━━━━━━━━━━━━━━━━━━━━━\u001b[0m \u001b[32m211.2/211.2 kB\u001b[0m \u001b[31m1.4 MB/s\u001b[0m eta \u001b[36m0:00:00\u001b[0m MB/s\u001b[0m eta \u001b[36m0:00:01\u001b[0m:01\u001b[0m\n",
      "\u001b[?25hCollecting bcrypt>=3.2\n",
      "  Downloading bcrypt-4.0.1-cp36-abi3-manylinux_2_28_x86_64.whl (593 kB)\n",
      "\u001b[2K     \u001b[38;2;114;156;31m━━━━━━━━━━━━━━━━━━━━━━━━━━━━━━━━━━━━━━━\u001b[0m \u001b[32m593.7/593.7 kB\u001b[0m \u001b[31m1.6 MB/s\u001b[0m eta \u001b[36m0:00:00\u001b[0m[31m1.5 MB/s\u001b[0m eta \u001b[36m0:00:01\u001b[0m\n",
      "\u001b[?25hCollecting cryptography>=3.3\n",
      "  Downloading cryptography-40.0.1-cp36-abi3-manylinux_2_28_x86_64.whl (3.7 MB)\n",
      "\u001b[2K     \u001b[38;2;114;156;31m━━━━━━━━━━━━━━━━━━━━━━━━━━━━━━━━━━━━━━━━\u001b[0m \u001b[32m3.7/3.7 MB\u001b[0m \u001b[31m2.2 MB/s\u001b[0m eta \u001b[36m0:00:00\u001b[0m[31m2.1 MB/s\u001b[0m eta \u001b[36m0:00:01\u001b[0m\n",
      "\u001b[?25hCollecting pynacl>=1.5\n",
      "  Downloading PyNaCl-1.5.0-cp36-abi3-manylinux_2_17_x86_64.manylinux2014_x86_64.manylinux_2_24_x86_64.whl (856 kB)\n",
      "\u001b[2K     \u001b[38;2;114;156;31m━━━━━━━━━━━━━━━━━━━━━━━━━━━━━━━━━━━━━━━\u001b[0m \u001b[32m856.7/856.7 kB\u001b[0m \u001b[31m3.3 MB/s\u001b[0m eta \u001b[36m0:00:00\u001b[0m[31m3.3 MB/s\u001b[0m eta \u001b[36m0:00:01\u001b[0m\n",
      "\u001b[?25hCollecting cffi>=1.12\n",
      "  Downloading cffi-1.15.1-cp311-cp311-manylinux_2_17_x86_64.manylinux2014_x86_64.whl (462 kB)\n",
      "\u001b[2K     \u001b[38;2;114;156;31m━━━━━━━━━━━━━━━━━━━━━━━━━━━━━━━━━━━━━━━\u001b[0m \u001b[32m462.6/462.6 kB\u001b[0m \u001b[31m2.2 MB/s\u001b[0m eta \u001b[36m0:00:00\u001b[0m[31m2.0 MB/s\u001b[0m eta \u001b[36m0:00:01\u001b[0m\n",
      "\u001b[?25hCollecting pycparser\n",
      "  Downloading pycparser-2.21-py2.py3-none-any.whl (118 kB)\n",
      "\u001b[2K     \u001b[38;2;114;156;31m━━━━━━━━━━━━━━━━━━━━━━━━━━━━━━━━━━━━━━━\u001b[0m \u001b[32m118.7/118.7 kB\u001b[0m \u001b[31m1.0 MB/s\u001b[0m eta \u001b[36m0:00:00\u001b[0m1m932.9 kB/s\u001b[0m eta \u001b[36m0:00:01\u001b[0m\n",
      "\u001b[?25hInstalling collected packages: pycparser, invoke, bcrypt, cffi, pynacl, cryptography, paramiko, fabric\n",
      "Successfully installed bcrypt-4.0.1 cffi-1.15.1 cryptography-40.0.1 fabric-3.0.0 invoke-2.0.0 paramiko-3.1.0 pycparser-2.21 pynacl-1.5.0\n"
     ]
    }
   ],
   "source": [
    "!pip install fabric"
   ]
  },
  {
   "cell_type": "markdown",
   "id": "e23458dc-8d15-427c-9bbb-2f4cb836c003",
   "metadata": {
    "jupyter": {
     "outputs_hidden": true
    },
    "tags": []
   },
   "source": [
    "libtmux のインストール"
   ]
  },
  {
   "cell_type": "code",
   "execution_count": 4,
   "id": "5b4673d3-cc37-4dda-9fe0-2f87c807bfb1",
   "metadata": {
    "collapsed": true,
    "jupyter": {
     "outputs_hidden": true
    },
    "tags": []
   },
   "outputs": [
    {
     "name": "stdout",
     "output_type": "stream",
     "text": [
      "Collecting libtmux\n",
      "  Downloading libtmux-0.21.1-py3-none-any.whl (47 kB)\n",
      "\u001b[2K     \u001b[38;2;114;156;31m━━━━━━━━━━━━━━━━━━━━━━━━━━━━━━━━━━━━━━━\u001b[0m \u001b[32m47.5/47.5 kB\u001b[0m \u001b[31m456.8 kB/s\u001b[0m eta \u001b[36m0:00:00\u001b[0m1m376.5 kB/s\u001b[0m eta \u001b[36m0:00:01\u001b[0m\n",
      "\u001b[?25hCollecting pip\n",
      "  Downloading pip-23.0.1-py3-none-any.whl (2.1 MB)\n",
      "\u001b[2K     \u001b[38;2;114;156;31m━━━━━━━━━━━━━━━━━━━━━━━━━━━━━━━━━━━━━━━━\u001b[0m \u001b[32m2.1/2.1 MB\u001b[0m \u001b[31m1.6 MB/s\u001b[0m eta \u001b[36m0:00:00\u001b[0m[36m0:00:01\u001b[0m[36m0:00:01\u001b[0m:01\u001b[0m0m\n",
      "\u001b[?25hInstalling collected packages: pip, libtmux\n",
      "Successfully installed libtmux-0.21.1 pip-23.0.1\n"
     ]
    }
   ],
   "source": [
    "!pip install libtmux"
   ]
  },
  {
   "cell_type": "markdown",
   "id": "f256ddc4-54a9-45eb-aa3b-226b910b62b0",
   "metadata": {
    "tags": []
   },
   "source": [
    "## Fabric ローカル実行"
   ]
  },
  {
   "cell_type": "code",
   "execution_count": 3,
   "id": "e714e199-9e66-4377-8023-4640a9b1de1e",
   "metadata": {
    "tags": []
   },
   "outputs": [
    {
     "name": "stdout",
     "output_type": "stream",
     "text": [
      "args: (<function Mamba_CheckInstalled at 0x7f88f6719da0>,)\n",
      "args: (<function Mamba_Install at 0x7f88f6719f80>,)\n",
      "args: (<function Mamba_Uninstall at 0x7f88f671a0c0>,)\n",
      "args: (<function Rust_CheckInstalled at 0x7f88f671a3e0>,)\n",
      "args: (<function Rust_Install at 0x7f88f671a020>,)\n",
      "args: (<function Rust_Uninstall at 0x7f88f671a520>,)\n",
      "args: (<function OLS_install at 0x7f88f671a840>,)\n",
      "args: (<function OLS_uninstall at 0x7f88f671a480>,)\n",
      "=== fabfile.main.CheckInstallation()\n",
      "--> shutil.which: /usr/bin/bash\n"
     ]
    },
    {
     "data": {
      "text/plain": [
       "True"
      ]
     },
     "execution_count": 3,
     "metadata": {},
     "output_type": "execute_result"
    }
   ],
   "source": [
    "from fabric import task\n",
    "from invoke.context import Context\n",
    "import shutil\n",
    "\n",
    "from fabfile import CheckInstallation, tmux_run\n",
    "\n",
    "@task\n",
    "def CheckInstallation(c, command):\n",
    "    result = shutil.which(command)\n",
    "    print('=== fabfile.main.CheckInstallation()')\n",
    "    print(f'--> shutil.which: {result}')\n",
    "    \n",
    "    return not result is None\n",
    "\n",
    "CheckInstallation(Context(), 'bash')"
   ]
  },
  {
   "cell_type": "code",
   "execution_count": 2,
   "id": "b7f20d2a-f380-4b68-b793-14e102474cd8",
   "metadata": {
    "tags": []
   },
   "outputs": [
    {
     "name": "stdout",
     "output_type": "stream",
     "text": [
      "Overwriting ./fabfile/__init__.py\n"
     ]
    }
   ],
   "source": [
    "%%file ./fabfile/__init__.py\n",
    "from .main import *\n",
    "from .tmux import *\n",
    "from .install_mamba import *\n",
    "from .install_rust import *\n",
    "from .install_ols import *\n"
   ]
  },
  {
   "cell_type": "code",
   "execution_count": 10,
   "id": "2abdbc20-f464-42a9-98c3-cc3d9523701c",
   "metadata": {
    "tags": []
   },
   "outputs": [
    {
     "name": "stdout",
     "output_type": "stream",
     "text": [
      "Overwriting ./fabfile/main.py\n"
     ]
    }
   ],
   "source": [
    "%%file ./fabfile/main.py\n",
    "from fabric import task\n",
    "import shutil\n",
    "\n",
    "@task\n",
    "def CheckInstallation(c, command):\n",
    "    \"\"\"which command\"\"\"\n",
    "    result = shutil.which(command)\n",
    "    print('=== fabfile.main.CheckInstallation()')\n",
    "    print(f'--> shutil.which({command}): {result}')\n",
    "    \n",
    "    return not result is None\n"
   ]
  },
  {
   "cell_type": "code",
   "execution_count": 11,
   "id": "2b4b43db-9e81-454c-8db6-d61e92d2eebf",
   "metadata": {
    "tags": []
   },
   "outputs": [
    {
     "name": "stdout",
     "output_type": "stream",
     "text": [
      "=== fabfile.main.CheckInstallation()\n",
      "--> shutil.which(rustup): None\n"
     ]
    }
   ],
   "source": [
    "!fab CheckInstallation rustup"
   ]
  },
  {
   "cell_type": "markdown",
   "id": "5264cf6f-f6e6-4897-bfdb-94dae06d107b",
   "metadata": {
    "tags": []
   },
   "source": [
    "## fab コマンドのヘルプ"
   ]
  },
  {
   "cell_type": "code",
   "execution_count": 1,
   "id": "1950e452-805d-4abc-b835-17b50ab32e37",
   "metadata": {
    "scrolled": true,
    "tags": []
   },
   "outputs": [
    {
     "name": "stdout",
     "output_type": "stream",
     "text": [
      "Usage: fab [--core-opts] task1 [--task1-opts] ... taskN [--taskN-opts]\n",
      "\n",
      "Core options:\n",
      "\n",
      "  --complete                         Print tab-completion candidates for given\n",
      "                                     parse remainder.\n",
      "  --hide=STRING                      Set default value of run()'s 'hide' kwarg.\n",
      "  --no-dedupe                        Disable task deduplication.\n",
      "  --print-completion-script=STRING   Print the tab-completion script for your\n",
      "                                     preferred shell (bash|zsh|fish).\n",
      "  --prompt-for-login-password        Request an upfront SSH-auth password\n",
      "                                     prompt.\n",
      "  --prompt-for-passphrase            Request an upfront SSH key passphrase\n",
      "                                     prompt.\n",
      "  --prompt-for-sudo-password         Prompt user at start of session for the\n",
      "                                     sudo.password config value.\n",
      "  --write-pyc                        Enable creation of .pyc files.\n",
      "  -c STRING, --collection=STRING     Specify collection name to load.\n",
      "  -d, --debug                        Enable debug output.\n",
      "  -D INT, --list-depth=INT           When listing tasks, only show the first\n",
      "                                     INT levels.\n",
      "  -e, --echo                         Echo executed commands before running.\n",
      "  -f STRING, --config=STRING         Runtime configuration file to use.\n",
      "  -F STRING, --list-format=STRING    Change the display format used when\n",
      "                                     listing tasks. Should be one of: flat\n",
      "                                     (default), nested, json.\n",
      "  -h [STRING], --help[=STRING]       Show core or per-task help and exit.\n",
      "  -H STRING, --hosts=STRING          Comma-separated host name(s) to execute\n",
      "                                     tasks against.\n",
      "  -i, --identity                     Path to runtime SSH identity (key) file.\n",
      "                                     May be given multiple times.\n",
      "  -l [STRING], --list[=STRING]       List available tasks, optionally limited\n",
      "                                     to a namespace.\n",
      "  -p, --pty                          Use a pty when executing shell commands.\n",
      "  -r STRING, --search-root=STRING    Change root directory used for finding\n",
      "                                     task modules.\n",
      "  -R, --dry                          Echo commands instead of running.\n",
      "  -S STRING, --ssh-config=STRING     Path to runtime SSH config file.\n",
      "  -t INT, --connect-timeout=INT      Specifies default connection timeout, in\n",
      "                                     seconds.\n",
      "  -T INT, --command-timeout=INT      Specify a global command execution\n",
      "                                     timeout, in seconds.\n",
      "  -V, --version                      Show version and exit.\n",
      "  -w, --warn-only                    Warn, instead of failing, when shell\n",
      "                                     commands fail.\n",
      "\n"
     ]
    }
   ],
   "source": [
    "!fab --help"
   ]
  },
  {
   "cell_type": "code",
   "execution_count": 7,
   "id": "dc558d2f",
   "metadata": {
    "tags": []
   },
   "outputs": [
    {
     "name": "stdout",
     "output_type": "stream",
     "text": [
      "Available tasks:\n",
      "\n",
      "  CheckInstallation      which command\n",
      "  ConnectTmux\n",
      "  Mamba-CheckInstalled\n",
      "  Mamba-Install\n",
      "  Mamba-Uninstall\n",
      "  OLS-install\n",
      "  OLS-uninstall\n",
      "  Rust-CheckInstalled\n",
      "  Rust-Install\n",
      "  Rust-Uninstall\n",
      "\n"
     ]
    }
   ],
   "source": [
    "!fab --list"
   ]
  },
  {
   "cell_type": "code",
   "execution_count": 37,
   "id": "4bd7e94d-cd0b-42a1-bfb6-769ace0e937d",
   "metadata": {
    "tags": []
   },
   "outputs": [],
   "source": [
    "from IPython.core.magic import register_cell_magic\n",
    "\n",
    "dir(get_ipython())\n",
    "\n",
    "@register_cell_magic\n",
    "def accio(line, cell):\n",
    "    ipy = get_ipython()\n",
    "    expr = ipy.input_transformer_manager.transform_cell(cell)\n",
    "    print(expr)\n",
    "    expr_ast = ipy.compile.ast_parse(expr)\n",
    "    expr_ast = ipy.transform_ast(expr_ast)\n",
    "    code = ipy.compile(expr_ast, '', 'exec')\n",
    "    print(code)\n",
    "    exec(code)\n",
    "\n",
    "@register_cell_magic\n",
    "def accio2(line, cell):\n",
    "    get_ipython().run_cell(cell)"
   ]
  },
  {
   "cell_type": "code",
   "execution_count": 51,
   "id": "ae039bf4-2a9e-4140-8563-bff34ee6d69d",
   "metadata": {
    "tags": []
   },
   "outputs": [
    {
     "name": "stdout",
     "output_type": "stream",
     "text": [
      "get_ipython().run_line_magic('pinfo', '%lsmagic')\n",
      "get_ipython().run_line_magic('pinfo2', '%lsmagic')\n",
      "get_ipython().run_line_magic('lsmagic', '')\n",
      "\n",
      "<code object <module> at 0x7f0391199e30, file \"\", line 1>\n"
     ]
    },
    {
     "data": {
      "text/plain": [
       "\u001b[0;31mSource:\u001b[0m\n",
       "    \u001b[0;34m@\u001b[0m\u001b[0mline_magic\u001b[0m\u001b[0;34m\u001b[0m\n",
       "\u001b[0;34m\u001b[0m    \u001b[0;32mdef\u001b[0m \u001b[0mlsmagic\u001b[0m\u001b[0;34m(\u001b[0m\u001b[0mself\u001b[0m\u001b[0;34m,\u001b[0m \u001b[0mparameter_s\u001b[0m\u001b[0;34m=\u001b[0m\u001b[0;34m''\u001b[0m\u001b[0;34m)\u001b[0m\u001b[0;34m:\u001b[0m\u001b[0;34m\u001b[0m\n",
       "\u001b[0;34m\u001b[0m        \u001b[0;34m\"\"\"List currently available magic functions.\"\"\"\u001b[0m\u001b[0;34m\u001b[0m\n",
       "\u001b[0;34m\u001b[0m        \u001b[0;32mreturn\u001b[0m \u001b[0mMagicsDisplay\u001b[0m\u001b[0;34m(\u001b[0m\u001b[0mself\u001b[0m\u001b[0;34m.\u001b[0m\u001b[0mshell\u001b[0m\u001b[0;34m.\u001b[0m\u001b[0mmagics_manager\u001b[0m\u001b[0;34m,\u001b[0m \u001b[0mignore\u001b[0m\u001b[0;34m=\u001b[0m\u001b[0;34m[\u001b[0m\u001b[0;34m]\u001b[0m\u001b[0;34m)\u001b[0m\u001b[0;34m\u001b[0m\u001b[0;34m\u001b[0m\u001b[0m\n",
       "\u001b[0;31mFile:\u001b[0m   ~/pyJupyterLab/lib64/python3.11/site-packages/IPython/core/magics/basic.py"
      ]
     },
     "metadata": {},
     "output_type": "display_data"
    }
   ],
   "source": [
    "%%accio\n",
    "%lsmagic?\n",
    "%lsmagic??\n",
    "%lsmagic"
   ]
  },
  {
   "cell_type": "code",
   "execution_count": 52,
   "id": "4de457b7-923c-4ce7-a275-a75f439d24ce",
   "metadata": {
    "collapsed": true,
    "jupyter": {
     "outputs_hidden": true
    },
    "tags": []
   },
   "outputs": [
    {
     "data": {
      "application/json": {
       "cell": {
        "!": "OSMagics",
        "HTML": "Other",
        "SVG": "Other",
        "accio": "Other",
        "accio2": "Other",
        "bash": "Other",
        "capture": "ExecutionMagics",
        "debug": "ExecutionMagics",
        "file": "Other",
        "html": "DisplayMagics",
        "javascript": "DisplayMagics",
        "js": "DisplayMagics",
        "latex": "DisplayMagics",
        "markdown": "DisplayMagics",
        "perl": "Other",
        "prun": "ExecutionMagics",
        "pypy": "Other",
        "python": "Other",
        "python2": "Other",
        "python3": "Other",
        "ruby": "Other",
        "script": "ScriptMagics",
        "sh": "Other",
        "svg": "DisplayMagics",
        "sx": "OSMagics",
        "system": "OSMagics",
        "time": "ExecutionMagics",
        "timeit": "ExecutionMagics",
        "writefile": "OSMagics"
       },
       "line": {
        "alias": "OSMagics",
        "alias_magic": "BasicMagics",
        "autoawait": "AsyncMagics",
        "autocall": "AutoMagics",
        "automagic": "AutoMagics",
        "autosave": "KernelMagics",
        "bookmark": "OSMagics",
        "cat": "Other",
        "cd": "OSMagics",
        "clear": "KernelMagics",
        "colors": "BasicMagics",
        "conda": "PackagingMagics",
        "config": "ConfigMagics",
        "connect_info": "KernelMagics",
        "cp": "Other",
        "debug": "ExecutionMagics",
        "dhist": "OSMagics",
        "dirs": "OSMagics",
        "doctest_mode": "BasicMagics",
        "ed": "Other",
        "edit": "KernelMagics",
        "env": "OSMagics",
        "gui": "BasicMagics",
        "hist": "Other",
        "history": "HistoryMagics",
        "killbgscripts": "ScriptMagics",
        "ldir": "Other",
        "less": "KernelMagics",
        "lf": "Other",
        "lk": "Other",
        "ll": "Other",
        "load": "CodeMagics",
        "load_ext": "ExtensionMagics",
        "loadpy": "CodeMagics",
        "logoff": "LoggingMagics",
        "logon": "LoggingMagics",
        "logstart": "LoggingMagics",
        "logstate": "LoggingMagics",
        "logstop": "LoggingMagics",
        "ls": "Other",
        "lsmagic": "BasicMagics",
        "lx": "Other",
        "macro": "ExecutionMagics",
        "magic": "BasicMagics",
        "man": "KernelMagics",
        "matplotlib": "PylabMagics",
        "mkdir": "Other",
        "more": "KernelMagics",
        "mv": "Other",
        "notebook": "BasicMagics",
        "page": "BasicMagics",
        "pastebin": "CodeMagics",
        "pdb": "ExecutionMagics",
        "pdef": "NamespaceMagics",
        "pdoc": "NamespaceMagics",
        "pfile": "NamespaceMagics",
        "pinfo": "NamespaceMagics",
        "pinfo2": "NamespaceMagics",
        "pip": "PackagingMagics",
        "popd": "OSMagics",
        "pprint": "BasicMagics",
        "precision": "BasicMagics",
        "prun": "ExecutionMagics",
        "psearch": "NamespaceMagics",
        "psource": "NamespaceMagics",
        "pushd": "OSMagics",
        "pwd": "OSMagics",
        "pycat": "OSMagics",
        "pylab": "PylabMagics",
        "qtconsole": "KernelMagics",
        "quickref": "BasicMagics",
        "recall": "HistoryMagics",
        "rehashx": "OSMagics",
        "reload_ext": "ExtensionMagics",
        "rep": "Other",
        "rerun": "HistoryMagics",
        "reset": "NamespaceMagics",
        "reset_selective": "NamespaceMagics",
        "rm": "Other",
        "rmdir": "Other",
        "run": "ExecutionMagics",
        "save": "CodeMagics",
        "sc": "OSMagics",
        "set_env": "OSMagics",
        "store": "StoreMagics",
        "sx": "OSMagics",
        "system": "OSMagics",
        "tb": "ExecutionMagics",
        "time": "ExecutionMagics",
        "timeit": "ExecutionMagics",
        "unalias": "OSMagics",
        "unload_ext": "ExtensionMagics",
        "who": "NamespaceMagics",
        "who_ls": "NamespaceMagics",
        "whos": "NamespaceMagics",
        "xdel": "NamespaceMagics",
        "xmode": "BasicMagics"
       }
      },
      "text/plain": [
       "Available line magics:\n",
       "%alias  %alias_magic  %autoawait  %autocall  %automagic  %autosave  %bookmark  %cat  %cd  %clear  %colors  %conda  %config  %connect_info  %cp  %debug  %dhist  %dirs  %doctest_mode  %ed  %edit  %env  %gui  %hist  %history  %killbgscripts  %ldir  %less  %lf  %lk  %ll  %load  %load_ext  %loadpy  %logoff  %logon  %logstart  %logstate  %logstop  %ls  %lsmagic  %lx  %macro  %magic  %man  %matplotlib  %mkdir  %more  %mv  %notebook  %page  %pastebin  %pdb  %pdef  %pdoc  %pfile  %pinfo  %pinfo2  %pip  %popd  %pprint  %precision  %prun  %psearch  %psource  %pushd  %pwd  %pycat  %pylab  %qtconsole  %quickref  %recall  %rehashx  %reload_ext  %rep  %rerun  %reset  %reset_selective  %rm  %rmdir  %run  %save  %sc  %set_env  %store  %sx  %system  %tb  %time  %timeit  %unalias  %unload_ext  %who  %who_ls  %whos  %xdel  %xmode\n",
       "\n",
       "Available cell magics:\n",
       "%%!  %%HTML  %%SVG  %%accio  %%accio2  %%bash  %%capture  %%debug  %%file  %%html  %%javascript  %%js  %%latex  %%markdown  %%perl  %%prun  %%pypy  %%python  %%python2  %%python3  %%ruby  %%script  %%sh  %%svg  %%sx  %%system  %%time  %%timeit  %%writefile\n",
       "\n",
       "Automagic is ON, % prefix IS NOT needed for line magics."
      ]
     },
     "execution_count": 52,
     "metadata": {},
     "output_type": "execute_result"
    }
   ],
   "source": [
    "%lsmagic"
   ]
  },
  {
   "cell_type": "code",
   "execution_count": 1,
   "id": "4c19a929-364a-4ff6-aef6-b00bcb7f1644",
   "metadata": {
    "tags": []
   },
   "outputs": [
    {
     "name": "stdout",
     "output_type": "stream",
     "text": [
      "sys.path = [\n",
      "    '/home/tomoyan/my_projects/jupyter-binder/fabric_example',\n",
      "    '/usr/lib64/python311.zip',\n",
      "    '/usr/lib64/python3.11',\n",
      "    '/usr/lib64/python3.11/lib-dynload',\n",
      "    '/home/tomoyan/pyJupyterLab/lib64/python3.11/site-packages',\n",
      "    '/home/tomoyan/pyJupyterLab/lib/python3.11/site-packages',\n",
      "]\n",
      "USER_BASE: '/home/tomoyan/.local' (exists)\n",
      "USER_SITE: '/home/tomoyan/.local/lib/python3.11/site-packages' (exists)\n",
      "ENABLE_USER_SITE: False\n"
     ]
    }
   ],
   "source": [
    "!python -m site"
   ]
  },
  {
   "cell_type": "markdown",
   "id": "c4f0a4f8-d2bd-48f8-99f4-1d528d1baea6",
   "metadata": {},
   "source": [
    "# 参考文献\n",
    "https://docs.pyinvoke.org/en/stable/concepts/watchers.html<br>\n",
    "https://blog.masu-mi.me/post/2021/02/14/catch-up-fabric2/<br>\n",
    "<br>\n",
    "**Defining custom magics**\n",
    "https://ipython.readthedocs.io/en/stable/config/custommagics.html<br>"
   ]
  }
 ],
 "metadata": {
  "kernelspec": {
   "display_name": "Python 3 (ipykernel)",
   "language": "python",
   "name": "python3"
  },
  "language_info": {
   "codemirror_mode": {
    "name": "ipython",
    "version": 3
   },
   "file_extension": ".py",
   "mimetype": "text/x-python",
   "name": "python",
   "nbconvert_exporter": "python",
   "pygments_lexer": "ipython3",
   "version": "3.11.2"
  }
 },
 "nbformat": 4,
 "nbformat_minor": 5
}
