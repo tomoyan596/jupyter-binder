{
 "cells": [
  {
   "cell_type": "code",
   "execution_count": 1,
   "id": "738a5ff9-9b91-4c13-b4a4-f83ba6293395",
   "metadata": {},
   "outputs": [
    {
     "name": "stdout",
     "output_type": "stream",
     "text": [
      "Cloning into '/home/tomoyan/.anyenv'...\n",
      "remote: Enumerating objects: 31, done.\u001b[K\n",
      "remote: Counting objects: 100% (31/31), done.\u001b[K\n",
      "remote: Compressing objects: 100% (25/25), done.\u001b[K\n",
      "remote: Total 31 (delta 0), reused 20 (delta 0), pack-reused 0\u001b[K\n",
      "Receiving objects: 100% (31/31), 13.74 KiB | 13.74 MiB/s, done.\n"
     ]
    }
   ],
   "source": [
    "!git clone --depth 1 https://github.com/anyenv/anyenv ~/.anyenv"
   ]
  },
  {
   "cell_type": "code",
   "execution_count": 2,
   "id": "3be4f7ed-aaf3-46ef-a19d-d8ee404a5424",
   "metadata": {},
   "outputs": [],
   "source": [
    "!echo 'export PATH=\"$HOME/.anyenv/bin:$PATH\"' >> ~/.bashrc"
   ]
  },
  {
   "cell_type": "code",
   "execution_count": 3,
   "id": "5c9d33ff-62c1-4e57-ad51-1f27765a3441",
   "metadata": {},
   "outputs": [
    {
     "name": "stdout",
     "output_type": "stream",
     "text": [
      "# .bashrc\n",
      "\n",
      "# Source global definitions\n",
      "if [ -f /etc/bashrc ]; then\n",
      "\t. /etc/bashrc\n",
      "fi\n",
      "\n",
      "# User specific environment\n",
      "PATH=\"$HOME/.local/bin:$HOME/bin:$PATH\"\n",
      "export PATH\n",
      "\n",
      "# Uncomment the following line if you don't like systemctl's auto-paging feature:\n",
      "# export SYSTEMD_PAGER=\n",
      "\n",
      "# User specific aliases and functions\n",
      "\n",
      "export PATH=\"$HOME/.anyenv/bin:$PATH\"\n"
     ]
    }
   ],
   "source": [
    "!cat ~/.bashrc"
   ]
  },
  {
   "cell_type": "code",
   "execution_count": 4,
   "id": "4706927f-1fbb-4011-ba6d-9a88df5ac8d9",
   "metadata": {},
   "outputs": [],
   "source": [
    "!. ~/.bashrc"
   ]
  },
  {
   "cell_type": "code",
   "execution_count": 5,
   "id": "101e983e-1fa7-47dc-95fd-80fceeb014d9",
   "metadata": {},
   "outputs": [
    {
     "name": "stdout",
     "output_type": "stream",
     "text": [
      "anyenv 1.1.3\n",
      "Usage: anyenv <command> [<args>]\n",
      "\n",
      "Some useful anyenv commands are:\n",
      "   commands            List all available anyenv commands\n",
      "   local               Show the local application-specific Any version\n",
      "   global              Show the global Any version\n",
      "   install             Install a **env\n",
      "   uninstall           Uninstall a specific **env\n",
      "   version             Show the current Any version and its origin\n",
      "   versions            List all Any versions available to **env\n",
      "\n",
      "See `anyenv help <command>' for information on a specific command.\n",
      "For full documentation, see: https://github.com/anyenv/anyenv#readme\n"
     ]
    }
   ],
   "source": [
    "!anyenv"
   ]
  },
  {
   "cell_type": "code",
   "execution_count": 6,
   "id": "4b320dc1-3f72-41af-9c3b-57df33f8a9e7",
   "metadata": {},
   "outputs": [
    {
     "name": "stdout",
     "output_type": "stream",
     "text": [
      "# Load anyenv automatically by adding\n",
      "# the following to ~/.bash_profile:\n",
      "\n",
      "eval \"$(anyenv init -)\"\n",
      "\n"
     ]
    }
   ],
   "source": [
    "!anyenv init"
   ]
  },
  {
   "cell_type": "code",
   "execution_count": 7,
   "id": "9d71d951-bd56-48d5-9df7-1930aa9b9fce",
   "metadata": {},
   "outputs": [],
   "source": [
    "!echo 'eval \"$(anyenv init -)\"' >> ~/.bash_profile"
   ]
  },
  {
   "cell_type": "code",
   "execution_count": 8,
   "id": "162985d5-37a2-4221-acdc-fd994b346c8c",
   "metadata": {},
   "outputs": [
    {
     "name": "stdout",
     "output_type": "stream",
     "text": [
      "# .bash_profile\n",
      "\n",
      "# Get the aliases and functions\n",
      "if [ -f ~/.bashrc ]; then\n",
      "\t. ~/.bashrc\n",
      "fi\n",
      "\n",
      "# User specific environment and startup programs\n",
      "eval \"$(anyenv init -)\"\n"
     ]
    }
   ],
   "source": [
    "!cat ~/.bash_profile"
   ]
  },
  {
   "cell_type": "code",
   "execution_count": 9,
   "id": "6b94cc06-767c-4804-be05-3c6c28e15937",
   "metadata": {},
   "outputs": [],
   "source": [
    "!. ~/.bash_profile"
   ]
  },
  {
   "cell_type": "code",
   "execution_count": 10,
   "id": "5a4d7d3e-21e1-4fa0-a488-28ba50678cd8",
   "metadata": {},
   "outputs": [
    {
     "name": "stdout",
     "output_type": "stream",
     "text": [
      "Manifest directory doesn't exist: /home/tomoyan/.config/anyenv/anyenv-install\n",
      "Cloning https://github.com/anyenv/anyenv-install.git master to /home/tomoyan/.config/anyenv/anyenv-install...\n",
      "Cloning into '/home/tomoyan/.config/anyenv/anyenv-install'...\n",
      "remote: Enumerating objects: 62, done.\u001b[K\n",
      "remote: Counting objects: 100% (5/5), done.\u001b[K\n",
      "remote: Compressing objects: 100% (5/5), done.\u001b[K\n",
      "remote: Total 62 (delta 1), reused 1 (delta 0), pack-reused 57\u001b[K\n",
      "Receiving objects: 100% (62/62), 10.52 KiB | 2.63 MiB/s, done.\n",
      "Resolving deltas: 100% (8/8), done.\n",
      "\n",
      "Completed!\n",
      "yes: 標準出力: Broken pipe\n"
     ]
    }
   ],
   "source": [
    "!yes | anyenv install --init"
   ]
  },
  {
   "cell_type": "code",
   "execution_count": 11,
   "id": "0934660a-70da-4407-9305-7df44bc84f15",
   "metadata": {},
   "outputs": [
    {
     "name": "stdout",
     "output_type": "stream",
     "text": [
      "  Renv\n",
      "  crenv\n",
      "  denv\n",
      "  erlenv\n",
      "  exenv\n",
      "  goenv\n",
      "  hsenv\n",
      "  jenv\n",
      "  jlenv\n",
      "  luaenv\n",
      "  nodenv\n",
      "  phpenv\n",
      "  plenv\n",
      "  pyenv\n",
      "  rbenv\n",
      "  sbtenv\n",
      "  scalaenv\n",
      "  swiftenv\n",
      "  tfenv\n"
     ]
    }
   ],
   "source": [
    "!anyenv install -l"
   ]
  },
  {
   "cell_type": "code",
   "execution_count": null,
   "id": "d4f8fecc-dcda-46ea-8387-8e8bd088838a",
   "metadata": {},
   "outputs": [],
   "source": []
  }
 ],
 "metadata": {
  "kernelspec": {
   "display_name": "Python 3 (ipykernel)",
   "language": "python",
   "name": "python3"
  },
  "language_info": {
   "codemirror_mode": {
    "name": "ipython",
    "version": 3
   },
   "file_extension": ".py",
   "mimetype": "text/x-python",
   "name": "python",
   "nbconvert_exporter": "python",
   "pygments_lexer": "ipython3",
   "version": "3.9.6"
  }
 },
 "nbformat": 4,
 "nbformat_minor": 5
}
