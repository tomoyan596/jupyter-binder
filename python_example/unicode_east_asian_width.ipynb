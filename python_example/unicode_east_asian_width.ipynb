{
 "cells": [
  {
   "cell_type": "code",
   "execution_count": 14,
   "id": "7e9f9656-52df-47e5-94b6-688ab731e102",
   "metadata": {},
   "outputs": [
    {
     "name": "stdout",
     "output_type": "stream",
     "text": [
      "あ: Full\n",
      "✔: Half\n",
      "1: Half\n",
      "✔: Half\n"
     ]
    }
   ],
   "source": [
    "import unicodedata\n",
    "\n",
    "UNICODE_WIDTH = {\n",
    "    'F': 'Full', 'W': 'Full', 'A': 'Full',\n",
    "    'H': 'Half', 'Na': 'Half', 'N': 'Half',\n",
    "}\n",
    "\n",
    "def unicode_width(chr):\n",
    "    print(f'{chr}: {UNICODE_WIDTH[unicodedata.east_asian_width(chr)]}')\n",
    "\n",
    "unicode_width('あ')\n",
    "unicode_width('✔')\n",
    "unicode_width('1')\n",
    "unicode_width('\\N{HEAVY CHECK MARK}')"
   ]
  },
  {
   "cell_type": "markdown",
   "id": "bc486bd8-592f-4224-b5de-8a2967f346b9",
   "metadata": {},
   "source": [
    "<div>\n",
    "    <span style=\"font-family: 'HackGen Console NFJ'; font-size: 16px\">\n",
    "        白源 HackGen<br>\n",
    "        ✔✔ ABCDEFG<br>\n",
    "        1234 ABCDEFG<br>\n",
    "    </span>\n",
    "</div>"
   ]
  },
  {
   "cell_type": "markdown",
   "id": "bc60f42d-4d45-4cbb-b57b-1046633bafc3",
   "metadata": {},
   "source": [
    "<div>\n",
    "    <span style=\"font-family: 'HackGen Console NFJ'; font-size: 16px\">\n",
    "        白源 HackGen<br>\n",
    "        ✔✔ ABCDEFG<br>\n",
    "        1234 ABCDEFG<br>\n",
    "    </span>\n",
    "</div>"
   ]
  }
 ],
 "metadata": {
  "kernelspec": {
   "display_name": "Python 3 (ipykernel)",
   "language": "python",
   "name": "python3"
  },
  "language_info": {
   "codemirror_mode": {
    "name": "ipython",
    "version": 3
   },
   "file_extension": ".py",
   "mimetype": "text/x-python",
   "name": "python",
   "nbconvert_exporter": "python",
   "pygments_lexer": "ipython3",
   "version": "3.11.2"
  }
 },
 "nbformat": 4,
 "nbformat_minor": 5
}
