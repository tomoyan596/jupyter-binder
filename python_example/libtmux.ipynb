{
 "cells": [
  {
   "cell_type": "markdown",
   "id": "dbc5a9f5-c652-4446-9523-15439d272d62",
   "metadata": {},
   "source": [
    "# libtmux - tmux を制御するための Python スクリプトライブラリ\n",
    "\n",
    "## インストール"
   ]
  },
  {
   "cell_type": "code",
   "execution_count": 2,
   "id": "3e45e681-a292-45c2-99d2-b063fd3c86e5",
   "metadata": {},
   "outputs": [
    {
     "name": "stdout",
     "output_type": "stream",
     "text": [
      "Collecting libtmux\n",
      "  Downloading libtmux-0.21.1-py3-none-any.whl (47 kB)\n",
      "\u001b[2K     \u001b[38;2;114;156;31m━━━━━━━━━━━━━━━━━━━━━━━━━━━━━━━━━━━━━━━\u001b[0m \u001b[32m47.5/47.5 kB\u001b[0m \u001b[31m597.4 kB/s\u001b[0m eta \u001b[36m0:00:00\u001b[0m1m547.3 kB/s\u001b[0m eta \u001b[36m0:00:01\u001b[0m\n",
      "\u001b[?25hInstalling collected packages: libtmux\n",
      "Successfully installed libtmux-0.21.1\n"
     ]
    }
   ],
   "source": [
    "!pip install libtmux"
   ]
  },
  {
   "cell_type": "markdown",
   "id": "a25d147c-9cb8-457f-a734-82cf21cc4e35",
   "metadata": {},
   "source": [
    "## 新しいセッションの開始"
   ]
  },
  {
   "cell_type": "code",
   "execution_count": 53,
   "id": "661b06f7-93b6-4fd9-8919-239eeaf52335",
   "metadata": {},
   "outputs": [
    {
     "data": {
      "text/plain": [
       "Session($1 Fabric)"
      ]
     },
     "execution_count": 53,
     "metadata": {},
     "output_type": "execute_result"
    }
   ],
   "source": [
    "import libtmux\n",
    "\n",
    "TMUX_SESSION_NAME = 'Fabric'\n",
    "\n",
    "def get_session(session_name):\n",
    "    server = libtmux.Server()\n",
    "    return server.sessions.filter(\n",
    "        lambda x: x.session_name.startswith(session_name))\n",
    "\n",
    "def new_session(session_name):\n",
    "    server = libtmux.Server()\n",
    "    sessions = get_session(session_name)\n",
    "    if len(sessions) == 0:\n",
    "        session = server.new_session(session_name=session_name)\n",
    "        #session.rename_session('Fabric')\n",
    "    else:\n",
    "        session = sessions[0]\n",
    "    \n",
    "    return session\n",
    "\n",
    "new_session(TMUX_SESSION_NAME)"
   ]
  },
  {
   "cell_type": "markdown",
   "id": "5459fce9-533b-439e-92cc-504ff389265f",
   "metadata": {},
   "source": [
    "## セッション一覧"
   ]
  },
  {
   "cell_type": "code",
   "execution_count": 54,
   "id": "1b5eaa9d-d53d-4f1d-94bb-bf165f114f42",
   "metadata": {},
   "outputs": [
    {
     "name": "stdout",
     "output_type": "stream",
     "text": [
      "Tmux sessions: [Session($4 4), Session($5 5), Session($6 6), Session($1 Fabric), Session($2 Fabric1), Session($0 JupyterLab)]\n",
      "Tmux sessions[0]: Session($4 4)\n"
     ]
    }
   ],
   "source": [
    "import libtmux\n",
    "\n",
    "server = libtmux.Server()\n",
    "print(f'Tmux sessions: {server.sessions}')\n",
    "print(f'Tmux sessions[0]: {server.sessions[0]}')"
   ]
  },
  {
   "cell_type": "code",
   "execution_count": 55,
   "id": "85275601-f545-425c-b060-93db4dff8a82",
   "metadata": {},
   "outputs": [
    {
     "name": "stdout",
     "output_type": "stream",
     "text": [
      "4: 1 windows (created Sun Apr 23 05:36:20 2023)\n",
      "5: 1 windows (created Sun Apr 23 05:44:53 2023)\n",
      "6: 1 windows (created Sun Apr 23 05:47:03 2023)\n",
      "Fabric: 1 windows (created Mon Apr 17 13:37:27 2023) (attached)\n",
      "Fabric1: 1 windows (created Sat Apr 22 05:49:21 2023)\n",
      "JupyterLab: 1 windows (created Fri Apr  7 08:54:56 2023)\n"
     ]
    }
   ],
   "source": [
    "!tmux list-sessions"
   ]
  },
  {
   "cell_type": "markdown",
   "id": "81250f43-8b69-43cc-ab94-fcb76b7e22bf",
   "metadata": {},
   "source": [
    "## セッション名の変更"
   ]
  },
  {
   "cell_type": "code",
   "execution_count": 7,
   "id": "3cd3d976-8d5f-43ff-87f9-6a609a6504a3",
   "metadata": {},
   "outputs": [
    {
     "data": {
      "text/plain": [
       "Session($0 JupyterLab)"
      ]
     },
     "execution_count": 7,
     "metadata": {},
     "output_type": "execute_result"
    }
   ],
   "source": [
    "server.sessions[0].rename_session('JupyterLab')"
   ]
  },
  {
   "cell_type": "code",
   "execution_count": 8,
   "id": "a79ccf3a-ba17-48d2-bb7f-505c60d3a3ad",
   "metadata": {},
   "outputs": [
    {
     "name": "stdout",
     "output_type": "stream",
     "text": [
      "[Session($1 Fabric), Session($2 Fabric1)]\n"
     ]
    }
   ],
   "source": [
    "import libtmux\n",
    "\n",
    "TMUX_SESSION_NAME = 'Fabric'\n",
    "\n",
    "server = libtmux.Server()\n",
    "sessions = server.sessions.filter(lambda x: x.session_name.startswith(TMUX_SESSION_NAME))\n",
    "print(sessions)\n",
    "if len(sessions) == 0:\n",
    "    session = server.new_session(session_name=TMUX_SESSION_NAME)"
   ]
  },
  {
   "cell_type": "code",
   "execution_count": 44,
   "id": "56428b51-4bb5-4218-9e6d-b6a1049863d3",
   "metadata": {},
   "outputs": [],
   "source": [
    "import libtmux\n",
    "\n",
    "TMUX_SESSION_NAME = 'Fabric'\n",
    "\n",
    "server = libtmux.Server()\n",
    "sessions = server.sessions.filter(lambda x: x.session_name.startswith(TMUX_SESSION_NAME))\n",
    "#print(sessions)\n",
    "if len(sessions) != 0:\n",
    "    session = sessions[0]\n",
    "    window = session.attached_window\n",
    "    pane = window.attached_pane\n",
    "    pane.send_keys('^B', enter=False)\n",
    "    pane.send_keys('d', enter=False)\n",
    "    "
   ]
  },
  {
   "cell_type": "code",
   "execution_count": 48,
   "id": "733e0075-bf0a-4d65-abce-3bfd7d8467ea",
   "metadata": {},
   "outputs": [
    {
     "name": "stdout",
     "output_type": "stream",
     "text": [
      "Overwriting ../fabric_example/fabfile/tmux.py\n"
     ]
    }
   ],
   "source": [
    "%%file ../fabric_example/fabfile/tmux.py\n",
    "from fabric import task, Task\n",
    "from invoke.watchers import Responder\n",
    "import inspect\n",
    "import libtmux\n",
    "\n",
    "TMUX_SESSION_NAME = 'Fabric'\n",
    "\n",
    "@task\n",
    "def ConnectTmux(c):\n",
    "    server = libtmux.Server()\n",
    "    #session = server.sessions.get(session_name=TMUX_SESSION_NAME)\n",
    "    session = server.sessions.filter(lambda x: x.session_name.startswith(TMUX_SESSION_NAME))\n",
    "    if len(sessions) == 0:\n",
    "        session = server.new_session(session_name=f'{TMUX_SESSION_NAME}')\n",
    "\n",
    "def detach(c):\n",
    "    detachResponder = Responder(\n",
    "        pattern=r'^b^d',\n",
    "        response='^Bd'\n",
    "    )\n",
    "    result = c.run(\n",
    "        \"^b^d\",\n",
    "        hide=False, pty=True,\n",
    "        watchers=[detachResponder]\n",
    "    )\n",
    "    \"\"\"\n",
    "    server = libtmux.Server()\n",
    "    sessions = server.sessions.filter(lambda x: x.session_name.startswith(TMUX_SESSION_NAME))\n",
    "    #print(sessions)\n",
    "    if len(sessions) != 0:\n",
    "        session = sessions[0]\n",
    "        window = session.attached_window\n",
    "        pane = window.attached_pane\n",
    "        pane.send_keys('^B', enter=False)\n",
    "        pane.send_keys('d', enter=False)\n",
    "    \"\"\"\n",
    "\n",
    "def tmux_run(*args, **kwargs):\n",
    "    if len(args) == 1 and callable(args[0]):\n",
    "        print(f'args: {args}, kwargs: {kwargs}')\n",
    "        func = args[0]\n",
    "        \n",
    "        def inner(*args, **kwargs):\n",
    "            sig = inspect.signature(func)\n",
    "            keys = sig.parameters.keys()\n",
    "            if len(keys) == 1:\n",
    "                c = args[0]\n",
    "                \n",
    "                enterResponder = Responder(\n",
    "                    pattern=r'\\n>',\n",
    "                    response='\\n'\n",
    "                )\n",
    "                task_result = c.run(\n",
    "                    \"tmux a -t Fabric\",\n",
    "                    hide=False, pty=True,\n",
    "                    watchers=[enterResponder]\n",
    "                )\n",
    "                \n",
    "                func_result = func(*args)\n",
    "            else:\n",
    "                func_result = func(*args, **kwargs)\n",
    "            print('===== detach')\n",
    "            detach(c)\n",
    "            return func_result\n",
    "        \n",
    "        inner.__name__ = func.__name__\n",
    "        \n",
    "        return inner\n"
   ]
  }
 ],
 "metadata": {
  "kernelspec": {
   "display_name": "Python 3 (ipykernel)",
   "language": "python",
   "name": "python3"
  },
  "language_info": {
   "codemirror_mode": {
    "name": "ipython",
    "version": 3
   },
   "file_extension": ".py",
   "mimetype": "text/x-python",
   "name": "python",
   "nbconvert_exporter": "python",
   "pygments_lexer": "ipython3",
   "version": "3.11.2"
  }
 },
 "nbformat": 4,
 "nbformat_minor": 5
}
