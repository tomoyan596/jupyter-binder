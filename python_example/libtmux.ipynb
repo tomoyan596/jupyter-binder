{
 "cells": [
  {
   "cell_type": "markdown",
   "id": "dbc5a9f5-c652-4446-9523-15439d272d62",
   "metadata": {},
   "source": [
    "# libtmux - tmux を制御するための Python スクリプトライブラリ\n",
    "\n",
    "## インストール"
   ]
  },
  {
   "cell_type": "code",
   "execution_count": 1,
   "id": "3e45e681-a292-45c2-99d2-b063fd3c86e5",
   "metadata": {},
   "outputs": [
    {
     "name": "stdout",
     "output_type": "stream",
     "text": [
      "Collecting libtmux\n",
      "  Downloading libtmux-0.21.1-py3-none-any.whl (47 kB)\n",
      "\u001b[2K     \u001b[90m━━━━━━━━━━━━━━━━━━━━━━━━━━━━━━━━━━━━━━━━\u001b[0m \u001b[32m47.5/47.5 kB\u001b[0m \u001b[31m2.1 MB/s\u001b[0m eta \u001b[36m0:00:00\u001b[0m\n",
      "\u001b[?25hInstalling collected packages: libtmux\n",
      "Successfully installed libtmux-0.21.1\n",
      "\n",
      "\u001b[1m[\u001b[0m\u001b[34;49mnotice\u001b[0m\u001b[1;39;49m]\u001b[0m\u001b[39;49m A new release of pip is available: \u001b[0m\u001b[31;49m23.0.1\u001b[0m\u001b[39;49m -> \u001b[0m\u001b[32;49m23.1.1\u001b[0m\n",
      "\u001b[1m[\u001b[0m\u001b[34;49mnotice\u001b[0m\u001b[1;39;49m]\u001b[0m\u001b[39;49m To update, run: \u001b[0m\u001b[32;49mpip install --upgrade pip\u001b[0m\n"
     ]
    }
   ],
   "source": [
    "!pip install libtmux"
   ]
  },
  {
   "cell_type": "markdown",
   "id": "a25d147c-9cb8-457f-a734-82cf21cc4e35",
   "metadata": {},
   "source": [
    "## 新しいセッションの開始"
   ]
  },
  {
   "cell_type": "code",
   "execution_count": 53,
   "id": "661b06f7-93b6-4fd9-8919-239eeaf52335",
   "metadata": {},
   "outputs": [
    {
     "data": {
      "text/plain": [
       "Session($1 Fabric)"
      ]
     },
     "execution_count": 53,
     "metadata": {},
     "output_type": "execute_result"
    }
   ],
   "source": [
    "import libtmux\n",
    "\n",
    "TMUX_SESSION_NAME = 'Fabric'\n",
    "\n",
    "def get_session(session_name):\n",
    "    server = libtmux.Server()\n",
    "    return server.sessions.filter(\n",
    "        lambda x: x.session_name.startswith(session_name))\n",
    "\n",
    "def new_session(session_name):\n",
    "    server = libtmux.Server()\n",
    "    sessions = get_session(session_name)\n",
    "    if len(sessions) == 0:\n",
    "        session = server.new_session(session_name=session_name)\n",
    "        #session.rename_session('Fabric')\n",
    "    else:\n",
    "        session = sessions[0]\n",
    "    \n",
    "    return session\n",
    "\n",
    "new_session(TMUX_SESSION_NAME)"
   ]
  },
  {
   "cell_type": "markdown",
   "id": "5459fce9-533b-439e-92cc-504ff389265f",
   "metadata": {},
   "source": [
    "## セッション一覧"
   ]
  },
  {
   "cell_type": "code",
   "execution_count": 54,
   "id": "1b5eaa9d-d53d-4f1d-94bb-bf165f114f42",
   "metadata": {},
   "outputs": [
    {
     "name": "stdout",
     "output_type": "stream",
     "text": [
      "Tmux sessions: [Session($4 4), Session($5 5), Session($6 6), Session($1 Fabric), Session($2 Fabric1), Session($0 JupyterLab)]\n",
      "Tmux sessions[0]: Session($4 4)\n"
     ]
    }
   ],
   "source": [
    "import libtmux\n",
    "\n",
    "server = libtmux.Server()\n",
    "print(f'Tmux sessions: {server.sessions}')\n",
    "print(f'Tmux sessions[0]: {server.sessions[0]}')"
   ]
  },
  {
   "cell_type": "code",
   "execution_count": 55,
   "id": "85275601-f545-425c-b060-93db4dff8a82",
   "metadata": {},
   "outputs": [
    {
     "name": "stdout",
     "output_type": "stream",
     "text": [
      "4: 1 windows (created Sun Apr 23 05:36:20 2023)\n",
      "5: 1 windows (created Sun Apr 23 05:44:53 2023)\n",
      "6: 1 windows (created Sun Apr 23 05:47:03 2023)\n",
      "Fabric: 1 windows (created Mon Apr 17 13:37:27 2023) (attached)\n",
      "Fabric1: 1 windows (created Sat Apr 22 05:49:21 2023)\n",
      "JupyterLab: 1 windows (created Fri Apr  7 08:54:56 2023)\n"
     ]
    }
   ],
   "source": [
    "!tmux list-sessions"
   ]
  },
  {
   "cell_type": "markdown",
   "id": "81250f43-8b69-43cc-ab94-fcb76b7e22bf",
   "metadata": {},
   "source": [
    "## セッション名の変更"
   ]
  },
  {
   "cell_type": "code",
   "execution_count": 7,
   "id": "3cd3d976-8d5f-43ff-87f9-6a609a6504a3",
   "metadata": {},
   "outputs": [
    {
     "data": {
      "text/plain": [
       "Session($0 JupyterLab)"
      ]
     },
     "execution_count": 7,
     "metadata": {},
     "output_type": "execute_result"
    }
   ],
   "source": [
    "server.sessions[0].rename_session('JupyterLab')"
   ]
  },
  {
   "cell_type": "code",
   "execution_count": 8,
   "id": "a79ccf3a-ba17-48d2-bb7f-505c60d3a3ad",
   "metadata": {},
   "outputs": [
    {
     "name": "stdout",
     "output_type": "stream",
     "text": [
      "[Session($1 Fabric), Session($2 Fabric1)]\n"
     ]
    }
   ],
   "source": [
    "import libtmux\n",
    "\n",
    "TMUX_SESSION_NAME = 'Fabric'\n",
    "\n",
    "server = libtmux.Server()\n",
    "sessions = server.sessions.filter(lambda x: x.session_name.startswith(TMUX_SESSION_NAME))\n",
    "print(sessions)\n",
    "if len(sessions) == 0:\n",
    "    session = server.new_session(session_name=TMUX_SESSION_NAME)"
   ]
  },
  {
   "cell_type": "code",
   "execution_count": 44,
   "id": "56428b51-4bb5-4218-9e6d-b6a1049863d3",
   "metadata": {},
   "outputs": [],
   "source": [
    "import libtmux\n",
    "\n",
    "TMUX_SESSION_NAME = 'Fabric'\n",
    "\n",
    "server = libtmux.Server()\n",
    "sessions = server.sessions.filter(lambda x: x.session_name.startswith(TMUX_SESSION_NAME))\n",
    "#print(sessions)\n",
    "if len(sessions) != 0:\n",
    "    session = sessions[0]\n",
    "    window = session.attached_window\n",
    "    pane = window.attached_pane\n",
    "    pane.send_keys('^B', enter=False)\n",
    "    pane.send_keys('d', enter=False)\n",
    "    "
   ]
  },
  {
   "cell_type": "code",
   "execution_count": 1,
   "id": "733e0075-bf0a-4d65-abce-3bfd7d8467ea",
   "metadata": {},
   "outputs": [
    {
     "name": "stdout",
     "output_type": "stream",
     "text": [
      "Overwriting ../fabric_example/fabfile/tmux.py\n"
     ]
    }
   ],
   "source": [
    "%%file ../fabric_example/fabfile/tmux.py\n",
    "from fabric import task, Task\n",
    "from invoke.watchers import Responder\n",
    "import inspect\n",
    "import libtmux\n",
    "\n",
    "TMUX_SESSION_NAME = 'Fabric'\n",
    "\n",
    "@task\n",
    "def ConnectTmux(c):\n",
    "    server = libtmux.Server()\n",
    "    #session = server.sessions.get(session_name=TMUX_SESSION_NAME)\n",
    "    session = server.sessions.filter(lambda x: x.session_name.startswith(TMUX_SESSION_NAME))\n",
    "    if len(sessions) == 0:\n",
    "        session = server.new_session(session_name=f'{TMUX_SESSION_NAME}')\n",
    "\n",
    "def detach(c):\n",
    "    detachResponder = Responder(\n",
    "        pattern=r'^b^d',\n",
    "        response='^Bd'\n",
    "    )\n",
    "    result = c.run(\n",
    "        \"^b^d\",\n",
    "        hide=False, pty=True,\n",
    "        watchers=[detachResponder]\n",
    "    )\n",
    "    \"\"\"\n",
    "    server = libtmux.Server()\n",
    "    sessions = server.sessions.filter(lambda x: x.session_name.startswith(TMUX_SESSION_NAME))\n",
    "    #print(sessions)\n",
    "    if len(sessions) != 0:\n",
    "        session = sessions[0]\n",
    "        window = session.attached_window\n",
    "        pane = window.attached_pane\n",
    "        pane.send_keys('^B', enter=False)\n",
    "        pane.send_keys('d', enter=False)\n",
    "    \"\"\"\n",
    "\n",
    "def tmux_run(*args, **kwargs):\n",
    "    #print('=== fabfile.tmux.@tmux_run')\n",
    "    print(f'args: {args}' if args else '' +\n",
    "          ', ' if args and kwargs else '' +\n",
    "          f', kwargs: {kwargs}' if kwargs else '')\n",
    "    \n",
    "    if len(args) == 1 and callable(args[0]):\n",
    "        func = args[0]\n",
    "        #sig = inspect.signature(func)\n",
    "        #params = sig.parameters.keys()\n",
    "        #print(f'params: {params}')\n",
    "        \n",
    "        def inner(*args, **kwargs):\n",
    "            \"\"\"\n",
    "            if args and kwargs:\n",
    "                result = func(*args, **kwargs)\n",
    "            elif args:\n",
    "                result = func(*args)\n",
    "            elif kwargs:\n",
    "                result = func(**kwargs)\n",
    "            \n",
    "            return result\n",
    "            \"\"\"\n",
    "            return func(*args)\n",
    "        \n",
    "        inner.__name__ = func.__name__\n",
    "        \n",
    "        return inner\n"
   ]
  },
  {
   "cell_type": "code",
   "execution_count": 21,
   "id": "97899418-a931-4b2d-8a56-ff3750a5a7e8",
   "metadata": {},
   "outputs": [
    {
     "name": "stdout",
     "output_type": "stream",
     "text": [
      "Overwriting ../fabric_example/fabfile/tmux.py\n"
     ]
    }
   ],
   "source": [
    "%%file ../fabric_example/fabfile/tmux.py\n",
    "from fabric import task, Task\n",
    "from invoke.watchers import Responder\n",
    "import inspect\n",
    "import libtmux\n",
    "\n",
    "TMUX_SESSION_NAME = 'Fabric'\n",
    "\n",
    "@task\n",
    "def ConnectTmux(c):\n",
    "    server = libtmux.Server()\n",
    "    #session = server.sessions.get(session_name=TMUX_SESSION_NAME)\n",
    "    session = server.sessions.filter(lambda x: x.session_name.startswith(TMUX_SESSION_NAME))\n",
    "    if len(sessions) == 0:\n",
    "        session = server.new_session(session_name=f'{TMUX_SESSION_NAME}')\n",
    "\n",
    "def detach(c):\n",
    "    detachResponder = Responder(\n",
    "        pattern=r'^b^d',\n",
    "        response='^Bd'\n",
    "    )\n",
    "    result = c.run(\n",
    "        \"^b^d\",\n",
    "        hide=False, pty=True,\n",
    "        watchers=[detachResponder]\n",
    "    )\n",
    "    \"\"\"\n",
    "    server = libtmux.Server()\n",
    "    sessions = server.sessions.filter(lambda x: x.session_name.startswith(TMUX_SESSION_NAME))\n",
    "    #print(sessions)\n",
    "    if len(sessions) != 0:\n",
    "        session = sessions[0]\n",
    "        window = session.attached_window\n",
    "        pane = window.attached_pane\n",
    "        pane.send_keys('^B', enter=False)\n",
    "        pane.send_keys('d', enter=False)\n",
    "    \"\"\"\n",
    "\n",
    "def tmux_run(*args, **kwargs):\n",
    "    #print('=== fabfile.tmux.@tmux_run')\n",
    "    \"\"\"print(f'args: {args}' if args else '' +\n",
    "          ', ' if args and kwargs else '' +\n",
    "          f', kwargs: {kwargs}' if kwargs else '')\"\"\"\n",
    "    \n",
    "    if len(args) == 1 and callable(args[0]):\n",
    "        func = args[0]\n",
    "        #sig = inspect.signature(func)\n",
    "        #params = sig.parameters.keys()\n",
    "        #print(f'params: {params}')\n",
    "        \n",
    "        def inner(*args, **kwargs):\n",
    "            \"\"\"\n",
    "            if args and kwargs:\n",
    "                result = func(*args, **kwargs)\n",
    "            elif args:\n",
    "                result = func(*args)\n",
    "            elif kwargs:\n",
    "                result = func(**kwargs)\n",
    "            \n",
    "            return result\n",
    "            \"\"\"\n",
    "            return func(*args)\n",
    "        \n",
    "        inner.__name__ = func.__name__\n",
    "        inner.__doc__ = func.__doc__\n",
    "        \n",
    "        return inner\n"
   ]
  },
  {
   "cell_type": "code",
   "execution_count": 19,
   "id": "4d6db436-11a0-40bd-8183-d01060e1aeba",
   "metadata": {},
   "outputs": [
    {
     "name": "stdout",
     "output_type": "stream",
     "text": [
      "Available tasks:\n",
      "\n",
      "  CheckInstallation      which command\n",
      "  ConnectTmux\n",
      "  Mamba-CheckInstalled\n",
      "  Mamba-Install\n",
      "  Mamba-Uninstall\n",
      "  OLS-install\n",
      "  OLS-uninstall\n",
      "  Rust-CheckInstalled\n",
      "  Rust-Install\n",
      "  Rust-Uninstall\n",
      "\n"
     ]
    }
   ],
   "source": [
    "!fab -r ../fabric_example --list"
   ]
  },
  {
   "cell_type": "code",
   "execution_count": 7,
   "id": "9236fb18-2507-4ebb-ae09-834e99d9d4a6",
   "metadata": {},
   "outputs": [
    {
     "name": "stdout",
     "output_type": "stream",
     "text": [
      "Usage: fab [--core-opts] task1 [--task1-opts] ... taskN [--taskN-opts]\n",
      "\n",
      "Core options:\n",
      "\n",
      "  --complete                         Print tab-completion candidates for given\n",
      "                                     parse remainder.\n",
      "  --hide=STRING                      Set default value of run()'s 'hide' kwarg.\n",
      "  --no-dedupe                        Disable task deduplication.\n",
      "  --print-completion-script=STRING   Print the tab-completion script for your\n",
      "                                     preferred shell (bash|zsh|fish).\n",
      "  --prompt-for-login-password        Request an upfront SSH-auth password\n",
      "                                     prompt.\n",
      "  --prompt-for-passphrase            Request an upfront SSH key passphrase\n",
      "                                     prompt.\n",
      "  --prompt-for-sudo-password         Prompt user at start of session for the\n",
      "                                     sudo.password config value.\n",
      "  --write-pyc                        Enable creation of .pyc files.\n",
      "  -c STRING, --collection=STRING     Specify collection name to load.\n",
      "  -d, --debug                        Enable debug output.\n",
      "  -D INT, --list-depth=INT           When listing tasks, only show the first\n",
      "                                     INT levels.\n",
      "  -e, --echo                         Echo executed commands before running.\n",
      "  -f STRING, --config=STRING         Runtime configuration file to use.\n",
      "  -F STRING, --list-format=STRING    Change the display format used when\n",
      "                                     listing tasks. Should be one of: flat\n",
      "                                     (default), nested, json.\n",
      "  -h [STRING], --help[=STRING]       Show core or per-task help and exit.\n",
      "  -H STRING, --hosts=STRING          Comma-separated host name(s) to execute\n",
      "                                     tasks against.\n",
      "  -i, --identity                     Path to runtime SSH identity (key) file.\n",
      "                                     May be given multiple times.\n",
      "  -l [STRING], --list[=STRING]       List available tasks, optionally limited\n",
      "                                     to a namespace.\n",
      "  -p, --pty                          Use a pty when executing shell commands.\n",
      "  -r STRING, --search-root=STRING    Change root directory used for finding\n",
      "                                     task modules.\n",
      "  -R, --dry                          Echo commands instead of running.\n",
      "  -S STRING, --ssh-config=STRING     Path to runtime SSH config file.\n",
      "  -t INT, --connect-timeout=INT      Specifies default connection timeout, in\n",
      "                                     seconds.\n",
      "  -T INT, --command-timeout=INT      Specify a global command execution\n",
      "                                     timeout, in seconds.\n",
      "  -V, --version                      Show version and exit.\n",
      "  -w, --warn-only                    Warn, instead of failing, when shell\n",
      "                                     commands fail.\n",
      "\n"
     ]
    }
   ],
   "source": [
    "!fab --help"
   ]
  }
 ],
 "metadata": {
  "kernelspec": {
   "display_name": "Python 3 (ipykernel)",
   "language": "python",
   "name": "python3"
  },
  "language_info": {
   "codemirror_mode": {
    "name": "ipython",
    "version": 3
   },
   "file_extension": ".py",
   "mimetype": "text/x-python",
   "name": "python",
   "nbconvert_exporter": "python",
   "pygments_lexer": "ipython3",
   "version": "3.11.2"
  }
 },
 "nbformat": 4,
 "nbformat_minor": 5
}
