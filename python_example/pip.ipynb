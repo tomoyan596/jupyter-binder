{
 "cells": [
  {
   "cell_type": "markdown",
   "id": "21d8b15c-95c2-4071-a615-72f9dd5ceaa0",
   "metadata": {},
   "source": [
    "\n",
    "<style>\n",
    "    .jp-OutputArea-child {\n",
    "        max-height: 300px;\n",
    "    }\n",
    "\n",
    "    .jp-OutputArea-child .jp-OutputArea-output {\n",
    "        overflow: auto;\n",
    "    }\n",
    "    .jp-OutputArea pre {\n",
    "        max-height: 200px;\n",
    "    }\n",
    "</style>"
   ]
  },
  {
   "cell_type": "code",
   "execution_count": 3,
   "id": "2e1623e3-52f4-45e7-87ed-2b410280b02e",
   "metadata": {
    "collapsed": true,
    "jupyter": {
     "outputs_hidden": true
    },
    "scrolled": true,
    "tags": []
   },
   "outputs": [
    {
     "name": "stdout",
     "output_type": "stream",
     "text": [
      "Package                        Version\n",
      "------------------------------ ---------\n",
      "aiofiles                       22.1.0\n",
      "aiosqlite                      0.18.0\n",
      "anyio                          3.6.2\n",
      "argon2-cffi                    21.3.0\n",
      "argon2-cffi-bindings           21.2.0\n",
      "arrow                          1.2.3\n",
      "asttokens                      2.2.1\n",
      "attrs                          22.2.0\n",
      "Babel                          2.12.1\n",
      "backcall                       0.2.0\n",
      "bcrypt                         4.0.1\n",
      "beautifulsoup4                 4.12.2\n",
      "binaryornot                    0.4.4\n",
      "bleach                         6.0.0\n",
      "certifi                        2022.12.7\n",
      "cffi                           1.15.1\n",
      "chardet                        5.1.0\n",
      "charset-normalizer             3.1.0\n",
      "click                          8.1.3\n",
      "colorama                       0.4.6\n",
      "comm                           0.1.3\n",
      "cookiecutter                   2.1.1\n",
      "cryptography                   40.0.1\n",
      "debugpy                        1.6.7\n",
      "decorator                      5.1.1\n",
      "defusedxml                     0.7.1\n",
      "deprecation                    2.1.0\n",
      "entrypoints                    0.4\n",
      "executing                      1.2.0\n",
      "fabric                         3.0.0\n",
      "fastjsonschema                 2.16.3\n",
      "fqdn                           1.5.1\n",
      "gitdb                          4.0.10\n",
      "GitPython                      3.1.31\n",
      "idna                           3.4\n",
      "invoke                         2.0.0\n",
      "ipykernel                      6.22.0\n",
      "ipython                        8.12.0\n",
      "ipython-genutils               0.2.0\n",
      "isoduration                    20.11.0\n",
      "jedi                           0.18.2\n",
      "Jinja2                         3.1.2\n",
      "jinja2-time                    0.2.0\n",
      "json5                          0.9.11\n",
      "jsonpointer                    2.3\n",
      "jsonschema                     4.17.3\n",
      "jupyter_client                 8.1.0\n",
      "jupyter_core                   5.3.0\n",
      "jupyter-events                 0.6.3\n",
      "jupyter_packaging              0.12.3\n",
      "jupyter_server                 2.5.0\n",
      "jupyter_server_fileid          0.9.0\n",
      "jupyter-server-mathjax         0.2.6\n",
      "jupyter_server_terminals       0.4.4\n",
      "jupyter_server_ydoc            0.8.0\n",
      "jupyter-ydoc                   0.2.3\n",
      "jupyterlab                     3.6.3\n",
      "jupyterlab-git                 0.41.0\n",
      "jupyterlab-language-pack-ja-JP 3.6.post1\n",
      "jupyterlab-pygments            0.2.2\n",
      "jupyterlab_server              2.22.0\n",
      "libtmux                        0.21.1\n",
      "MarkupSafe                     2.1.2\n",
      "matplotlib-inline              0.1.6\n",
      "mistune                        2.0.5\n",
      "nbclassic                      0.5.5\n",
      "nbclient                       0.7.3\n",
      "nbconvert                      7.3.1\n",
      "nbdime                         3.1.1\n",
      "nbformat                       5.8.0\n",
      "nest-asyncio                   1.5.6\n",
      "notebook                       6.5.4\n",
      "notebook_shim                  0.2.2\n",
      "packaging                      23.0\n",
      "pandocfilters                  1.5.0\n",
      "paramiko                       3.1.0\n",
      "parso                          0.8.3\n",
      "pexpect                        4.8.0\n",
      "pickleshare                    0.7.5\n",
      "pip                            23.0.1\n",
      "platformdirs                   3.2.0\n",
      "prometheus-client              0.16.0\n",
      "prompt-toolkit                 3.0.38\n",
      "psutil                         5.9.4\n",
      "ptyprocess                     0.7.0\n",
      "pure-eval                      0.2.2\n",
      "pycparser                      2.21\n",
      "Pygments                       2.15.0\n",
      "PyNaCl                         1.5.0\n",
      "pyrsistent                     0.19.3\n",
      "python-dateutil                2.8.2\n",
      "python-json-logger             2.0.7\n",
      "python-slugify                 8.0.1\n",
      "pytz                           2023.3\n",
      "PyYAML                         6.0\n",
      "pyzmq                          25.0.2\n",
      "requests                       2.28.2\n",
      "rfc3339-validator              0.1.4\n",
      "rfc3986-validator              0.1.1\n",
      "Send2Trash                     1.8.0\n",
      "setuptools                     62.6.0\n",
      "six                            1.16.0\n",
      "smmap                          5.0.0\n",
      "sniffio                        1.3.0\n",
      "soupsieve                      2.4\n",
      "stack-data                     0.6.2\n",
      "terminado                      0.17.1\n",
      "text-unidecode                 1.3\n",
      "tinycss2                       1.2.1\n",
      "tomli                          2.0.1\n",
      "tomlkit                        0.11.7\n",
      "tornado                        6.2\n",
      "traitlets                      5.9.0\n",
      "uri-template                   1.2.0\n",
      "urllib3                        1.26.15\n",
      "voila                          0.0.0\n",
      "wcwidth                        0.2.6\n",
      "webcolors                      1.13\n",
      "webencodings                   0.5.1\n",
      "websocket-client               1.5.1\n",
      "websockets                     11.0.1\n",
      "wheel                          0.40.0\n",
      "y-py                           0.5.9\n",
      "ypy-websocket                  0.8.2\n",
      "\n",
      "\u001b[1m[\u001b[0m\u001b[34;49mnotice\u001b[0m\u001b[1;39;49m]\u001b[0m\u001b[39;49m A new release of pip is available: \u001b[0m\u001b[31;49m23.0.1\u001b[0m\u001b[39;49m -> \u001b[0m\u001b[32;49m23.1\u001b[0m\n",
      "\u001b[1m[\u001b[0m\u001b[34;49mnotice\u001b[0m\u001b[1;39;49m]\u001b[0m\u001b[39;49m To update, run: \u001b[0m\u001b[32;49mpip install --upgrade pip\u001b[0m\n"
     ]
    }
   ],
   "source": [
    "!pip list"
   ]
  },
  {
   "cell_type": "code",
   "execution_count": 10,
   "id": "c2cf8b8b-c404-4364-a4f4-81555f9ee0cc",
   "metadata": {
    "collapsed": true,
    "jupyter": {
     "outputs_hidden": true
    },
    "scrolled": true,
    "tags": []
   },
   "outputs": [
    {
     "name": "stdout",
     "output_type": "stream",
     "text": [
      "\n",
      "Usage:   \n",
      "  pip <command> [options]\n",
      "\n",
      "Commands:\n",
      "  install                     Install packages.\n",
      "  download                    Download packages.\n",
      "  uninstall                   Uninstall packages.\n",
      "  freeze                      Output installed packages in requirements format.\n",
      "  inspect                     Inspect the python environment.\n",
      "  list                        List installed packages.\n",
      "  show                        Show information about installed packages.\n",
      "  check                       Verify installed packages have compatible dependencies.\n",
      "  config                      Manage local and global configuration.\n",
      "  search                      Search PyPI for packages.\n",
      "  cache                       Inspect and manage pip's wheel cache.\n",
      "  index                       Inspect information available from package indexes.\n",
      "  wheel                       Build wheels from your requirements.\n",
      "  hash                        Compute hashes of package archives.\n",
      "  completion                  A helper command used for command completion.\n",
      "  debug                       Show information useful for debugging.\n",
      "  help                        Show help for commands.\n",
      "\n",
      "General Options:\n",
      "  -h, --help                  Show help.\n",
      "  --debug                     Let unhandled exceptions propagate outside the\n",
      "                              main subroutine, instead of logging them to\n",
      "                              stderr.\n",
      "  --isolated                  Run pip in an isolated mode, ignoring\n",
      "                              environment variables and user configuration.\n",
      "  --require-virtualenv        Allow pip to only run in a virtual environment;\n",
      "                              exit with an error otherwise.\n",
      "  --python <python>           Run pip with the specified Python interpreter.\n",
      "  -v, --verbose               Give more output. Option is additive, and can be\n",
      "                              used up to 3 times.\n",
      "  -V, --version               Show version and exit.\n",
      "  -q, --quiet                 Give less output. Option is additive, and can be\n",
      "                              used up to 3 times (corresponding to WARNING,\n",
      "                              ERROR, and CRITICAL logging levels).\n",
      "  --log <path>                Path to a verbose appending log.\n",
      "  --no-input                  Disable prompting for input.\n",
      "  --proxy <proxy>             Specify a proxy in the form\n",
      "                              scheme://[user:passwd@]proxy.server:port.\n",
      "  --retries <retries>         Maximum number of retries each connection should\n",
      "                              attempt (default 5 times).\n",
      "  --timeout <sec>             Set the socket timeout (default 15 seconds).\n",
      "  --exists-action <action>    Default action when a path already exists:\n",
      "                              (s)witch, (i)gnore, (w)ipe, (b)ackup, (a)bort.\n",
      "  --trusted-host <hostname>   Mark this host or host:port pair as trusted,\n",
      "                              even though it does not have valid or any HTTPS.\n",
      "  --cert <path>               Path to PEM-encoded CA certificate bundle. If\n",
      "                              provided, overrides the default. See 'SSL\n",
      "                              Certificate Verification' in pip documentation\n",
      "                              for more information.\n",
      "  --client-cert <path>        Path to SSL client certificate, a single file\n",
      "                              containing the private key and the certificate\n",
      "                              in PEM format.\n",
      "  --cache-dir <dir>           Store the cache data in <dir>.\n",
      "  --no-cache-dir              Disable the cache.\n",
      "  --disable-pip-version-check\n",
      "                              Don't periodically check PyPI to determine\n",
      "                              whether a new version of pip is available for\n",
      "                              download. Implied with --no-index.\n",
      "  --no-color                  Suppress colored output.\n",
      "  --no-python-version-warning\n",
      "                              Silence deprecation warnings for upcoming\n",
      "                              unsupported Pythons.\n",
      "  --use-feature <feature>     Enable new functionality, that may be backward\n",
      "                              incompatible.\n",
      "  --use-deprecated <feature>  Enable deprecated functionality, that will be\n",
      "                              removed in the future.\n"
     ]
    }
   ],
   "source": [
    "!pip --help"
   ]
  },
  {
   "cell_type": "code",
   "execution_count": 11,
   "id": "0f53c20e-d067-40d0-9ffe-ce4fc2a9d398",
   "metadata": {
    "collapsed": true,
    "jupyter": {
     "outputs_hidden": true
    },
    "scrolled": true,
    "tags": []
   },
   "outputs": [
    {
     "name": "stdout",
     "output_type": "stream",
     "text": [
      "\n",
      "Usage:   \n",
      "  pip install [options] <requirement specifier> [package-index-options] ...\n",
      "  pip install [options] -r <requirements file> [package-index-options] ...\n",
      "  pip install [options] [-e] <vcs project url> ...\n",
      "  pip install [options] [-e] <local project path> ...\n",
      "  pip install [options] <archive url/path> ...\n",
      "\n",
      "Description:\n",
      "  Install packages from:\n",
      "  \n",
      "  - PyPI (and other indexes) using requirement specifiers.\n",
      "  - VCS project urls.\n",
      "  - Local project directories.\n",
      "  - Local or remote source archives.\n",
      "  \n",
      "  pip also supports installing from \"requirements files\", which provide\n",
      "  an easy way to specify a whole environment to be installed.\n",
      "\n",
      "Install Options:\n",
      "  -r, --requirement <file>    Install from the given requirements file. This\n",
      "                              option can be used multiple times.\n",
      "  -c, --constraint <file>     Constrain versions using the given constraints\n",
      "                              file. This option can be used multiple times.\n",
      "  --no-deps                   Don't install package dependencies.\n",
      "  --pre                       Include pre-release and development versions. By\n",
      "                              default, pip only finds stable versions.\n",
      "  -e, --editable <path/url>   Install a project in editable mode (i.e.\n",
      "                              setuptools \"develop mode\") from a local project\n",
      "                              path or a VCS url.\n",
      "  --dry-run                   Don't actually install anything, just print what\n",
      "                              would be. Can be used in combination with\n",
      "                              --ignore-installed to 'resolve' the\n",
      "                              requirements.\n",
      "  -t, --target <dir>          Install packages into <dir>. By default this\n",
      "                              will not replace existing files/folders in\n",
      "                              <dir>. Use --upgrade to replace existing\n",
      "                              packages in <dir> with new versions.\n",
      "  --platform <platform>       Only use wheels compatible with <platform>.\n",
      "                              Defaults to the platform of the running system.\n",
      "                              Use this option multiple times to specify\n",
      "                              multiple platforms supported by the target\n",
      "                              interpreter.\n",
      "  --python-version <python_version>\n",
      "                              The Python interpreter version to use for wheel\n",
      "                              and \"Requires-Python\" compatibility checks.\n",
      "                              Defaults to a version derived from the running\n",
      "                              interpreter. The version can be specified using\n",
      "                              up to three dot-separated integers (e.g. \"3\" for\n",
      "                              3.0.0, \"3.7\" for 3.7.0, or \"3.7.3\"). A major-\n",
      "                              minor version can also be given as a string\n",
      "                              without dots (e.g. \"37\" for 3.7.0).\n",
      "  --implementation <implementation>\n",
      "                              Only use wheels compatible with Python\n",
      "                              implementation <implementation>, e.g. 'pp',\n",
      "                              'jy', 'cp',  or 'ip'. If not specified, then the\n",
      "                              current interpreter implementation is used.  Use\n",
      "                              'py' to force implementation-agnostic wheels.\n",
      "  --abi <abi>                 Only use wheels compatible with Python abi\n",
      "                              <abi>, e.g. 'pypy_41'. If not specified, then\n",
      "                              the current interpreter abi tag is used. Use\n",
      "                              this option multiple times to specify multiple\n",
      "                              abis supported by the target interpreter.\n",
      "                              Generally you will need to specify\n",
      "                              --implementation, --platform, and --python-\n",
      "                              version when using this option.\n",
      "  --user                      Install to the Python user install directory for\n",
      "                              your platform. Typically ~/.local/, or\n",
      "                              %APPDATA%\\Python on Windows. (See the Python\n",
      "                              documentation for site.USER_BASE for full\n",
      "                              details.)\n",
      "  --root <dir>                Install everything relative to this alternate\n",
      "                              root directory.\n",
      "  --prefix <dir>              Installation prefix where lib, bin and other\n",
      "                              top-level folders are placed\n",
      "  --src <dir>                 Directory to check out editable projects into.\n",
      "                              The default in a virtualenv is \"<venv\n",
      "                              path>/src\". The default for global installs is\n",
      "                              \"<current dir>/src\".\n",
      "  -U, --upgrade               Upgrade all specified packages to the newest\n",
      "                              available version. The handling of dependencies\n",
      "                              depends on the upgrade-strategy used.\n",
      "  --upgrade-strategy <upgrade_strategy>\n",
      "                              Determines how dependency upgrading should be\n",
      "                              handled [default: only-if-needed]. \"eager\" -\n",
      "                              dependencies are upgraded regardless of whether\n",
      "                              the currently installed version satisfies the\n",
      "                              requirements of the upgraded package(s). \"only-\n",
      "                              if-needed\" -  are upgraded only when they do not\n",
      "                              satisfy the requirements of the upgraded\n",
      "                              package(s).\n",
      "  --force-reinstall           Reinstall all packages even if they are already\n",
      "                              up-to-date.\n",
      "  -I, --ignore-installed      Ignore the installed packages, overwriting them.\n",
      "                              This can break your system if the existing\n",
      "                              package is of a different version or was\n",
      "                              installed with a different package manager!\n",
      "  --ignore-requires-python    Ignore the Requires-Python information.\n",
      "  --no-build-isolation        Disable isolation when building a modern source\n",
      "                              distribution. Build dependencies specified by\n",
      "                              PEP 518 must be already installed if this option\n",
      "                              is used.\n",
      "  --use-pep517                Use PEP 517 for building source distributions\n",
      "                              (use --no-use-pep517 to force legacy behaviour).\n",
      "  --check-build-dependencies  Check the build dependencies when PEP517 is\n",
      "                              used.\n",
      "  --break-system-packages     Allow pip to modify an EXTERNALLY-MANAGED Python\n",
      "                              installation\n",
      "  --config-settings <settings>\n",
      "                              Configuration settings to be passed to the PEP\n",
      "                              517 build backend. Settings take the form\n",
      "                              KEY=VALUE. Use multiple --config-settings\n",
      "                              options to pass multiple keys to the backend.\n",
      "  --install-option <options>  This option is deprecated. Using this option\n",
      "                              with location-changing options may cause\n",
      "                              unexpected behavior. Use pip-level options like\n",
      "                              --user, --prefix, --root, and --target.\n",
      "  --global-option <options>   Extra global options to be supplied to the\n",
      "                              setup.py call before the install or bdist_wheel\n",
      "                              command.\n",
      "  --compile                   Compile Python source files to bytecode\n",
      "  --no-compile                Do not compile Python source files to bytecode\n",
      "  --no-warn-script-location   Do not warn when installing scripts outside PATH\n",
      "  --no-warn-conflicts         Do not warn about broken dependencies\n",
      "  --no-binary <format_control>\n",
      "                              Do not use binary packages. Can be supplied\n",
      "                              multiple times, and each time adds to the\n",
      "                              existing value. Accepts either \":all:\" to\n",
      "                              disable all binary packages, \":none:\" to empty\n",
      "                              the set (notice the colons), or one or more\n",
      "                              package names with commas between them (no\n",
      "                              colons). Note that some packages are tricky to\n",
      "                              compile and may fail to install when this option\n",
      "                              is used on them.\n",
      "  --only-binary <format_control>\n",
      "                              Do not use source packages. Can be supplied\n",
      "                              multiple times, and each time adds to the\n",
      "                              existing value. Accepts either \":all:\" to\n",
      "                              disable all source packages, \":none:\" to empty\n",
      "                              the set, or one or more package names with\n",
      "                              commas between them. Packages without binary\n",
      "                              distributions will fail to install when this\n",
      "                              option is used on them.\n",
      "  --prefer-binary             Prefer older binary packages over newer source\n",
      "                              packages.\n",
      "  --require-hashes            Require a hash to check each requirement\n",
      "                              against, for repeatable installs. This option is\n",
      "                              implied when any package in a requirements file\n",
      "                              has a --hash option.\n",
      "  --progress-bar <progress_bar>\n",
      "                              Specify whether the progress bar should be used\n",
      "                              [on, off] (default: on)\n",
      "  --root-user-action <root_user_action>\n",
      "                              Action if pip is run as a root user. By default,\n",
      "                              a warning message is shown.\n",
      "  --report <file>             Generate a JSON file describing what pip did to\n",
      "                              install the provided requirements. Can be used\n",
      "                              in combination with --dry-run and --ignore-\n",
      "                              installed to 'resolve' the requirements. When -\n",
      "                              is used as file name it writes to stdout. When\n",
      "                              writing to stdout, please combine with the\n",
      "                              --quiet option to avoid mixing pip logging\n",
      "                              output with JSON output.\n",
      "  --no-clean                  Don't clean up build directories.\n",
      "\n",
      "Package Index Options:\n",
      "  -i, --index-url <url>       Base URL of the Python Package Index (default\n",
      "                              https://pypi.org/simple). This should point to a\n",
      "                              repository compliant with PEP 503 (the simple\n",
      "                              repository API) or a local directory laid out in\n",
      "                              the same format.\n",
      "  --extra-index-url <url>     Extra URLs of package indexes to use in addition\n",
      "                              to --index-url. Should follow the same rules as\n",
      "                              --index-url.\n",
      "  --no-index                  Ignore package index (only looking at --find-\n",
      "                              links URLs instead).\n",
      "  -f, --find-links <url>      If a URL or path to an html file, then parse for\n",
      "                              links to archives such as sdist (.tar.gz) or\n",
      "                              wheel (.whl) files. If a local path or file://\n",
      "                              URL that's a directory, then look for archives\n",
      "                              in the directory listing. Links to VCS project\n",
      "                              URLs are not supported.\n",
      "\n",
      "General Options:\n",
      "  -h, --help                  Show help.\n",
      "  --debug                     Let unhandled exceptions propagate outside the\n",
      "                              main subroutine, instead of logging them to\n",
      "                              stderr.\n",
      "  --isolated                  Run pip in an isolated mode, ignoring\n",
      "                              environment variables and user configuration.\n",
      "  --require-virtualenv        Allow pip to only run in a virtual environment;\n",
      "                              exit with an error otherwise.\n",
      "  --python <python>           Run pip with the specified Python interpreter.\n",
      "  -v, --verbose               Give more output. Option is additive, and can be\n",
      "                              used up to 3 times.\n",
      "  -V, --version               Show version and exit.\n",
      "  -q, --quiet                 Give less output. Option is additive, and can be\n",
      "                              used up to 3 times (corresponding to WARNING,\n",
      "                              ERROR, and CRITICAL logging levels).\n",
      "  --log <path>                Path to a verbose appending log.\n",
      "  --no-input                  Disable prompting for input.\n",
      "  --proxy <proxy>             Specify a proxy in the form\n",
      "                              scheme://[user:passwd@]proxy.server:port.\n",
      "  --retries <retries>         Maximum number of retries each connection should\n",
      "                              attempt (default 5 times).\n",
      "  --timeout <sec>             Set the socket timeout (default 15 seconds).\n",
      "  --exists-action <action>    Default action when a path already exists:\n",
      "                              (s)witch, (i)gnore, (w)ipe, (b)ackup, (a)bort.\n",
      "  --trusted-host <hostname>   Mark this host or host:port pair as trusted,\n",
      "                              even though it does not have valid or any HTTPS.\n",
      "  --cert <path>               Path to PEM-encoded CA certificate bundle. If\n",
      "                              provided, overrides the default. See 'SSL\n",
      "                              Certificate Verification' in pip documentation\n",
      "                              for more information.\n",
      "  --client-cert <path>        Path to SSL client certificate, a single file\n",
      "                              containing the private key and the certificate\n",
      "                              in PEM format.\n",
      "  --cache-dir <dir>           Store the cache data in <dir>.\n",
      "  --no-cache-dir              Disable the cache.\n",
      "  --disable-pip-version-check\n",
      "                              Don't periodically check PyPI to determine\n",
      "                              whether a new version of pip is available for\n",
      "                              download. Implied with --no-index.\n",
      "  --no-color                  Suppress colored output.\n",
      "  --no-python-version-warning\n",
      "                              Silence deprecation warnings for upcoming\n",
      "                              unsupported Pythons.\n",
      "  --use-feature <feature>     Enable new functionality, that may be backward\n",
      "                              incompatible.\n",
      "  --use-deprecated <feature>  Enable deprecated functionality, that will be\n",
      "                              removed in the future.\n"
     ]
    }
   ],
   "source": [
    "!pip help install"
   ]
  },
  {
   "cell_type": "markdown",
   "id": "0518e663-179c-42e0-aab3-e4ed2eda018f",
   "metadata": {
    "tags": []
   },
   "source": [
    "## pip 自体を最新に更新しておく"
   ]
  },
  {
   "cell_type": "code",
   "execution_count": 12,
   "id": "63a2efc0-3fdb-41ff-91cd-fabc1e071264",
   "metadata": {
    "scrolled": true,
    "tags": []
   },
   "outputs": [
    {
     "name": "stdout",
     "output_type": "stream",
     "text": [
      "Requirement already satisfied: pip in /home/tomoyan/pyJupyterLab/lib64/python3.11/site-packages (23.0.1)\n",
      "Collecting pip\n",
      "  Downloading pip-23.1-py3-none-any.whl (2.1 MB)\n",
      "\u001b[2K     \u001b[38;2;114;156;31m━━━━━━━━━━━━━━━━━━━━━━━━━━━━━━━━━━━━━━━━\u001b[0m \u001b[32m2.1/2.1 MB\u001b[0m \u001b[31m2.0 MB/s\u001b[0m eta \u001b[36m0:00:00\u001b[0mm eta \u001b[36m0:00:01\u001b[0m0:01\u001b[0m:01\u001b[0m0m\n",
      "\u001b[?25hInstalling collected packages: pip\n",
      "  Attempting uninstall: pip\n",
      "    Found existing installation: pip 23.0.1\n",
      "    Uninstalling pip-23.0.1:\n",
      "      Successfully uninstalled pip-23.0.1\n",
      "Successfully installed pip-23.1\n"
     ]
    }
   ],
   "source": [
    "!pip install --upgrade pip"
   ]
  },
  {
   "cell_type": "markdown",
   "id": "ffeda5cd-8390-49ef-a2a6-cf8ab60461ce",
   "metadata": {
    "tags": []
   },
   "source": [
    "## 更新可能なパッケージ一覧 (-o / --outdated)"
   ]
  },
  {
   "cell_type": "code",
   "execution_count": 13,
   "id": "cab3aa46-bd70-41cf-a431-c5477d048af9",
   "metadata": {
    "tags": []
   },
   "outputs": [
    {
     "name": "stdout",
     "output_type": "stream",
     "text": [
      "Package           Version Latest Type\n",
      "----------------- ------- ------ -----\n",
      "aiofiles          22.1.0  23.1.0 wheel\n",
      "aiosqlite         0.18.0  0.19.0 wheel\n",
      "attrs             22.2.0  23.1.0 wheel\n",
      "cryptography      40.0.1  40.0.2 wheel\n",
      "jupyter_client    8.1.0   8.2.0  wheel\n",
      "jupyter-ydoc      0.2.3   1.0.2  wheel\n",
      "jupyterlab_server 2.22.0  2.22.1 wheel\n",
      "packaging         23.0    23.1   wheel\n",
      "setuptools        62.6.0  67.6.1 wheel\n",
      "soupsieve         2.4     2.4.1  wheel\n",
      "voila             0.0.0   0.4.0  wheel\n",
      "y-py              0.5.9   0.6.0  wheel\n",
      "ypy-websocket     0.8.2   0.9.0  wheel\n"
     ]
    }
   ],
   "source": [
    "!pip list --outdated"
   ]
  },
  {
   "cell_type": "markdown",
   "id": "8b0ea304-d618-4f61-b4ea-5cc7ba14fbe7",
   "metadata": {
    "tags": []
   },
   "source": [
    "## 出力ヘッダを除いた 3 行目以降を取得する - sed, tail コマンド"
   ]
  },
  {
   "cell_type": "code",
   "execution_count": 17,
   "id": "2d900fd0-1dab-431a-be12-0131c4cafa66",
   "metadata": {
    "collapsed": true,
    "jupyter": {
     "outputs_hidden": true
    },
    "tags": []
   },
   "outputs": [
    {
     "name": "stdout",
     "output_type": "stream",
     "text": [
      "aiofiles          22.1.0  23.1.0 wheel\n",
      "aiosqlite         0.18.0  0.19.0 wheel\n",
      "attrs             22.2.0  23.1.0 wheel\n",
      "cryptography      40.0.1  40.0.2 wheel\n",
      "jupyter_client    8.1.0   8.2.0  wheel\n",
      "jupyter-ydoc      0.2.3   1.0.2  wheel\n",
      "jupyterlab_server 2.22.0  2.22.1 wheel\n",
      "packaging         23.0    23.1   wheel\n",
      "setuptools        62.6.0  67.6.1 wheel\n",
      "soupsieve         2.4     2.4.1  wheel\n",
      "voila             0.0.0   0.4.0  wheel\n",
      "y-py              0.5.9   0.6.0  wheel\n",
      "ypy-websocket     0.8.2   0.9.0  wheel\n"
     ]
    }
   ],
   "source": [
    "!pip list --outdated | sed 1,2d"
   ]
  },
  {
   "cell_type": "code",
   "execution_count": 14,
   "id": "2ca9856a-6ff8-40ef-8dc3-9140fd586444",
   "metadata": {
    "collapsed": true,
    "jupyter": {
     "outputs_hidden": true
    },
    "tags": []
   },
   "outputs": [
    {
     "name": "stdout",
     "output_type": "stream",
     "text": [
      "aiofiles          22.1.0  23.1.0 wheel\n",
      "aiosqlite         0.18.0  0.19.0 wheel\n",
      "attrs             22.2.0  23.1.0 wheel\n",
      "cryptography      40.0.1  40.0.2 wheel\n",
      "jupyter_client    8.1.0   8.2.0  wheel\n",
      "jupyter-ydoc      0.2.3   1.0.2  wheel\n",
      "jupyterlab_server 2.22.0  2.22.1 wheel\n",
      "packaging         23.0    23.1   wheel\n",
      "setuptools        62.6.0  67.6.1 wheel\n",
      "soupsieve         2.4     2.4.1  wheel\n",
      "voila             0.0.0   0.4.0  wheel\n",
      "y-py              0.5.9   0.6.0  wheel\n",
      "ypy-websocket     0.8.2   0.9.0  wheel\n"
     ]
    }
   ],
   "source": [
    "!pip list --outdated | tail -n +3"
   ]
  },
  {
   "cell_type": "markdown",
   "id": "e8976a66-6b0b-44c6-b9f3-7a0fe7226d8b",
   "metadata": {
    "tags": []
   },
   "source": [
    "## 区切り文字で列に区切られた 1 列目を取得する - cut コマンド"
   ]
  },
  {
   "cell_type": "code",
   "execution_count": 23,
   "id": "86e92205-ca31-4124-bfc7-e9e480ef0d94",
   "metadata": {
    "tags": []
   },
   "outputs": [
    {
     "name": "stdout",
     "output_type": "stream",
     "text": [
      "aiofiles\n",
      "aiosqlite\n",
      "attrs\n",
      "cryptography\n",
      "jupyter_client\n",
      "jupyter-ydoc\n",
      "jupyterlab_server\n",
      "packaging\n",
      "psutil\n",
      "Pygments\n",
      "setuptools\n",
      "soupsieve\n",
      "tornado\n",
      "voila\n",
      "websockets\n",
      "y-py\n",
      "ypy-websocket\n",
      "CPU times: user 693 ms, sys: 137 ms, total: 830 ms\n",
      "Wall time: 24.3 s\n"
     ]
    }
   ],
   "source": [
    "%%time\n",
    "!pip list --outdated | sed 1,2d | cut -f 1 -d ' '"
   ]
  },
  {
   "cell_type": "code",
   "execution_count": 24,
   "id": "b25cc8ce-63bb-4b16-8f88-5844184c81b9",
   "metadata": {
    "collapsed": true,
    "jupyter": {
     "outputs_hidden": true
    },
    "tags": []
   },
   "outputs": [
    {
     "name": "stdout",
     "output_type": "stream",
     "text": [
      "aiofiles\n",
      "aiosqlite\n",
      "attrs\n",
      "cryptography\n",
      "jupyter_client\n",
      "jupyter-ydoc\n",
      "jupyterlab_server\n",
      "packaging\n",
      "psutil\n",
      "Pygments\n",
      "setuptools\n",
      "soupsieve\n",
      "tornado\n",
      "voila\n",
      "websockets\n",
      "y-py\n",
      "ypy-websocket\n",
      "CPU times: user 723 ms, sys: 142 ms, total: 865 ms\n",
      "Wall time: 24.9 s\n"
     ]
    }
   ],
   "source": [
    "%%time\n",
    "!pip list --outdated | tail -n +3 | awk '{print $1}'"
   ]
  },
  {
   "cell_type": "markdown",
   "id": "cd44b0f8-e5d9-4208-bab7-4faa1eee1b1a",
   "metadata": {
    "tags": []
   },
   "source": [
    "## 更新可能なパッケージをすべて更新する🤔"
   ]
  },
  {
   "cell_type": "code",
   "execution_count": 2,
   "id": "99e2a30a-da2e-47c9-8b9b-6506df2ea9d7",
   "metadata": {
    "scrolled": true,
    "tags": []
   },
   "outputs": [
    {
     "name": "stdout",
     "output_type": "stream",
     "text": [
      "Requirement already satisfied: jupyter_client in /home/tomoyan/pyJupyterLab/lib64/python3.11/site-packages (7.4.1)\n",
      "Collecting jupyter_client\n",
      "  Using cached jupyter_client-8.2.0-py3-none-any.whl (103 kB)\n",
      "Requirement already satisfied: jupyter-server in /home/tomoyan/pyJupyterLab/lib64/python3.11/site-packages (1.24.0)\n",
      "Collecting jupyter-server\n",
      "  Using cached jupyter_server-2.5.0-py3-none-any.whl (366 kB)\n",
      "Requirement already satisfied: jupyter-core!=5.0.*,>=4.12 in /home/tomoyan/pyJupyterLab/lib64/python3.11/site-packages (from jupyter_client) (5.3.0)\n",
      "Requirement already satisfied: python-dateutil>=2.8.2 in /home/tomoyan/pyJupyterLab/lib64/python3.11/site-packages (from jupyter_client) (2.8.2)\n",
      "Requirement already satisfied: pyzmq>=23.0 in /home/tomoyan/pyJupyterLab/lib64/python3.11/site-packages (from jupyter_client) (25.0.2)\n",
      "Requirement already satisfied: tornado>=6.2 in /home/tomoyan/pyJupyterLab/lib64/python3.11/site-packages (from jupyter_client) (6.3)\n",
      "Requirement already satisfied: traitlets>=5.3 in /home/tomoyan/pyJupyterLab/lib64/python3.11/site-packages (from jupyter_client) (5.9.0)\n",
      "Requirement already satisfied: anyio>=3.1.0 in /home/tomoyan/pyJupyterLab/lib64/python3.11/site-packages (from jupyter-server) (3.6.2)\n",
      "Requirement already satisfied: argon2-cffi in /home/tomoyan/pyJupyterLab/lib64/python3.11/site-packages (from jupyter-server) (21.3.0)\n",
      "Requirement already satisfied: jinja2 in /home/tomoyan/pyJupyterLab/lib64/python3.11/site-packages (from jupyter-server) (3.1.2)\n",
      "Requirement already satisfied: jupyter-events>=0.4.0 in /home/tomoyan/pyJupyterLab/lib64/python3.11/site-packages (from jupyter-server) (0.6.3)\n",
      "Requirement already satisfied: jupyter-server-terminals in /home/tomoyan/pyJupyterLab/lib64/python3.11/site-packages (from jupyter-server) (0.4.4)\n",
      "Requirement already satisfied: nbconvert>=6.4.4 in /home/tomoyan/pyJupyterLab/lib64/python3.11/site-packages (from jupyter-server) (7.3.1)\n",
      "Requirement already satisfied: nbformat>=5.3.0 in /home/tomoyan/pyJupyterLab/lib64/python3.11/site-packages (from jupyter-server) (5.8.0)\n",
      "Requirement already satisfied: packaging in /home/tomoyan/pyJupyterLab/lib64/python3.11/site-packages (from jupyter-server) (23.1)\n",
      "Requirement already satisfied: prometheus-client in /home/tomoyan/pyJupyterLab/lib64/python3.11/site-packages (from jupyter-server) (0.16.0)\n",
      "Requirement already satisfied: send2trash in /home/tomoyan/pyJupyterLab/lib64/python3.11/site-packages (from jupyter-server) (1.8.0)\n",
      "Requirement already satisfied: terminado>=0.8.3 in /home/tomoyan/pyJupyterLab/lib64/python3.11/site-packages (from jupyter-server) (0.17.1)\n",
      "Requirement already satisfied: websocket-client in /home/tomoyan/pyJupyterLab/lib64/python3.11/site-packages (from jupyter-server) (1.5.1)\n",
      "Requirement already satisfied: idna>=2.8 in /home/tomoyan/pyJupyterLab/lib64/python3.11/site-packages (from anyio>=3.1.0->jupyter-server) (3.4)\n",
      "Requirement already satisfied: sniffio>=1.1 in /home/tomoyan/pyJupyterLab/lib64/python3.11/site-packages (from anyio>=3.1.0->jupyter-server) (1.3.0)\n",
      "Requirement already satisfied: platformdirs>=2.5 in /home/tomoyan/pyJupyterLab/lib64/python3.11/site-packages (from jupyter-core!=5.0.*,>=4.12->jupyter_client) (3.2.0)\n",
      "Requirement already satisfied: jsonschema[format-nongpl]>=3.2.0 in /home/tomoyan/pyJupyterLab/lib64/python3.11/site-packages (from jupyter-events>=0.4.0->jupyter-server) (4.17.3)\n",
      "Requirement already satisfied: python-json-logger>=2.0.4 in /home/tomoyan/pyJupyterLab/lib64/python3.11/site-packages (from jupyter-events>=0.4.0->jupyter-server) (2.0.7)\n",
      "Requirement already satisfied: pyyaml>=5.3 in /home/tomoyan/pyJupyterLab/lib64/python3.11/site-packages (from jupyter-events>=0.4.0->jupyter-server) (6.0)\n",
      "Requirement already satisfied: rfc3339-validator in /home/tomoyan/pyJupyterLab/lib64/python3.11/site-packages (from jupyter-events>=0.4.0->jupyter-server) (0.1.4)\n",
      "Requirement already satisfied: rfc3986-validator>=0.1.1 in /home/tomoyan/pyJupyterLab/lib64/python3.11/site-packages (from jupyter-events>=0.4.0->jupyter-server) (0.1.1)\n",
      "Requirement already satisfied: beautifulsoup4 in /home/tomoyan/pyJupyterLab/lib64/python3.11/site-packages (from nbconvert>=6.4.4->jupyter-server) (4.12.2)\n",
      "Requirement already satisfied: bleach in /home/tomoyan/pyJupyterLab/lib64/python3.11/site-packages (from nbconvert>=6.4.4->jupyter-server) (6.0.0)\n",
      "Requirement already satisfied: defusedxml in /home/tomoyan/pyJupyterLab/lib64/python3.11/site-packages (from nbconvert>=6.4.4->jupyter-server) (0.7.1)\n",
      "Requirement already satisfied: jupyterlab-pygments in /home/tomoyan/pyJupyterLab/lib64/python3.11/site-packages (from nbconvert>=6.4.4->jupyter-server) (0.2.2)\n",
      "Requirement already satisfied: markupsafe>=2.0 in /home/tomoyan/pyJupyterLab/lib64/python3.11/site-packages (from nbconvert>=6.4.4->jupyter-server) (2.1.2)\n",
      "Requirement already satisfied: mistune<3,>=2.0.3 in /home/tomoyan/pyJupyterLab/lib64/python3.11/site-packages (from nbconvert>=6.4.4->jupyter-server) (2.0.5)\n",
      "Requirement already satisfied: nbclient>=0.5.0 in /home/tomoyan/pyJupyterLab/lib64/python3.11/site-packages (from nbconvert>=6.4.4->jupyter-server) (0.7.3)\n",
      "Requirement already satisfied: pandocfilters>=1.4.1 in /home/tomoyan/pyJupyterLab/lib64/python3.11/site-packages (from nbconvert>=6.4.4->jupyter-server) (1.5.0)\n",
      "Requirement already satisfied: pygments>=2.4.1 in /home/tomoyan/pyJupyterLab/lib64/python3.11/site-packages (from nbconvert>=6.4.4->jupyter-server) (2.15.1)\n",
      "Requirement already satisfied: tinycss2 in /home/tomoyan/pyJupyterLab/lib64/python3.11/site-packages (from nbconvert>=6.4.4->jupyter-server) (1.2.1)\n",
      "Requirement already satisfied: fastjsonschema in /home/tomoyan/pyJupyterLab/lib64/python3.11/site-packages (from nbformat>=5.3.0->jupyter-server) (2.16.3)\n",
      "Requirement already satisfied: six>=1.5 in /home/tomoyan/pyJupyterLab/lib64/python3.11/site-packages (from python-dateutil>=2.8.2->jupyter_client) (1.16.0)\n",
      "Requirement already satisfied: ptyprocess in /home/tomoyan/pyJupyterLab/lib64/python3.11/site-packages (from terminado>=0.8.3->jupyter-server) (0.7.0)\n",
      "Requirement already satisfied: argon2-cffi-bindings in /home/tomoyan/pyJupyterLab/lib64/python3.11/site-packages (from argon2-cffi->jupyter-server) (21.2.0)\n",
      "Requirement already satisfied: attrs>=17.4.0 in /home/tomoyan/pyJupyterLab/lib64/python3.11/site-packages (from jsonschema[format-nongpl]>=3.2.0->jupyter-events>=0.4.0->jupyter-server) (23.1.0)\n",
      "Requirement already satisfied: pyrsistent!=0.17.0,!=0.17.1,!=0.17.2,>=0.14.0 in /home/tomoyan/pyJupyterLab/lib64/python3.11/site-packages (from jsonschema[format-nongpl]>=3.2.0->jupyter-events>=0.4.0->jupyter-server) (0.19.3)\n",
      "Requirement already satisfied: fqdn in /home/tomoyan/pyJupyterLab/lib64/python3.11/site-packages (from jsonschema[format-nongpl]>=3.2.0->jupyter-events>=0.4.0->jupyter-server) (1.5.1)\n",
      "Requirement already satisfied: isoduration in /home/tomoyan/pyJupyterLab/lib64/python3.11/site-packages (from jsonschema[format-nongpl]>=3.2.0->jupyter-events>=0.4.0->jupyter-server) (20.11.0)\n",
      "Requirement already satisfied: jsonpointer>1.13 in /home/tomoyan/pyJupyterLab/lib64/python3.11/site-packages (from jsonschema[format-nongpl]>=3.2.0->jupyter-events>=0.4.0->jupyter-server) (2.3)\n",
      "Requirement already satisfied: uri-template in /home/tomoyan/pyJupyterLab/lib64/python3.11/site-packages (from jsonschema[format-nongpl]>=3.2.0->jupyter-events>=0.4.0->jupyter-server) (1.2.0)\n",
      "Requirement already satisfied: webcolors>=1.11 in /home/tomoyan/pyJupyterLab/lib64/python3.11/site-packages (from jsonschema[format-nongpl]>=3.2.0->jupyter-events>=0.4.0->jupyter-server) (1.13)\n",
      "Requirement already satisfied: cffi>=1.0.1 in /home/tomoyan/pyJupyterLab/lib64/python3.11/site-packages (from argon2-cffi-bindings->argon2-cffi->jupyter-server) (1.15.1)\n",
      "Requirement already satisfied: soupsieve>1.2 in /home/tomoyan/pyJupyterLab/lib64/python3.11/site-packages (from beautifulsoup4->nbconvert>=6.4.4->jupyter-server) (2.4.1)\n",
      "Requirement already satisfied: webencodings in /home/tomoyan/pyJupyterLab/lib64/python3.11/site-packages (from bleach->nbconvert>=6.4.4->jupyter-server) (0.5.1)\n",
      "Requirement already satisfied: pycparser in /home/tomoyan/pyJupyterLab/lib64/python3.11/site-packages (from cffi>=1.0.1->argon2-cffi-bindings->argon2-cffi->jupyter-server) (2.21)\n",
      "Requirement already satisfied: arrow>=0.15.0 in /home/tomoyan/pyJupyterLab/lib64/python3.11/site-packages (from isoduration->jsonschema[format-nongpl]>=3.2.0->jupyter-events>=0.4.0->jupyter-server) (1.2.3)\n",
      "Installing collected packages: jupyter_client, jupyter-server\n",
      "  Attempting uninstall: jupyter_client\n",
      "    Found existing installation: jupyter_client 7.4.1\n",
      "    Uninstalling jupyter_client-7.4.1:\n",
      "      Successfully uninstalled jupyter_client-7.4.1\n",
      "  Attempting uninstall: jupyter-server\n",
      "    Found existing installation: jupyter-server 1.24.0\n",
      "    Uninstalling jupyter-server-1.24.0:\n",
      "      Successfully uninstalled jupyter-server-1.24.0\n",
      "\u001b[31mERROR: pip's dependency resolver does not currently take into account all the packages that are installed. This behaviour is the source of the following dependency conflicts.\n",
      "jupyterlab 3.6.3 requires jupyter-ydoc~=0.2.3, which is not installed.\n",
      "voila 0.4.0 requires jupyter-client<=7.4.1,>=6.1.3, but you have jupyter-client 8.2.0 which is incompatible.\n",
      "voila 0.4.0 requires jupyter-server<2.0.0,>=1.18, but you have jupyter-server 2.5.0 which is incompatible.\u001b[0m\u001b[31m\n",
      "\u001b[0mSuccessfully installed jupyter-server-2.5.0 jupyter_client-8.2.0\n",
      "CPU times: user 1 s, sys: 185 ms, total: 1.19 s\n",
      "Wall time: 35.9 s\n"
     ]
    }
   ],
   "source": [
    "%%time\n",
    "!pip list --outdated | sed 1,2d | cut -f 1 -d ' ' | xargs pip install --upgrade"
   ]
  },
  {
   "cell_type": "code",
   "execution_count": 1,
   "id": "054889c4-49df-41a7-bd84-b4f395b3e30b",
   "metadata": {
    "tags": []
   },
   "outputs": [
    {
     "name": "stdout",
     "output_type": "stream",
     "text": [
      "Found existing installation: jupyter-ydoc 1.0.2\n",
      "Uninstalling jupyter-ydoc-1.0.2:\n",
      "  Successfully uninstalled jupyter-ydoc-1.0.2\n"
     ]
    }
   ],
   "source": [
    "!pip uninstall jupyter-ydoc -y"
   ]
  }
 ],
 "metadata": {
  "kernelspec": {
   "display_name": "Python 3 (ipykernel)",
   "language": "python",
   "name": "python3"
  },
  "language_info": {
   "codemirror_mode": {
    "name": "ipython",
    "version": 3
   },
   "file_extension": ".py",
   "mimetype": "text/x-python",
   "name": "python",
   "nbconvert_exporter": "python",
   "pygments_lexer": "ipython3",
   "version": "3.11.2"
  }
 },
 "nbformat": 4,
 "nbformat_minor": 5
}
