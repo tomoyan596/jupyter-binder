{
 "cells": [
  {
   "cell_type": "code",
   "execution_count": 1,
   "id": "ff9fda35-57ba-4b1a-ac25-68b2dbfbdeee",
   "metadata": {},
   "outputs": [
    {
     "name": "stdout",
     "output_type": "stream",
     "text": [
      "/tmp/nodenv.20210716154630.1561436 ~\n",
      "Cloning https://github.com/nodenv/nodenv.git master to nodenv...\n",
      "Cloning into 'nodenv'...\n",
      "remote: Enumerating objects: 4021, done.\u001b[K\n",
      "remote: Counting objects: 100% (18/18), done.\u001b[K\n",
      "remote: Compressing objects: 100% (17/17), done.\u001b[K\n",
      "remote: Total 4021 (delta 5), reused 4 (delta 1), pack-reused 4003\u001b[K\n",
      "Receiving objects: 100% (4021/4021), 732.74 KiB | 5.91 MiB/s, done.\n",
      "Resolving deltas: 100% (2636/2636), done.\n",
      "~\n",
      "~/.anyenv/envs/nodenv/plugins ~\n",
      "Cloning https://github.com/nodenv/node-build.git master to node-build...\n",
      "Cloning into 'node-build'...\n",
      "remote: Enumerating objects: 20597, done.\u001b[K\n",
      "remote: Counting objects: 100% (373/373), done.\u001b[K\n",
      "remote: Compressing objects: 100% (205/205), done.\u001b[K\n",
      "remote: Total 20597 (delta 157), reused 292 (delta 139), pack-reused 20224\u001b[K\n",
      "Receiving objects: 100% (20597/20597), 3.67 MiB | 10.06 MiB/s, done.\n",
      "Resolving deltas: 100% (13059/13059), done.\n",
      "~\n",
      "~/.anyenv/envs/nodenv/plugins ~\n",
      "Cloning https://github.com/nodenv/nodenv-vars.git master to nodenv-vars...\n",
      "Cloning into 'nodenv-vars'...\n",
      "remote: Enumerating objects: 211, done.\u001b[K\n",
      "remote: Total 211 (delta 0), reused 0 (delta 0), pack-reused 211\u001b[K\n",
      "Receiving objects: 100% (211/211), 31.82 KiB | 3.98 MiB/s, done.\n",
      "Resolving deltas: 100% (76/76), done.\n",
      "~\n",
      "\n",
      "Install nodenv succeeded!\n",
      "Please reload your profile (exec $SHELL -l) or open a new session.\n"
     ]
    }
   ],
   "source": [
    "!anyenv install nodenv"
   ]
  },
  {
   "cell_type": "code",
   "execution_count": 2,
   "id": "451761f8-610b-4353-a11f-403f80315b20",
   "metadata": {},
   "outputs": [
    {
     "name": "stdout",
     "output_type": "stream",
     "text": [
      "nodenv 1.4.0+3.631d0b6\n",
      "Usage: nodenv <command> [<args>]\n",
      "\n",
      "Some useful nodenv commands are:\n",
      "   commands    List all available nodenv commands\n",
      "   local       Set or show the local application-specific Node version\n",
      "   global      Set or show the global Node version\n",
      "   shell       Set or show the shell-specific Node version\n",
      "   install     Install a Node version using node-build\n",
      "   uninstall   Uninstall a specific Node version\n",
      "   rehash      Rehash nodenv shims (run this after installing executables)\n",
      "   version     Show the current Node version and its origin\n",
      "   versions    List installed Node versions\n",
      "   which       Display the full path to an executable\n",
      "   whence      List all Node versions that contain the given executable\n",
      "\n",
      "See `nodenv help <command>' for information on a specific command.\n",
      "For full documentation, see: https://github.com/nodenv/nodenv#readme\n"
     ]
    }
   ],
   "source": [
    "!nodenv"
   ]
  },
  {
   "cell_type": "code",
   "execution_count": 3,
   "id": "e618f2d5-4428-41eb-99e8-aa43e2b88366",
   "metadata": {},
   "outputs": [
    {
     "name": "stdout",
     "output_type": "stream",
     "text": [
      "0.1.14\t\t\t\t0.1.15\t\t\t\t0.1.16\t\t\t\t0.1.17\n",
      "0.1.18\t\t\t\t0.1.19\t\t\t\t0.1.20\t\t\t\t0.1.21\n",
      "0.1.22\t\t\t\t0.1.23\t\t\t\t0.1.24\t\t\t\t0.1.25\n",
      "0.1.26\t\t\t\t0.1.27\t\t\t\t0.1.28\t\t\t\t0.1.29\n",
      "0.1.30\t\t\t\t0.1.31\t\t\t\t0.1.32\t\t\t\t0.1.33\n",
      "0.1.90\t\t\t\t0.1.91\t\t\t\t0.1.92\t\t\t\t0.1.93\n",
      "0.1.94\t\t\t\t0.1.95\t\t\t\t0.1.96\t\t\t\t0.1.97\n",
      "0.1.98\t\t\t\t0.1.99\t\t\t\t0.1.100\t\t\t\t0.1.101\n",
      "0.1.102\t\t\t\t0.1.103\t\t\t\t0.1.104\t\t\t\t0.2.0\n",
      "0.2.1\t\t\t\t0.2.2\t\t\t\t0.2.3\t\t\t\t0.2.4\n",
      "0.2.5\t\t\t\t0.2.6\t\t\t\t0.3.0\t\t\t\t0.3.1\n",
      "0.3.2\t\t\t\t0.3.3\t\t\t\t0.3.4\t\t\t\t0.3.5\n",
      "0.3.6\t\t\t\t0.3.7\t\t\t\t0.3.8\t\t\t\t0.4.0\n",
      "0.4.1\t\t\t\t0.4.2\t\t\t\t0.4.3\t\t\t\t0.4.4\n",
      "0.4.5\t\t\t\t0.4.6\t\t\t\t0.4.7\t\t\t\t0.4.8\n",
      "0.4.9\t\t\t\t0.4.10\t\t\t\t0.4.11\t\t\t\t0.4.12\n",
      "0.5.0\t\t\t\t0.5.1\t\t\t\t0.5.2\t\t\t\t0.5.3\n",
      "0.5.4\t\t\t\t0.5.5\t\t\t\t0.5.6\t\t\t\t0.5.7\n",
      "0.5.8\t\t\t\t0.5.9\t\t\t\t0.5.10\t\t\t\t0.6.0\n",
      "0.6.1\t\t\t\t0.6.2\t\t\t\t0.6.3\t\t\t\t0.6.4\n",
      "0.6.5\t\t\t\t0.6.6\t\t\t\t0.6.7\t\t\t\t0.6.8\n",
      "0.6.9\t\t\t\t0.6.10\t\t\t\t0.6.11\t\t\t\t0.6.12\n",
      "0.6.13\t\t\t\t0.6.14\t\t\t\t0.6.15\t\t\t\t0.6.16\n",
      "0.6.17\t\t\t\t0.6.18\t\t\t\t0.6.19\t\t\t\t0.6.20\n",
      "0.6.21\t\t\t\t0.7.0\t\t\t\t0.7.1\t\t\t\t0.7.2\n",
      "0.7.3\t\t\t\t0.7.4\t\t\t\t0.7.5\t\t\t\t0.7.6\n",
      "0.7.7\t\t\t\t0.7.8\t\t\t\t0.7.9\t\t\t\t0.7.10\n",
      "0.7.11\t\t\t\t0.7.12\t\t\t\t0.8.0\t\t\t\t0.8.1\n",
      "0.8.2\t\t\t\t0.8.3\t\t\t\t0.8.4\t\t\t\t0.8.5\n",
      "0.8.6\t\t\t\t0.8.7\t\t\t\t0.8.8\t\t\t\t0.8.9\n",
      "0.8.10\t\t\t\t0.8.11\t\t\t\t0.8.12\t\t\t\t0.8.13\n",
      "0.8.14\t\t\t\t0.8.15\t\t\t\t0.8.16\t\t\t\t0.8.17\n",
      "0.8.18\t\t\t\t0.8.19\t\t\t\t0.8.20\t\t\t\t0.8.21\n",
      "0.8.22\t\t\t\t0.8.23\t\t\t\t0.8.24\t\t\t\t0.8.25\n",
      "0.8.26\t\t\t\t0.8.27\t\t\t\t0.8.28\t\t\t\t0.9.0\n",
      "0.9.1\t\t\t\t0.9.2\t\t\t\t0.9.3\t\t\t\t0.9.4\n",
      "0.9.5\t\t\t\t0.9.6\t\t\t\t0.9.7\t\t\t\t0.9.8\n",
      "0.9.9\t\t\t\t0.9.10\t\t\t\t0.9.11\t\t\t\t0.9.12\n",
      "0.10.0\t\t\t\t0.10-dev\t\t\t0.10-next\t\t\t0.10.1\n",
      "0.10.2\t\t\t\t0.10.3\t\t\t\t0.10.4\t\t\t\t0.10.5\n",
      "0.10.6\t\t\t\t0.10.7\t\t\t\t0.10.8\t\t\t\t0.10.9\n",
      "0.10.10\t\t\t\t0.10.11\t\t\t\t0.10.12\t\t\t\t0.10.13\n",
      "0.10.14\t\t\t\t0.10.15\t\t\t\t0.10.16\t\t\t\t0.10.17\n",
      "0.10.18\t\t\t\t0.10.19\t\t\t\t0.10.20\t\t\t\t0.10.21\n",
      "0.10.22\t\t\t\t0.10.23\t\t\t\t0.10.24\t\t\t\t0.10.25\n",
      "0.10.26\t\t\t\t0.10.27\t\t\t\t0.10.28\t\t\t\t0.10.29\n",
      "0.10.30\t\t\t\t0.10.31\t\t\t\t0.10.32\t\t\t\t0.10.33\n",
      "0.10.34\t\t\t\t0.10.35\t\t\t\t0.10.36\t\t\t\t0.10.37\n",
      "0.10.38\t\t\t\t0.10.39\t\t\t\t0.10.40\t\t\t\t0.10.41\n",
      "0.10.42\t\t\t\t0.10.43\t\t\t\t0.10.44\t\t\t\t0.10.45\n",
      "0.10.46\t\t\t\t0.10.47\t\t\t\t0.10.48\t\t\t\t0.11.0\n",
      "0.11.1\t\t\t\t0.11.2\t\t\t\t0.11.3\t\t\t\t0.11.4\n",
      "0.11.5\t\t\t\t0.11.6\t\t\t\t0.11.7\t\t\t\t0.11.8\n",
      "0.11.9\t\t\t\t0.11.10\t\t\t\t0.11.11\t\t\t\t0.11.12\n",
      "0.11.13\t\t\t\t0.11.14\t\t\t\t0.11.15\t\t\t\t0.11.16\n",
      "0.12.0\t\t\t\t0.12-dev\t\t\t0.12-next\t\t\t0.12.1\n",
      "0.12.2\t\t\t\t0.12.3\t\t\t\t0.12.4\t\t\t\t0.12.5\n",
      "0.12.6\t\t\t\t0.12.7\t\t\t\t0.12.8\t\t\t\t0.12.9\n",
      "0.12.10\t\t\t\t0.12.11\t\t\t\t0.12.12\t\t\t\t0.12.13\n",
      "0.12.14\t\t\t\t0.12.15\t\t\t\t0.12.16\t\t\t\t0.12.17\n",
      "0.12.18\t\t\t\t4.0.0\t\t\t\t4.x-dev\t\t\t\t4.x-next\n",
      "4.1.0\t\t\t\t4.1.1\t\t\t\t4.1.2\t\t\t\t4.2.0\n",
      "4.2.1\t\t\t\t4.2.2\t\t\t\t4.2.3\t\t\t\t4.2.4\n",
      "4.2.5\t\t\t\t4.2.6\t\t\t\t4.3.0\t\t\t\t4.3.1\n",
      "4.3.2\t\t\t\t4.4.0\t\t\t\t4.4.1\t\t\t\t4.4.2\n",
      "4.4.3\t\t\t\t4.4.4\t\t\t\t4.4.5\t\t\t\t4.4.6\n",
      "4.4.7\t\t\t\t4.5.0\t\t\t\t4.6.0\t\t\t\t4.6.1\n",
      "4.6.2\t\t\t\t4.7.0\t\t\t\t4.7.1\t\t\t\t4.7.2\n",
      "4.7.3\t\t\t\t4.8.0\t\t\t\t4.8.1\t\t\t\t4.8.2\n",
      "4.8.3\t\t\t\t4.8.4\t\t\t\t4.8.5\t\t\t\t4.8.6\n",
      "4.8.7\t\t\t\t4.9.0\t\t\t\t4.9.1\t\t\t\t5.0.0\n",
      "5.x-next\t\t\t5.1.0\t\t\t\t5.1.1\t\t\t\t5.2.0\n",
      "5.3.0\t\t\t\t5.4.0\t\t\t\t5.4.1\t\t\t\t5.5.0\n",
      "5.6.0\t\t\t\t5.7.0\t\t\t\t5.7.1\t\t\t\t5.8.0\n",
      "5.9.0\t\t\t\t5.9.1\t\t\t\t5.10.0\t\t\t\t5.10.1\n",
      "5.11.0\t\t\t\t5.11.1\t\t\t\t5.12.0\t\t\t\t6.0.0\n",
      "6.x-dev\t\t\t\t6.x-next\t\t\t6.1.0\t\t\t\t6.2.0\n",
      "6.2.1\t\t\t\t6.2.2\t\t\t\t6.3.0\t\t\t\t6.3.1\n",
      "6.4.0\t\t\t\t6.5.0\t\t\t\t6.6.0\t\t\t\t6.7.0\n",
      "6.8.0\t\t\t\t6.8.1\t\t\t\t6.9.0\t\t\t\t6.9.1\n",
      "6.9.2\t\t\t\t6.9.3\t\t\t\t6.9.4\t\t\t\t6.9.5\n",
      "6.10.0\t\t\t\t6.10.1\t\t\t\t6.10.2\t\t\t\t6.10.3\n",
      "6.11.0\t\t\t\t6.11.1\t\t\t\t6.11.2\t\t\t\t6.11.3\n",
      "6.11.4\t\t\t\t6.11.5\t\t\t\t6.12.0\t\t\t\t6.12.1\n",
      "6.12.2\t\t\t\t6.12.3\t\t\t\t6.13.0\t\t\t\t6.13.1\n",
      "6.14.0\t\t\t\t6.14.1\t\t\t\t6.14.2\t\t\t\t6.14.3\n",
      "6.14.4\t\t\t\t6.15.0\t\t\t\t6.15.1\t\t\t\t6.16.0\n",
      "6.17.0\t\t\t\t6.17.1\t\t\t\t7.0.0\t\t\t\t7.x-dev\n",
      "7.x-next\t\t\t7.1.0\t\t\t\t7.2.0\t\t\t\t7.2.1\n",
      "7.3.0\t\t\t\t7.4.0\t\t\t\t7.5.0\t\t\t\t7.6.0\n",
      "7.7.0\t\t\t\t7.7.1\t\t\t\t7.7.2\t\t\t\t7.7.3\n",
      "7.7.4\t\t\t\t7.8.0\t\t\t\t7.9.0\t\t\t\t7.10.0\n",
      "7.10.1\t\t\t\t8.0.0\t\t\t\t8.x-dev\t\t\t\t8.x-next\n",
      "8.1.0\t\t\t\t8.1.1\t\t\t\t8.1.2\t\t\t\t8.1.3\n",
      "8.1.4\t\t\t\t8.2.0\t\t\t\t8.2.1\t\t\t\t8.3.0\n",
      "8.4.0\t\t\t\t8.5.0\t\t\t\t8.6.0\t\t\t\t8.7.0\n",
      "8.8.0\t\t\t\t8.8.1\t\t\t\t8.9.0\t\t\t\t8.9.1\n",
      "8.9.2\t\t\t\t8.9.3\t\t\t\t8.9.4\t\t\t\t8.10.0\n",
      "8.11.0\t\t\t\t8.11.1\t\t\t\t8.11.2\t\t\t\t8.11.3\n",
      "8.11.4\t\t\t\t8.12.0\t\t\t\t8.13.0\t\t\t\t8.14.0\n",
      "8.14.1\t\t\t\t8.15.0\t\t\t\t8.15.1\t\t\t\t8.16.0\n",
      "8.16.1\t\t\t\t8.16.2\t\t\t\t8.17.0\t\t\t\t9.0.0\n",
      "9.x-dev\t\t\t\t9.x-next\t\t\t9.1.0\t\t\t\t9.2.0\n",
      "9.2.1\t\t\t\t9.3.0\t\t\t\t9.4.0\t\t\t\t9.5.0\n",
      "9.6.0\t\t\t\t9.6.1\t\t\t\t9.7.0\t\t\t\t9.7.1\n",
      "9.8.0\t\t\t\t9.9.0\t\t\t\t9.10.0\t\t\t\t9.10.1\n",
      "9.11.0\t\t\t\t9.11.1\t\t\t\t9.11.2\t\t\t\t10.0.0\n",
      "10.x-dev\t\t\t10.x-next\t\t\t10.1.0\t\t\t\t10.2.0\n",
      "10.2.1\t\t\t\t10.3.0\t\t\t\t10.4.0\t\t\t\t10.4.1\n",
      "10.5.0\t\t\t\t10.6.0\t\t\t\t10.7.0\t\t\t\t10.8.0\n",
      "10.9.0\t\t\t\t10.10.0\t\t\t\t10.11.0\t\t\t\t10.12.0\n",
      "10.13.0\t\t\t\t10.14.0\t\t\t\t10.14.1\t\t\t\t10.14.2\n",
      "10.15.0\t\t\t\t10.15.1\t\t\t\t10.15.2\t\t\t\t10.15.3\n",
      "10.16.0\t\t\t\t10.16.1\t\t\t\t10.16.2\t\t\t\t10.16.3\n",
      "10.17.0\t\t\t\t10.18.0\t\t\t\t10.18.1\t\t\t\t10.19.0\n",
      "10.20.0\t\t\t\t10.20.1\t\t\t\t10.21.0\t\t\t\t10.22.0\n",
      "10.22.1\t\t\t\t10.23.0\t\t\t\t10.23.1\t\t\t\t10.23.2\n",
      "10.23.3\t\t\t\t10.24.0\t\t\t\t10.24.1\t\t\t\t11.0.0\n",
      "11.x-dev\t\t\t11.x-next\t\t\t11.1.0\t\t\t\t11.2.0\n",
      "11.3.0\t\t\t\t11.4.0\t\t\t\t11.5.0\t\t\t\t11.6.0\n",
      "11.7.0\t\t\t\t11.8.0\t\t\t\t11.9.0\t\t\t\t11.10.0\n",
      "11.10.1\t\t\t\t11.11.0\t\t\t\t11.12.0\t\t\t\t11.13.0\n",
      "11.14.0\t\t\t\t11.15.0\t\t\t\t12.0.0\t\t\t\t12.x-dev\n",
      "12.x-next\t\t\t12.1.0\t\t\t\t12.2.0\t\t\t\t12.3.0\n",
      "12.3.1\t\t\t\t12.4.0\t\t\t\t12.5.0\t\t\t\t12.6.0\n",
      "12.7.0\t\t\t\t12.8.0\t\t\t\t12.8.1\t\t\t\t12.9.0\n",
      "12.9.1\t\t\t\t12.10.0\t\t\t\t12.11.0\t\t\t\t12.11.1\n",
      "12.12.0\t\t\t\t12.13.0\t\t\t\t12.13.1\t\t\t\t12.14.0\n",
      "12.14.1\t\t\t\t12.15.0\t\t\t\t12.16.0\t\t\t\t12.16.1\n",
      "12.16.2\t\t\t\t12.16.3\t\t\t\t12.17.0\t\t\t\t12.18.0\n",
      "12.18.1\t\t\t\t12.18.2\t\t\t\t12.18.3\t\t\t\t12.18.4\n",
      "12.19.0\t\t\t\t12.19.1\t\t\t\t12.20.0\t\t\t\t12.20.1\n",
      "12.20.2\t\t\t\t12.21.0\t\t\t\t12.22.0\t\t\t\t12.22.1\n",
      "12.22.2\t\t\t\t12.22.3\t\t\t\t13.0.0\t\t\t\t13.x-dev\n",
      "13.x-next\t\t\t13.0.1\t\t\t\t13.1.0\t\t\t\t13.2.0\n",
      "13.3.0\t\t\t\t13.4.0\t\t\t\t13.5.0\t\t\t\t13.6.0\n",
      "13.7.0\t\t\t\t13.8.0\t\t\t\t13.9.0\t\t\t\t13.10.0\n",
      "13.10.1\t\t\t\t13.11.0\t\t\t\t13.12.0\t\t\t\t13.13.0\n",
      "13.14.0\t\t\t\t14.0.0\t\t\t\t14.x-dev\t\t\t14.x-next\n",
      "14.1.0\t\t\t\t14.2.0\t\t\t\t14.3.0\t\t\t\t14.4.0\n",
      "14.5.0\t\t\t\t14.6.0\t\t\t\t14.7.0\t\t\t\t14.8.0\n",
      "14.9.0\t\t\t\t14.10.0\t\t\t\t14.10.1\t\t\t\t14.11.0\n",
      "14.12.0\t\t\t\t14.13.0\t\t\t\t14.13.1\t\t\t\t14.14.0\n",
      "14.15.0\t\t\t\t14.15.1\t\t\t\t14.15.2\t\t\t\t14.15.3\n",
      "14.15.4\t\t\t\t14.15.5\t\t\t\t14.16.0\t\t\t\t14.16.1\n",
      "14.17.0\t\t\t\t14.17.1\t\t\t\t14.17.2\t\t\t\t14.17.3\n",
      "15.0.0\t\t\t\t15.0.1\t\t\t\t15.1.0\t\t\t\t15.2.0\n",
      "15.2.1\t\t\t\t15.3.0\t\t\t\t15.4.0\t\t\t\t15.5.0\n",
      "15.5.1\t\t\t\t15.6.0\t\t\t\t15.7.0\t\t\t\t15.8.0\n",
      "15.9.0\t\t\t\t15.10.0\t\t\t\t15.11.0\t\t\t\t15.12.0\n",
      "15.13.0\t\t\t\t15.14.0\t\t\t\t16.0.0\t\t\t\t16.1.0\n",
      "16.2.0\t\t\t\t16.3.0\t\t\t\t16.4.0\t\t\t\t16.4.1\n",
      "16.4.2\t\t\t\t16.5.0\t\t\t\tchakracore-dev\t\t\tchakracore-nightly\n",
      "chakracore-8.1.2\t\tchakracore-8.1.4\t\tchakracore-8.2.1\t\tchakracore-8.3.0\n",
      "chakracore-8.4.0\t\tchakracore-8.6.0\t\tchakracore-8.9.4\t\tchakracore-8.10.0\n",
      "chakracore-8.11.1\t\tchakracore-10.0.0\t\tchakracore-10.1.0\t\tchakracore-10.6.0\n",
      "chakracore-10.13.0\t\tgraal+ce-1.0.0-rc1\t\tgraal+ce-1.0.0-rc10\t\tgraal+ce-1.0.0-rc11\n",
      "graal+ce-1.0.0-rc12\t\tgraal+ce-1.0.0-rc13\t\tgraal+ce-1.0.0-rc14\t\tgraal+ce-1.0.0-rc15\n",
      "graal+ce-1.0.0-rc16\t\tgraal+ce-1.0.0-rc2\t\tgraal+ce-1.0.0-rc3\t\tgraal+ce-1.0.0-rc4\n",
      "graal+ce-1.0.0-rc5\t\tgraal+ce-1.0.0-rc6\t\tgraal+ce-1.0.0-rc7\t\tgraal+ce-1.0.0-rc8\n",
      "graal+ce-1.0.0-rc9\t\tgraal+ce-19.0.0\t\t\tgraal+ce-19.0.2\t\t\tgraal+ce-19.1.0\n",
      "graal+ce-19.1.1\t\t\tgraal+ce-19.2.0\t\t\tgraal+ce-19.2.0.1\t\tgraal+ce-19.2.0-dev-b01\n",
      "graal+ce-19.2.1\t\t\tgraal+ce_java11-19.3.0\t\tgraal+ce_java11-19.3.0.2\tgraal+ce_java8-19.3.0\n",
      "graal+ce_java8-19.3.0.2\t\tgraal+ce_java11-19.3.1\t\tgraal+ce_java8-19.3.1\t\tgraal+ce_java11-20.0.0\n",
      "graal+ce_java8-20.0.0\t\tiojs-0.12.0-dev\t\t\tiojs-1.0.0\t\t\tiojs-1.x-dev\n",
      "iojs-1.0.1\t\t\tiojs-1.0.2\t\t\tiojs-1.0.3\t\t\tiojs-1.0.4\n",
      "iojs-1.1.0\t\t\tiojs-1.2.0\t\t\tiojs-1.3.0\t\t\tiojs-1.4.1\n",
      "iojs-1.4.2\t\t\tiojs-1.4.3\t\t\tiojs-1.5.0\t\t\tiojs-1.5.1\n",
      "iojs-1.6.0\t\t\tiojs-1.6.1\t\t\tiojs-1.6.2\t\t\tiojs-1.6.3\n",
      "iojs-1.6.4\t\t\tiojs-1.7.1\t\t\tiojs-1.8.1\t\t\tiojs-1.8.2\n",
      "iojs-1.8.3\t\t\tiojs-1.8.4\t\t\tiojs-2.0.0\t\t\tiojs-2.0.1\n",
      "iojs-2.0.2\t\t\tiojs-2.1.0\t\t\tiojs-2.2.0\t\t\tiojs-2.2.1\n",
      "iojs-2.3.0\t\t\tiojs-2.3.1\t\t\tiojs-2.3.2\t\t\tiojs-2.3.3\n",
      "iojs-2.3.4\t\t\tiojs-2.4.0\t\t\tiojs-2.5.0\t\t\tiojs-3.0.0\n",
      "iojs-3.1.0\t\t\tiojs-3.2.0\t\t\tiojs-3.3.0\t\t\tiojs-3.3.1\n",
      "nightly\t\t\t\tnode-dev\t\t\trc\t\t\t\tv8-canary\n"
     ]
    }
   ],
   "source": [
    "!nodenv install --list | column -x -c 128"
   ]
  },
  {
   "cell_type": "code",
   "execution_count": 4,
   "id": "07ace836-0602-4ee8-9c20-294a78bb0da6",
   "metadata": {},
   "outputs": [
    {
     "name": "stdout",
     "output_type": "stream",
     "text": [
      "Downloading node-v16.5.0-linux-x64.tar.gz...\n",
      "-> https://nodejs.org/dist/v16.5.0/node-v16.5.0-linux-x64.tar.gz\n",
      "Installing node-v16.5.0-linux-x64...\n",
      "Installed node-v16.5.0-linux-x64 to /home/tomoyan/.anyenv/envs/nodenv/versions/16.5.0\n",
      "\n"
     ]
    }
   ],
   "source": [
    "!nodenv install 16.5.0"
   ]
  },
  {
   "cell_type": "code",
   "execution_count": 5,
   "id": "d0b94642-2a92-4a1a-bc77-d21e7fd4ba7e",
   "metadata": {},
   "outputs": [],
   "source": [
    "!nodenv rehash"
   ]
  },
  {
   "cell_type": "code",
   "execution_count": 6,
   "id": "5400555c-33da-4bc1-adc2-ed7df5d36810",
   "metadata": {},
   "outputs": [],
   "source": [
    "!nodenv global 16.5.0"
   ]
  },
  {
   "cell_type": "code",
   "execution_count": 7,
   "id": "07133686-c025-40a1-bf8f-e2a157c23bac",
   "metadata": {},
   "outputs": [
    {
     "name": "stdout",
     "output_type": "stream",
     "text": [
      "v16.5.0\n"
     ]
    }
   ],
   "source": [
    "!node -v"
   ]
  },
  {
   "cell_type": "code",
   "execution_count": null,
   "id": "99b98543-3592-44ad-a958-5c3989dd7bb5",
   "metadata": {},
   "outputs": [],
   "source": []
  }
 ],
 "metadata": {
  "kernelspec": {
   "display_name": "Python 3 (ipykernel)",
   "language": "python",
   "name": "python3"
  },
  "language_info": {
   "codemirror_mode": {
    "name": "ipython",
    "version": 3
   },
   "file_extension": ".py",
   "mimetype": "text/x-python",
   "name": "python",
   "nbconvert_exporter": "python",
   "pygments_lexer": "ipython3",
   "version": "3.9.6"
  }
 },
 "nbformat": 4,
 "nbformat_minor": 5
}
