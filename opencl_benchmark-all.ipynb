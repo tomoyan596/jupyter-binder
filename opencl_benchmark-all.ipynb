{
 "cells": [
  {
   "cell_type": "code",
   "execution_count": 1,
   "id": "425d5cb1",
   "metadata": {
    "collapsed": true,
    "jupyter": {
     "outputs_hidden": true
    },
    "tags": []
   },
   "outputs": [
    {
     "name": "stdout",
     "output_type": "stream",
     "text": [
      "Collecting pyopencl\n",
      "  Downloading pyopencl-2021.2.3-cp37-cp37m-manylinux_2_17_x86_64.manylinux2014_x86_64.whl (878 kB)\n",
      "\u001b[K     |████████████████████████████████| 878 kB 2.2 MB/s eta 0:00:01     |███████████▏                    | 307 kB 2.2 MB/s eta 0:00:01\n",
      "\u001b[?25hCollecting pytools>=2021.2.7\n",
      "  Downloading pytools-2021.2.7.tar.gz (63 kB)\n",
      "\u001b[K     |████████████████████████████████| 63 kB 2.3 MB/s eta 0:00:011\n",
      "\u001b[?25hCollecting appdirs>=1.4.0\n",
      "  Downloading appdirs-1.4.4-py2.py3-none-any.whl (9.6 kB)\n",
      "Collecting numpy\n",
      "  Downloading numpy-1.21.0-cp37-cp37m-manylinux_2_12_x86_64.manylinux2010_x86_64.whl (15.7 MB)\n",
      "\u001b[K     |████████████████████████████████| 15.7 MB 11.3 MB/s eta 0:00:01    |███████████████▊                | 7.7 MB 15.8 MB/s eta 0:00:01\n",
      "\u001b[?25hBuilding wheels for collected packages: pytools\n",
      "  Building wheel for pytools (setup.py) ... \u001b[?25ldone\n",
      "\u001b[?25h  Created wheel for pytools: filename=pytools-2021.2.7-py2.py3-none-any.whl size=60628 sha256=00e17d2e6990ab675b56dcbc3ce49da9d041b868db3b3b4c57c937b8c67c7462\n",
      "  Stored in directory: /home/jovyan/.cache/pip/wheels/3b/e6/1e/e2c110b06fec75aa257f96bc1cd525c212375ef8d7fb3435a4\n",
      "Successfully built pytools\n",
      "Installing collected packages: numpy, appdirs, pytools, pyopencl\n",
      "Successfully installed appdirs-1.4.4 numpy-1.21.0 pyopencl-2021.2.3 pytools-2021.2.7\n",
      "Note: you may need to restart the kernel to use updated packages.\n"
     ]
    }
   ],
   "source": [
    "pip install pyopencl"
   ]
  },
  {
   "cell_type": "code",
   "execution_count": 2,
   "id": "e5744920",
   "metadata": {},
   "outputs": [
    {
     "name": "stdout",
     "output_type": "stream",
     "text": [
      "Writing benchmark-all.py\n"
     ]
    }
   ],
   "source": [
    "%%file benchmark-all.py\n",
    "# example provided by Roger Pau Monn'e\n",
    " \n",
    "import pyopencl as cl\n",
    "import numpy\n",
    "import numpy.linalg as la\n",
    "import datetime\n",
    "from time import time\n",
    " \n",
    "a = numpy.random.rand(1000).astype(numpy.float32)\n",
    "b = numpy.random.rand(1000).astype(numpy.float32)\n",
    "c_result = numpy.empty_like(a)\n",
    " \n",
    "# Speed in normal CPU usage\n",
    "time1 = time()\n",
    "for i in range(1000):\n",
    "        for j in range(1000):\n",
    "                c_result[i] = a[i] + b[i]\n",
    "                c_result[i] = c_result[i] * (a[i] + b[i])\n",
    "                c_result[i] = c_result[i] * (a[i] / 2.0)\n",
    "time2 = time()\n",
    "print(\"Execution time of test without OpenCL: \", time2 - time1, \"s\")\n",
    " \n",
    " \n",
    "for platform in cl.get_platforms():\n",
    "    for device in platform.get_devices():\n",
    "        print(\"===============================================================\")\n",
    "        print(\"Platform name:\", platform.name)\n",
    "        print(\"Platform profile:\", platform.profile)\n",
    "        print(\"Platform vendor:\", platform.vendor)\n",
    "        print(\"Platform version:\", platform.version)\n",
    "        print(\"---------------------------------------------------------------\")\n",
    "        print(\"Device name:\", device.name)\n",
    "        print(\"Device type:\", cl.device_type.to_string(device.type))\n",
    "        print(\"Device memory: \", device.global_mem_size//1024//1024, 'MB')\n",
    "        print(\"Device max clock speed:\", device.max_clock_frequency, 'MHz')\n",
    "        print(\"Device compute units:\", device.max_compute_units)\n",
    " \n",
    "        # Simnple speed test\n",
    "        ctx = cl.Context([device])\n",
    "        queue = cl.CommandQueue(ctx, \n",
    "                properties=cl.command_queue_properties.PROFILING_ENABLE)\n",
    " \n",
    "        mf = cl.mem_flags\n",
    "        a_buf = cl.Buffer(ctx, mf.READ_ONLY | mf.COPY_HOST_PTR, hostbuf=a)\n",
    "        b_buf = cl.Buffer(ctx, mf.READ_ONLY | mf.COPY_HOST_PTR, hostbuf=b)\n",
    "        dest_buf = cl.Buffer(ctx, mf.WRITE_ONLY, b.nbytes)\n",
    " \n",
    "        prg = cl.Program(ctx, \"\"\"\n",
    "            __kernel void sum(__global const float *a,\n",
    "            __global const float *b, __global float *c)\n",
    "            {\n",
    "                int loop;\n",
    "                int gid = get_global_id(0);\n",
    "                for(loop=0; loop<1000;loop++)\n",
    "                {\n",
    "                    c[gid] = a[gid] + b[gid];\n",
    "                    c[gid] = c[gid] * (a[gid] + b[gid]);\n",
    "                    c[gid] = c[gid] * (a[gid] / 2.0);\n",
    "                }\n",
    "            }\n",
    "        \"\"\").build()\n",
    " \n",
    "        exec_evt = prg.sum(queue, a.shape, None, a_buf, b_buf, dest_buf)\n",
    "        exec_evt.wait()\n",
    "        elapsed = 1e-9*(exec_evt.profile.end - exec_evt.profile.start)\n",
    " \n",
    "        #print(\"Execution time of test: %g s\" % elapsed)\n",
    "        print(\"Execution time of test: %.10f s\" % elapsed)\n",
    " \n",
    "        c = numpy.empty_like(a)\n",
    "        #cl.enqueue_read_buffer(queue, dest_buf, c).wait()\n",
    "        cl.enqueue_copy(queue, c, dest_buf)\n",
    "        error = 0\n",
    "        for i in range(1000):\n",
    "                if c[i] != c_result[i]:\n",
    "                        error = 1\n",
    "        if error:\n",
    "                print(\"Results doesn't match!!\")\n",
    "        else:\n",
    "                print(\"Results OK\")\n"
   ]
  },
  {
   "cell_type": "code",
   "execution_count": 3,
   "id": "c459f3ee",
   "metadata": {},
   "outputs": [
    {
     "name": "stdout",
     "output_type": "stream",
     "text": [
      "Execution time of test without OpenCL:  5.014141798019409 s\n"
     ]
    },
    {
     "ename": "LogicError",
     "evalue": "clGetPlatformIDs failed: PLATFORM_NOT_FOUND_KHR",
     "output_type": "error",
     "traceback": [
      "\u001b[0;31m---------------------------------------------------------------------------\u001b[0m",
      "\u001b[0;31mLogicError\u001b[0m                                Traceback (most recent call last)",
      "\u001b[0;32m~/benchmark-all.py\u001b[0m in \u001b[0;36m<module>\u001b[0;34m\u001b[0m\n\u001b[1;32m     22\u001b[0m \u001b[0;34m\u001b[0m\u001b[0m\n\u001b[1;32m     23\u001b[0m \u001b[0;34m\u001b[0m\u001b[0m\n\u001b[0;32m---> 24\u001b[0;31m \u001b[0;32mfor\u001b[0m \u001b[0mplatform\u001b[0m \u001b[0;32min\u001b[0m \u001b[0mcl\u001b[0m\u001b[0;34m.\u001b[0m\u001b[0mget_platforms\u001b[0m\u001b[0;34m(\u001b[0m\u001b[0;34m)\u001b[0m\u001b[0;34m:\u001b[0m\u001b[0;34m\u001b[0m\u001b[0;34m\u001b[0m\u001b[0m\n\u001b[0m\u001b[1;32m     25\u001b[0m     \u001b[0;32mfor\u001b[0m \u001b[0mdevice\u001b[0m \u001b[0;32min\u001b[0m \u001b[0mplatform\u001b[0m\u001b[0;34m.\u001b[0m\u001b[0mget_devices\u001b[0m\u001b[0;34m(\u001b[0m\u001b[0;34m)\u001b[0m\u001b[0;34m:\u001b[0m\u001b[0;34m\u001b[0m\u001b[0;34m\u001b[0m\u001b[0m\n\u001b[1;32m     26\u001b[0m         \u001b[0mprint\u001b[0m\u001b[0;34m(\u001b[0m\u001b[0;34m\"===============================================================\"\u001b[0m\u001b[0;34m)\u001b[0m\u001b[0;34m\u001b[0m\u001b[0;34m\u001b[0m\u001b[0m\n",
      "\u001b[0;31mLogicError\u001b[0m: clGetPlatformIDs failed: PLATFORM_NOT_FOUND_KHR"
     ]
    }
   ],
   "source": [
    "%run benchmark-all.py"
   ]
  },
  {
   "cell_type": "code",
   "execution_count": null,
   "id": "66071e7e",
   "metadata": {},
   "outputs": [],
   "source": []
  }
 ],
 "metadata": {
  "kernelspec": {
   "display_name": "Python 3 (ipykernel)",
   "language": "python",
   "name": "python3"
  },
  "language_info": {
   "codemirror_mode": {
    "name": "ipython",
    "version": 3
   },
   "file_extension": ".py",
   "mimetype": "text/x-python",
   "name": "python",
   "nbconvert_exporter": "python",
   "pygments_lexer": "ipython3",
   "version": "3.11.2"
  }
 },
 "nbformat": 4,
 "nbformat_minor": 5
}
